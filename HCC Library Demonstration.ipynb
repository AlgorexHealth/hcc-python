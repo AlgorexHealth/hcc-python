{
 "cells": [
  {
   "cell_type": "markdown",
   "metadata": {
    "deletable": true,
    "editable": true
   },
   "source": [
    "# Algorex HCC Library\n",
    "This notebook provides a demonstration of the Algorex HCC library. In developing this library we priortized three main features:\n",
    "\n",
    "1. Return an accurate set of risk scores using the HCC Algorithim for all available models. \n",
    "2. Provide easy inputs so that the library can be integrated in a range of analytical or other applications. \n",
    "3. Give analyst/developer a rich interface into the underlying mechanics of the risk adjusment algorithim. Whether to the codes, their mappings, and their coefficients. \n"
   ]
  },
  {
   "cell_type": "code",
   "execution_count": 1,
   "metadata": {
    "collapsed": false,
    "deletable": true,
    "editable": true,
    "hide_input": false
   },
   "outputs": [
    {
     "data": {
      "text/html": [
       "\n",
       "    <div class=\"bk-root\">\n",
       "        <a href=\"http://bokeh.pydata.org\" target=\"_blank\" class=\"bk-logo bk-logo-small bk-logo-notebook\"></a>\n",
       "        <span id=\"01244efc-8f64-461b-9dcf-0c5f90590292\">Loading BokehJS ...</span>\n",
       "    </div>"
      ]
     },
     "metadata": {},
     "output_type": "display_data"
    },
    {
     "data": {
      "application/javascript": [
       "\n",
       "(function(global) {\n",
       "  function now() {\n",
       "    return new Date();\n",
       "  }\n",
       "\n",
       "  var force = true;\n",
       "\n",
       "  if (typeof (window._bokeh_onload_callbacks) === \"undefined\" || force === true) {\n",
       "    window._bokeh_onload_callbacks = [];\n",
       "    window._bokeh_is_loading = undefined;\n",
       "  }\n",
       "\n",
       "\n",
       "  \n",
       "  if (typeof (window._bokeh_timeout) === \"undefined\" || force === true) {\n",
       "    window._bokeh_timeout = Date.now() + 5000;\n",
       "    window._bokeh_failed_load = false;\n",
       "  }\n",
       "\n",
       "  var NB_LOAD_WARNING = {'data': {'text/html':\n",
       "     \"<div style='background-color: #fdd'>\\n\"+\n",
       "     \"<p>\\n\"+\n",
       "     \"BokehJS does not appear to have successfully loaded. If loading BokehJS from CDN, this \\n\"+\n",
       "     \"may be due to a slow or bad network connection. Possible fixes:\\n\"+\n",
       "     \"</p>\\n\"+\n",
       "     \"<ul>\\n\"+\n",
       "     \"<li>re-rerun `output_notebook()` to attempt to load from CDN again, or</li>\\n\"+\n",
       "     \"<li>use INLINE resources instead, as so:</li>\\n\"+\n",
       "     \"</ul>\\n\"+\n",
       "     \"<code>\\n\"+\n",
       "     \"from bokeh.resources import INLINE\\n\"+\n",
       "     \"output_notebook(resources=INLINE)\\n\"+\n",
       "     \"</code>\\n\"+\n",
       "     \"</div>\"}};\n",
       "\n",
       "  function display_loaded() {\n",
       "    if (window.Bokeh !== undefined) {\n",
       "      document.getElementById(\"01244efc-8f64-461b-9dcf-0c5f90590292\").textContent = \"BokehJS successfully loaded.\";\n",
       "    } else if (Date.now() < window._bokeh_timeout) {\n",
       "      setTimeout(display_loaded, 100)\n",
       "    }\n",
       "  }\n",
       "\n",
       "  function run_callbacks() {\n",
       "    window._bokeh_onload_callbacks.forEach(function(callback) { callback() });\n",
       "    delete window._bokeh_onload_callbacks\n",
       "    console.info(\"Bokeh: all callbacks have finished\");\n",
       "  }\n",
       "\n",
       "  function load_libs(js_urls, callback) {\n",
       "    window._bokeh_onload_callbacks.push(callback);\n",
       "    if (window._bokeh_is_loading > 0) {\n",
       "      console.log(\"Bokeh: BokehJS is being loaded, scheduling callback at\", now());\n",
       "      return null;\n",
       "    }\n",
       "    if (js_urls == null || js_urls.length === 0) {\n",
       "      run_callbacks();\n",
       "      return null;\n",
       "    }\n",
       "    console.log(\"Bokeh: BokehJS not loaded, scheduling load and callback at\", now());\n",
       "    window._bokeh_is_loading = js_urls.length;\n",
       "    for (var i = 0; i < js_urls.length; i++) {\n",
       "      var url = js_urls[i];\n",
       "      var s = document.createElement('script');\n",
       "      s.src = url;\n",
       "      s.async = false;\n",
       "      s.onreadystatechange = s.onload = function() {\n",
       "        window._bokeh_is_loading--;\n",
       "        if (window._bokeh_is_loading === 0) {\n",
       "          console.log(\"Bokeh: all BokehJS libraries loaded\");\n",
       "          run_callbacks()\n",
       "        }\n",
       "      };\n",
       "      s.onerror = function() {\n",
       "        console.warn(\"failed to load library \" + url);\n",
       "      };\n",
       "      console.log(\"Bokeh: injecting script tag for BokehJS library: \", url);\n",
       "      document.getElementsByTagName(\"head\")[0].appendChild(s);\n",
       "    }\n",
       "  };var element = document.getElementById(\"01244efc-8f64-461b-9dcf-0c5f90590292\");\n",
       "  if (element == null) {\n",
       "    console.log(\"Bokeh: ERROR: autoload.js configured with elementid '01244efc-8f64-461b-9dcf-0c5f90590292' but no matching script tag was found. \")\n",
       "    return false;\n",
       "  }\n",
       "\n",
       "  var js_urls = [\"https://cdn.pydata.org/bokeh/release/bokeh-0.12.4.min.js\", \"https://cdn.pydata.org/bokeh/release/bokeh-widgets-0.12.4.min.js\"];\n",
       "\n",
       "  var inline_js = [\n",
       "    function(Bokeh) {\n",
       "      Bokeh.set_log_level(\"info\");\n",
       "    },\n",
       "    \n",
       "    function(Bokeh) {\n",
       "      \n",
       "      document.getElementById(\"01244efc-8f64-461b-9dcf-0c5f90590292\").textContent = \"BokehJS is loading...\";\n",
       "    },\n",
       "    function(Bokeh) {\n",
       "      console.log(\"Bokeh: injecting CSS: https://cdn.pydata.org/bokeh/release/bokeh-0.12.4.min.css\");\n",
       "      Bokeh.embed.inject_css(\"https://cdn.pydata.org/bokeh/release/bokeh-0.12.4.min.css\");\n",
       "      console.log(\"Bokeh: injecting CSS: https://cdn.pydata.org/bokeh/release/bokeh-widgets-0.12.4.min.css\");\n",
       "      Bokeh.embed.inject_css(\"https://cdn.pydata.org/bokeh/release/bokeh-widgets-0.12.4.min.css\");\n",
       "    }\n",
       "  ];\n",
       "\n",
       "  function run_inline_js() {\n",
       "    \n",
       "    if ((window.Bokeh !== undefined) || (force === true)) {\n",
       "      for (var i = 0; i < inline_js.length; i++) {\n",
       "        inline_js[i](window.Bokeh);\n",
       "      }if (force === true) {\n",
       "        display_loaded();\n",
       "      }} else if (Date.now() < window._bokeh_timeout) {\n",
       "      setTimeout(run_inline_js, 100);\n",
       "    } else if (!window._bokeh_failed_load) {\n",
       "      console.log(\"Bokeh: BokehJS failed to load within specified timeout.\");\n",
       "      window._bokeh_failed_load = true;\n",
       "    } else if (force !== true) {\n",
       "      var cell = $(document.getElementById(\"01244efc-8f64-461b-9dcf-0c5f90590292\")).parents('.cell').data().cell;\n",
       "      cell.output_area.append_execute_result(NB_LOAD_WARNING)\n",
       "    }\n",
       "\n",
       "  }\n",
       "\n",
       "  if (window._bokeh_is_loading === 0) {\n",
       "    console.log(\"Bokeh: BokehJS loaded, going straight to plotting\");\n",
       "    run_inline_js();\n",
       "  } else {\n",
       "    load_libs(js_urls, function() {\n",
       "      console.log(\"Bokeh: BokehJS plotting callback run at\", now());\n",
       "      run_inline_js();\n",
       "    });\n",
       "  }\n",
       "}(this));"
      ]
     },
     "metadata": {},
     "output_type": "display_data"
    },
    {
     "name": "stdout",
     "output_type": "stream",
     "text": [
      "Done.\n"
     ]
    },
    {
     "data": {
      "text/plain": [
       "[]"
      ]
     },
     "execution_count": 1,
     "metadata": {},
     "output_type": "execute_result"
    }
   ],
   "source": [
    "from bokeh.plotting import figure, output_notebook, show, output_file\n",
    "from bokeh.palettes import Blues, BuGn, viridis, Paired, plasma, PuBuGn\n",
    "from bokeh.models import FixedTicker, FactorRange,Color,CustomJS, HoverTool,CategoricalAxis, LabelSet, Label, ColumnDataSource, widgets,CategoricalColorMapper,LinearInterpolator, LinearColorMapper, LogColorMapper\n",
    "from bokeh.models import (GMapPlot, GMapOptions, Range1d, PanTool, WheelZoomTool, BoxSelectTool, HoverTool,  ResetTool, ZoomInTool, ZoomOutTool)\n",
    "from bokeh.layouts import row, column, widgetbox\n",
    "from bokeh.models.glyphs import Patches, Line, Circle\n",
    "from bokeh.charts import Histogram, output_file, show, Bar, color,  Scatter\n",
    "from bokeh.resources import CDN\n",
    "import sklearn\n",
    "from sklearn.utils.validation import check_array\n",
    "import random\n",
    "import squarify\n",
    "import pandas as pd\n",
    "import numpy as np\n",
    "\n",
    "\n",
    "output_notebook()\n",
    "\n",
    "\n",
    "%load_ext sql\n",
    "%sql sqlite:///mit-poster.db\n",
    "%sql ATTACH '../jupyterdemo/claims.db' as mem;\n"
   ]
  },
  {
   "cell_type": "code",
   "execution_count": 2,
   "metadata": {
    "collapsed": false,
    "deletable": true,
    "editable": true,
    "hide_input": false
   },
   "outputs": [
    {
     "name": "stdout",
     "output_type": "stream",
     "text": [
      "bottom\n"
     ]
    }
   ],
   "source": [
    "import AlgorexCore as rex\n",
    "from hcc import *\n",
    "cvars= community_regression()"
   ]
  },
  {
   "cell_type": "markdown",
   "metadata": {
    "deletable": true,
    "editable": true
   },
   "source": [
    "## Loading Data\n",
    "For the use of the demonstration, we are using a deidentifed claims data warehouse embedded in this notebook for the tutorial. This simulates exactly how you can integrate this library with other data warehouses or databases. \n",
    "\n",
    "In the cell below, we are selecting the diagnosis codes for one patient in one year and then we select the same patient in the next year. \n",
    "\n"
   ]
  },
  {
   "cell_type": "code",
   "execution_count": 3,
   "metadata": {
    "collapsed": false,
    "deletable": true,
    "editable": true
   },
   "outputs": [
    {
     "name": "stdout",
     "output_type": "stream",
     "text": [
      "Done.\n",
      "Done.\n"
     ]
    }
   ],
   "source": [
    "yr1_diags = %sql SELECT DISTINCT Diagnosis  From diagnoses  where PatientID = '0220F11E0B2EC004' and ClaimFromDate like '2008%';\n",
    "yr2_diags = %sql SELECT DISTINCT Diagnosis  From diagnoses  where PatientID = '0220F11E0B2EC004' and ClaimFromDate like '2009%';"
   ]
  },
  {
   "cell_type": "markdown",
   "metadata": {
    "deletable": true,
    "editable": true,
    "variables": {
     "len(yr1_diags)": "203",
     "len(yr2_diags)": "216"
    }
   },
   "source": [
    "To load the data into the HCC library, you create beneficiary objects and add the diagnosis codes. Our example patient has **{{len(yr1_diags)}}** seperate diagnosis codes to be added in year 1 and **{{len(yr2_diags)}}** in year 2. \n",
    "\n",
    "The same use case can be used for whenever users have diagnosis codes from multiple sources such as from:\n",
    "* at-home assesments from a third-party\n",
    "* mined medical records\n",
    "* other sources based on outreach efforts.\n",
    "\n",
    "The library allows the developer/analyst to compare the output of the sources and compare the uplift(or downlift). \n",
    "\n",
    "Our example patient here is being named 'Jane'. \n"
   ]
  },
  {
   "cell_type": "code",
   "execution_count": 4,
   "metadata": {
    "collapsed": false,
    "deletable": true,
    "editable": true
   },
   "outputs": [],
   "source": [
    "jane = Beneficiary(hicno='0220F11E0B2EC004', sex='female', dob='19480601')\n",
    "jane_alt = Beneficiary(hicno='0220F11E0B2EC004', sex='male', dob='19480601')\n",
    "\n",
    "#antonio.add_diagnosis(Diagnosis(antonio,\"49320\",ICDType.NINE))\n",
    "\n",
    "\n",
    "for icd9 in yr1_diags:\n",
    "    code = icd9[0]\n",
    "    #print(type(code), code)\n",
    "    jane.add_diagnosis(Diagnosis(jane,code, int(ICDType.NINE)))\n",
    "\n",
    "for icd9 in yr1_diags + yr2_diags:\n",
    "    code = icd9[0]\n",
    "    #print(type(code), code)\n",
    "    jane.add_diagnosis(Diagnosis(jane_alt,code, int(ICDType.NINE)))"
   ]
  },
  {
   "cell_type": "markdown",
   "metadata": {
    "deletable": true,
    "editable": true
   },
   "source": [
    "The library can output scores across all of the CMS-HCC models including instituional, new enrollee, and community rated groups. For 2017, there will be nine seperate models and will update to allow for that. "
   ]
  },
  {
   "cell_type": "code",
   "execution_count": 5,
   "metadata": {
    "collapsed": false,
    "deletable": true,
    "editable": true
   },
   "outputs": [
    {
     "name": "stdout",
     "output_type": "stream",
     "text": [
      "X             | Score             \n",
      "--------------|-------------------\n",
      "institutional | 12.458000000000002\n",
      "community     | 17.212999999999994\n",
      "X             | Score             \n",
      "--------------|-------------------\n",
      "community     | 21.09             \n",
      "institutional | 14.851999999999997\n"
     ]
    }
   ],
   "source": [
    "beneficiary_has_hcc(jane, X)\n",
    "\n",
    "print(score(jane,X,Score))\n",
    "print(score(jane_alt,X,Score))"
   ]
  },
  {
   "cell_type": "markdown",
   "metadata": {
    "deletable": true,
    "editable": true
   },
   "source": [
    "## Understand the Mechanics\n",
    "\n",
    "Getting the score is just one data point, what about how that score worked? the HCC models consists over close to 190 disease categories and complex disease interactions. With our library, the analyst can access the underlying coefficients that are used for this patient. \n",
    "\n",
    "In the example below, we are using our sample patient 'Jane' and asking the system to obtain all the indicator variables this patient is eligible. We can also see all the parts that lead up to this score. \n",
    "\n",
    "![diagram](./diagram.png)\n",
    "\n",
    "The query below is based on this idea. Identify all indicators and underlying categories and codes that are true for this patient. "
   ]
  },
  {
   "cell_type": "code",
   "execution_count": 6,
   "metadata": {
    "collapsed": false,
    "deletable": true,
    "editable": true
   },
   "outputs": [
    {
     "name": "stdout",
     "output_type": "stream",
     "text": [
      "[('DIABETES_CHF', '9597', 9, 0.237), ('HCC170', '25003', 9, 0.363), ('HCC134', '496', 9, 0.617), ('CHF_COPD', '2512', 9, 0.255), ('COPD_CARD_RESP_FAIL', '2766', 9, 0.42), ('HCC186', 'V693', 9, 1.032), ('CHF_RENAL', '2761', 9, 0.201), ('HCC2', '40490', 9, 0.52), ('HCC21', '2767', 9, 0.653), ('HCC40', '8921', 9, 0.376), ('CHF_RENAL', '27652', 9, 0.201), ('HCC23', '27652', 9, 0.24), ('HCC29', '70715', 9, 0.313), ('HCC115', '7905', 9, 0.212), ('HCC111', '9058', 9, 0.388), ('CANCER_IMMUNE', '7891', 9, 1.101), ('HCC84', '2720', 9, 0.326), ('HCC2', '2639', 9, 0.52), ('HCC21', '5950', 9, 0.653), ('HCC84', '53081', 9, 0.326), ('HCC47', '5855', 9, 0.306), ('HCC2', 'V583', 9, 0.52), ('COPD_CARD_RESP_FAIL', '2989', 9, 0.42), ('HCC87', '78097', 9, 0.283), ('HCC106', '1101', 9, 1.313), ('HCC186', '7804', 9, 1.032), ('CANCER_IMMUNE', '8921', 9, 1.101), ('HCC75', '70705', 9, 0.281), ('HCC84', '27541', 9, 0.326), ('CANCER_IMMUNE', 'V4589', 9, 1.101)]\n"
     ]
    }
   ],
   "source": [
    "\n",
    "results = indicator(jane,CC) & beneficiary_icd(jane,ICD,Type)  & CC.in_(cvars) & coefficient(\"CE_\"+CC,Coef)   \n",
    "print(results[0:30])"
   ]
  },
  {
   "cell_type": "code",
   "execution_count": 7,
   "metadata": {
    "collapsed": false,
    "deletable": true,
    "editable": true,
    "hide_input": false
   },
   "outputs": [],
   "source": [
    "x = 0\n",
    "y = 0\n",
    "width = 40\n",
    "height = 40\n",
    "jane_coefs = indicator(jane,CC)  & CC.in_(cvars) & coefficient(\"CE_\"+CC,Coef)\n",
    "jane_coefs = sorted(jane_coefs,key= lambda val:  val[1], reverse=True)\n",
    "\n",
    "normed = squarify.normalize_sizes([value for name, value in jane_coefs], width, height)\n",
    "rects = squarify.squarify(normed, x, y, width, height)\n",
    "shapes = []\n",
    "annotations = []\n",
    "counter = 0\n",
    "for r in rects:\n",
    "    name, value = jane_coefs[counter]\n",
    "    shapes.append(\n",
    "        dict(\n",
    "            x0 = r['x'] + r['dx']/2 ,\n",
    "            y0 = r['y'] + r['dy']/2 , \n",
    "            width = r['dx'],\n",
    "            height = r['dy'],\n",
    "            color=random.choice(Paired[12]),\n",
    "            text=name,\n",
    "            score=value,\n",
    "            x1 = r['x'],\n",
    "            y1 = r['y']\n",
    "        ) \n",
    "    )\n",
    "    counter = counter + 1\n",
    "\n",
    "mapper = LinearColorMapper(palette=['#7fcdbb', '#41b6c4', '#1d91c0', '#225ea8', '#08589e'])\n",
    "\n",
    "r_data = ColumnDataSource(ColumnDataSource.from_df(pd.DataFrame.from_dict(shapes)))\n",
    "r_data.data['text'] = [rex.name_hcc(label) for label in r_data.data['text']]\n",
    "\n",
    "q = figure(x_range=Range1d(x, width), y_range=Range1d(y, height), title='Condition Contribution to Jane Risk Score in Year 1')\n",
    "q.rect( x='x0', y='y0', width='width', height='height', fill_color={'field':'score', 'transform':mapper},\n",
    "           line_alpha=1, line_color='#FFFFFF', source=r_data)\n",
    "q.text(x='x1', y='y1', text='text', source=r_data, x_offset=3, y_offset=1\n",
    "       , text_font_size='8pt')\n",
    "q.xaxis.visible = False\n",
    "q.yaxis.visible = False\n",
    "\n",
    "\n",
    "\n"
   ]
  },
  {
   "cell_type": "code",
   "execution_count": 8,
   "metadata": {
    "collapsed": false,
    "deletable": true,
    "editable": true
   },
   "outputs": [],
   "source": [
    "\n",
    "janealt_coefs = indicator(jane_alt,CC)  & CC.in_(cvars) & coefficient(\"CE_\"+CC,Coef)\n",
    "janealt_coefs = sorted(janealt_coefs,key= lambda val:  val[1], reverse=True)\n",
    "normed_alt = squarify.normalize_sizes([value for name, value in janealt_coefs], width, height)\n",
    "rects_alt = squarify.squarify(normed_alt, x, y, width, height)\n",
    "shapes_alt = []\n",
    "\n",
    "counter_alt = 0\n",
    "for r in rects_alt:\n",
    "    name, value = janealt_coefs[counter_alt]\n",
    "    shapes_alt.append(\n",
    "        dict(\n",
    "            x0 = r['x'] + r['dx']/2 ,\n",
    "            y0 = r['y'] + r['dy']/2 , \n",
    "            width = r['dx'],\n",
    "            height = r['dy'],\n",
    "            color=random.choice(Paired[12]),\n",
    "            text=name,\n",
    "            score=value,\n",
    "            x1 = r['x'],\n",
    "            y1 = r['y']\n",
    "        ) \n",
    "    )\n",
    "    counter_alt = counter_alt + 1\n",
    "\n",
    "z_data = ColumnDataSource(ColumnDataSource.from_df(pd.DataFrame.from_dict(shapes_alt)))\n",
    "z_data.data['text'] = [rex.name_hcc(label) for label in z_data.data['text']]\n",
    "\n",
    "z = figure(x_range=Range1d(x, width), y_range=Range1d(y, height), title=\"Condition Contribution to Risk Score for Jane over multiple years\")\n",
    "z.rect( x='x0', y='y0', width='width', height='height', fill_color={'field':'score', 'transform':mapper},\n",
    "           line_alpha=1, line_color='#FFFFFF', source=z_data)\n",
    "z.text(x='x1', y='y1', text='text', source=z_data, x_offset=3, y_offset=1\n",
    "       , text_font_size='8pt')\n",
    "z.xaxis.visible = False\n",
    "z.yaxis.visible = False\n",
    "\n",
    "\n",
    "\n",
    "\n"
   ]
  },
  {
   "cell_type": "code",
   "execution_count": 9,
   "metadata": {
    "collapsed": false,
    "deletable": true,
    "editable": true
   },
   "outputs": [
    {
     "data": {
      "text/html": [
       "\n",
       "\n",
       "    <div class=\"bk-root\">\n",
       "        <div class=\"bk-plotdiv\" id=\"1e3de1bb-0b53-4482-b696-2ee4e7d08a11\"></div>\n",
       "    </div>\n",
       "<script type=\"text/javascript\">\n",
       "  \n",
       "  (function(global) {\n",
       "    function now() {\n",
       "      return new Date();\n",
       "    }\n",
       "  \n",
       "    var force = false;\n",
       "  \n",
       "    if (typeof (window._bokeh_onload_callbacks) === \"undefined\" || force === true) {\n",
       "      window._bokeh_onload_callbacks = [];\n",
       "      window._bokeh_is_loading = undefined;\n",
       "    }\n",
       "  \n",
       "  \n",
       "    \n",
       "    if (typeof (window._bokeh_timeout) === \"undefined\" || force === true) {\n",
       "      window._bokeh_timeout = Date.now() + 0;\n",
       "      window._bokeh_failed_load = false;\n",
       "    }\n",
       "  \n",
       "    var NB_LOAD_WARNING = {'data': {'text/html':\n",
       "       \"<div style='background-color: #fdd'>\\n\"+\n",
       "       \"<p>\\n\"+\n",
       "       \"BokehJS does not appear to have successfully loaded. If loading BokehJS from CDN, this \\n\"+\n",
       "       \"may be due to a slow or bad network connection. Possible fixes:\\n\"+\n",
       "       \"</p>\\n\"+\n",
       "       \"<ul>\\n\"+\n",
       "       \"<li>re-rerun `output_notebook()` to attempt to load from CDN again, or</li>\\n\"+\n",
       "       \"<li>use INLINE resources instead, as so:</li>\\n\"+\n",
       "       \"</ul>\\n\"+\n",
       "       \"<code>\\n\"+\n",
       "       \"from bokeh.resources import INLINE\\n\"+\n",
       "       \"output_notebook(resources=INLINE)\\n\"+\n",
       "       \"</code>\\n\"+\n",
       "       \"</div>\"}};\n",
       "  \n",
       "    function display_loaded() {\n",
       "      if (window.Bokeh !== undefined) {\n",
       "        document.getElementById(\"1e3de1bb-0b53-4482-b696-2ee4e7d08a11\").textContent = \"BokehJS successfully loaded.\";\n",
       "      } else if (Date.now() < window._bokeh_timeout) {\n",
       "        setTimeout(display_loaded, 100)\n",
       "      }\n",
       "    }\n",
       "  \n",
       "    function run_callbacks() {\n",
       "      window._bokeh_onload_callbacks.forEach(function(callback) { callback() });\n",
       "      delete window._bokeh_onload_callbacks\n",
       "      console.info(\"Bokeh: all callbacks have finished\");\n",
       "    }\n",
       "  \n",
       "    function load_libs(js_urls, callback) {\n",
       "      window._bokeh_onload_callbacks.push(callback);\n",
       "      if (window._bokeh_is_loading > 0) {\n",
       "        console.log(\"Bokeh: BokehJS is being loaded, scheduling callback at\", now());\n",
       "        return null;\n",
       "      }\n",
       "      if (js_urls == null || js_urls.length === 0) {\n",
       "        run_callbacks();\n",
       "        return null;\n",
       "      }\n",
       "      console.log(\"Bokeh: BokehJS not loaded, scheduling load and callback at\", now());\n",
       "      window._bokeh_is_loading = js_urls.length;\n",
       "      for (var i = 0; i < js_urls.length; i++) {\n",
       "        var url = js_urls[i];\n",
       "        var s = document.createElement('script');\n",
       "        s.src = url;\n",
       "        s.async = false;\n",
       "        s.onreadystatechange = s.onload = function() {\n",
       "          window._bokeh_is_loading--;\n",
       "          if (window._bokeh_is_loading === 0) {\n",
       "            console.log(\"Bokeh: all BokehJS libraries loaded\");\n",
       "            run_callbacks()\n",
       "          }\n",
       "        };\n",
       "        s.onerror = function() {\n",
       "          console.warn(\"failed to load library \" + url);\n",
       "        };\n",
       "        console.log(\"Bokeh: injecting script tag for BokehJS library: \", url);\n",
       "        document.getElementsByTagName(\"head\")[0].appendChild(s);\n",
       "      }\n",
       "    };var element = document.getElementById(\"1e3de1bb-0b53-4482-b696-2ee4e7d08a11\");\n",
       "    if (element == null) {\n",
       "      console.log(\"Bokeh: ERROR: autoload.js configured with elementid '1e3de1bb-0b53-4482-b696-2ee4e7d08a11' but no matching script tag was found. \")\n",
       "      return false;\n",
       "    }\n",
       "  \n",
       "    var js_urls = [];\n",
       "  \n",
       "    var inline_js = [\n",
       "      function(Bokeh) {\n",
       "        (function() {\n",
       "          var fn = function() {\n",
       "            var docs_json = {\"8aea8a46-581d-43f7-9e43-7306273bfd39\":{\"roots\":{\"references\":[{\"attributes\":{\"plot\":{\"id\":\"f53bbcd5-5962-4a8f-bbe1-59b68a05b9bd\",\"subtype\":\"Figure\",\"type\":\"Plot\"}},\"id\":\"254bc303-71d8-4b1e-bd41-94edf2c00401\",\"type\":\"PanTool\"},{\"attributes\":{\"callback\":null,\"column_names\":[\"x0\",\"x1\",\"score\",\"text\",\"y1\",\"width\",\"index\",\"color\",\"height\",\"y0\"],\"data\":{\"color\":[\"#ffff99\",\"#e31a1c\",\"#cab2d6\",\"#ffff99\",\"#fdbf6f\",\"#cab2d6\",\"#a6cee3\",\"#e31a1c\",\"#ffff99\",\"#1f78b4\",\"#fdbf6f\",\"#fb9a99\",\"#a6cee3\",\"#e31a1c\",\"#a6cee3\",\"#b15928\",\"#fdbf6f\",\"#33a02c\",\"#a6cee3\",\"#6a3d9a\",\"#e31a1c\",\"#1f78b4\",\"#ff7f00\",\"#b2df8a\",\"#ff7f00\",\"#cab2d6\",\"#6a3d9a\",\"#cab2d6\",\"#a6cee3\",\"#cab2d6\",\"#ff7f00\"],\"height\":[20.045463938830338,10.853482124405868,9.101053936763794,10.052935134708074,10.052935134708074,10.052935134708074,7.941850359484875,7.941850359484875,7.941850359484875,7.941850359484875,8.152799766837727,7.638659241001113,6.2137554979682115,5.974266381667074,5.519084181159108,5.348390855968618,5.163473087012257,5.790550320440817,5.790550320440817,5.790550320440817,5.626596330398706,5.500761907674134,5.087305947293397,4.607088463751433,4.607088463751433,4.3375247770425736,4.3375247770425736,3.6578872677092993,3.612163676862933,3.731842131354341,3.538208813217891],\"index\":[0,1,2,3,4,5,6,7,8,9,10,11,12,13,14,15,16,17,18,19,20,21,22,23,24,25,26,27,28,29,30],\"score\":[2.425,1.313,1.101,1.078,1.071,1.032,0.653,0.634,0.617,0.609,0.555,0.52,0.423,0.42,0.388,0.376,0.363,0.361,0.344,0.326,0.313,0.306,0.283,0.283,0.281,0.276,0.255,0.24,0.237,0.212,0.201],\"text\":[\"Metastat\",\"Gangrene\",\"CANCER_I\",\"Hematolo\",\"HCC160\",\"Organ_Tr\",\"Malnutri\",\"SEPSIS_C\",\"Dialysis\",\"Artifica\",\"Graft_Im\",\"Septicem\",\"BJM_Infe\",\"COPD_CAR\",\"COPD\",\"Rheumato\",\"Hip_Frac\",\"CHF\",\"Diabetes\",\"Cardio-R\",\"Hepatiti\",\"Immunity\",\"IVD\",\"F65_69\",\"Myasthen\",\"Arrhythm\",\"CHF_COPD\",\"Endocrin\",\"DIABETES\",\"Pneumoco\",\"CHF_RENA\"],\"width\":[11.063100137174215,11.063100137174215,11.063100137174215,9.80634330466086,9.74266575073449,9.387890807430434,7.5192183089634845,7.300435540402525,7.104682536953247,7.012563476506527,6.225402268348855,6.225402268348855,6.225402268348855,6.429036921986433,6.429036921986433,6.429036921986433,6.429036921986433,5.701230167574266,5.432751184613704,5.148479320302523,5.087211474397806,5.087211474397806,5.087211474397806,5.617474331667076,5.577774866425613,5.818999583189419,5.3762496149032675,6.000150412910404,6.000150412910404,5.195098785182283,5.1950987851824895],\"x0\":[5.531550068587108,5.531550068587108,5.531550068587108,15.966271789504646,25.740776317202318,35.30605459628478,14.822709291655958,22.23253621633896,29.435095255016847,36.493718261746736,14.175801271348643,14.175801271348643,14.175801271348643,20.503020866516284,20.503020866516284,20.503020866516284,20.503020866516284,26.568154411296636,32.13514508739062,37.425760339848736,26.261145064708405,26.261145064708405,26.261145064708405,31.61348796774085,37.21111256678719,31.71425059350202,37.311875192548364,31.80482600836251,31.80482600836251,37.40245060740886,37.402450607408966],\"x1\":[0.0,0.0,0.0,11.063100137174215,20.869443441835074,30.612109192569562,11.063100137174215,18.5823184461377,25.882753986540223,32.98743652349347,11.063100137174215,11.063100137174215,11.063100137174215,17.28850240552307,17.28850240552307,17.28850240552307,17.28850240552307,23.717539327509503,29.41876949508377,34.85152067969747,23.717539327509503,23.717539327509503,23.717539327509503,28.80475080190731,34.422225133574386,28.80475080190731,34.62375038509673,28.80475080190731,28.80475080190731,34.80490121481772,34.80490121481772],\"y0\":[10.022731969415169,25.472205001033274,35.449473031618105,5.026467567354037,5.026467567354037,5.026467567354037,14.023860314450511,14.023860314450511,14.023860314450511,14.023860314450511,22.071185377611812,29.966914881531235,36.893122251015896,20.981918685026486,26.72859396643958,32.16233148500344,37.418263456493875,20.890060654413357,20.890060654413357,20.890060654413357,26.59863397983312,32.16231309886954,37.456347026353306,26.088880046509484,26.088880046509484,30.561186666906487,30.561186666906487,34.55889268928242,38.19391816156854,34.595870121104944,38.23089559339106],\"y1\":[0.0,20.045463938830338,30.898946063236206,0.0,0.0,0.0,10.052935134708074,10.052935134708074,10.052935134708074,10.052935134708074,17.99478549419295,26.147585261030677,33.78624450203179,17.99478549419295,23.969051875860025,29.488136057019133,34.83652691298775,17.99478549419295,17.99478549419295,17.99478549419295,23.78533581463377,29.411932145032473,34.912694052706605,23.78533581463377,23.78533581463377,28.3924242783852,28.3924242783852,32.729949055427774,36.38783632313707,32.729949055427774,36.461791186782115]}},\"id\":\"9c2d7bfa-20aa-4ae3-945a-6e9cd10a36ba\",\"type\":\"ColumnDataSource\"},{\"attributes\":{\"plot\":{\"id\":\"6737867f-7cf8-4339-89a4-89cfba906621\",\"subtype\":\"Figure\",\"type\":\"Plot\"}},\"id\":\"4e6a100a-d209-488b-ab19-5da2e3dbe7da\",\"type\":\"WheelZoomTool\"},{\"attributes\":{\"callback\":null,\"end\":40},\"id\":\"05543478-0da8-4738-a898-580ce3c411f2\",\"type\":\"Range1d\"},{\"attributes\":{\"bottom_units\":\"screen\",\"fill_alpha\":{\"value\":0.5},\"fill_color\":{\"value\":\"lightgrey\"},\"left_units\":\"screen\",\"level\":\"overlay\",\"line_alpha\":{\"value\":1.0},\"line_color\":{\"value\":\"black\"},\"line_dash\":[4,4],\"line_width\":{\"value\":2},\"plot\":null,\"render_mode\":\"css\",\"right_units\":\"screen\",\"top_units\":\"screen\"},\"id\":\"932cf58b-ecb8-4419-abdd-50021479e588\",\"type\":\"BoxAnnotation\"},{\"attributes\":{\"formatter\":{\"id\":\"dc8efe3b-79f6-4eca-a512-0548ef8eaf68\",\"type\":\"BasicTickFormatter\"},\"plot\":{\"id\":\"6737867f-7cf8-4339-89a4-89cfba906621\",\"subtype\":\"Figure\",\"type\":\"Plot\"},\"ticker\":{\"id\":\"4cf5515b-2657-4ae1-929b-9b11bccb25d6\",\"type\":\"BasicTicker\"},\"visible\":false},\"id\":\"98818990-471a-4413-8fff-de5a4d95a87b\",\"type\":\"LinearAxis\"},{\"attributes\":{},\"id\":\"faebbe67-5cdb-4656-bd38-eb7d0a3ef6ab\",\"type\":\"BasicTicker\"},{\"attributes\":{\"data_source\":{\"id\":\"7b1cc764-bd7a-44a2-a5a7-abd93430735a\",\"type\":\"ColumnDataSource\"},\"glyph\":{\"id\":\"be15c5be-6186-4a9f-8916-704a455f0fb5\",\"type\":\"Text\"},\"hover_glyph\":null,\"nonselection_glyph\":{\"id\":\"2f1dcfd7-1a2b-47a1-9f08-39e99d76f082\",\"type\":\"Text\"},\"selection_glyph\":null},\"id\":\"5885e966-53d0-4af4-b6ad-d4a42f6351fd\",\"type\":\"GlyphRenderer\"},{\"attributes\":{\"text_alpha\":{\"value\":0.1},\"text_color\":{\"value\":\"black\"},\"text_font_size\":{\"value\":\"8pt\"},\"x\":{\"field\":\"x1\"},\"x_offset\":{\"value\":3},\"y\":{\"field\":\"y1\"},\"y_offset\":{\"value\":1}},\"id\":\"2f1dcfd7-1a2b-47a1-9f08-39e99d76f082\",\"type\":\"Text\"},{\"attributes\":{\"callback\":null,\"end\":40},\"id\":\"a186d41d-65f4-4eda-9204-391a1dce99a4\",\"type\":\"Range1d\"},{\"attributes\":{},\"id\":\"dc8efe3b-79f6-4eca-a512-0548ef8eaf68\",\"type\":\"BasicTickFormatter\"},{\"attributes\":{\"data_source\":{\"id\":\"9c2d7bfa-20aa-4ae3-945a-6e9cd10a36ba\",\"type\":\"ColumnDataSource\"},\"glyph\":{\"id\":\"869031fd-4f0b-425f-a729-cef25f2b0aa8\",\"type\":\"Rect\"},\"hover_glyph\":null,\"nonselection_glyph\":{\"id\":\"379a3e44-fe18-4a8c-a13e-8846d492a64b\",\"type\":\"Rect\"},\"selection_glyph\":null},\"id\":\"31184e07-a0de-4e3f-8c3d-a456231a097b\",\"type\":\"GlyphRenderer\"},{\"attributes\":{\"overlay\":{\"id\":\"932cf58b-ecb8-4419-abdd-50021479e588\",\"type\":\"BoxAnnotation\"},\"plot\":{\"id\":\"f53bbcd5-5962-4a8f-bbe1-59b68a05b9bd\",\"subtype\":\"Figure\",\"type\":\"Plot\"}},\"id\":\"c438e5a3-092b-4051-a3ee-77c39aefb974\",\"type\":\"BoxZoomTool\"},{\"attributes\":{\"plot\":{\"id\":\"f53bbcd5-5962-4a8f-bbe1-59b68a05b9bd\",\"subtype\":\"Figure\",\"type\":\"Plot\"}},\"id\":\"9c191bc3-553c-40fa-bf6c-830e4f9a621a\",\"type\":\"ResetTool\"},{\"attributes\":{\"formatter\":{\"id\":\"6105f509-d25f-4edd-8452-333671330586\",\"type\":\"BasicTickFormatter\"},\"plot\":{\"id\":\"f53bbcd5-5962-4a8f-bbe1-59b68a05b9bd\",\"subtype\":\"Figure\",\"type\":\"Plot\"},\"ticker\":{\"id\":\"4a339b78-84b2-4a6e-b6e6-25435ac63422\",\"type\":\"BasicTicker\"},\"visible\":false},\"id\":\"f9a3b891-35cc-4a1a-8c71-bb0e400958b3\",\"type\":\"LinearAxis\"},{\"attributes\":{},\"id\":\"6105f509-d25f-4edd-8452-333671330586\",\"type\":\"BasicTickFormatter\"},{\"attributes\":{\"fill_alpha\":{\"value\":0.1},\"fill_color\":{\"value\":\"#1f77b4\"},\"height\":{\"field\":\"height\",\"units\":\"data\"},\"line_alpha\":{\"value\":0.1},\"line_color\":{\"value\":\"#1f77b4\"},\"width\":{\"field\":\"width\",\"units\":\"data\"},\"x\":{\"field\":\"x0\"},\"y\":{\"field\":\"y0\"}},\"id\":\"e7378dd8-6c26-4350-b5fb-ab34dfc524dc\",\"type\":\"Rect\"},{\"attributes\":{\"plot\":{\"id\":\"f53bbcd5-5962-4a8f-bbe1-59b68a05b9bd\",\"subtype\":\"Figure\",\"type\":\"Plot\"},\"ticker\":{\"id\":\"faebbe67-5cdb-4656-bd38-eb7d0a3ef6ab\",\"type\":\"BasicTicker\"}},\"id\":\"d78e294d-b78d-46bf-ac7f-ef4946a6b18d\",\"type\":\"Grid\"},{\"attributes\":{},\"id\":\"4a339b78-84b2-4a6e-b6e6-25435ac63422\",\"type\":\"BasicTicker\"},{\"attributes\":{\"plot\":null,\"text\":\"Condition Contribution to Jane Risk Score in Year 1\"},\"id\":\"9bf7fd64-4d51-4cd4-90f3-8d93e4a415a3\",\"type\":\"Title\"},{\"attributes\":{\"callback\":null,\"end\":40},\"id\":\"ff12b9ab-2f2d-4fa0-a3f8-62f94e8756bb\",\"type\":\"Range1d\"},{\"attributes\":{},\"id\":\"ff79a540-b294-4b46-9f89-0217936fe0b1\",\"type\":\"ToolEvents\"},{\"attributes\":{\"callback\":null,\"end\":40},\"id\":\"d2b40743-7710-43ba-93b0-66aff4fe9cfc\",\"type\":\"Range1d\"},{\"attributes\":{\"fill_color\":{\"field\":\"score\",\"transform\":{\"id\":\"215a3907-e665-4eb6-9c1b-409fb22af7a2\",\"type\":\"LinearColorMapper\"}},\"height\":{\"field\":\"height\",\"units\":\"data\"},\"line_color\":{\"value\":\"#FFFFFF\"},\"width\":{\"field\":\"width\",\"units\":\"data\"},\"x\":{\"field\":\"x0\"},\"y\":{\"field\":\"y0\"}},\"id\":\"869031fd-4f0b-425f-a729-cef25f2b0aa8\",\"type\":\"Rect\"},{\"attributes\":{},\"id\":\"7e462e41-ddac-45c7-8234-3aeadf287071\",\"type\":\"BasicTicker\"},{\"attributes\":{\"palette\":[\"#7fcdbb\",\"#41b6c4\",\"#1d91c0\",\"#225ea8\",\"#08589e\"]},\"id\":\"215a3907-e665-4eb6-9c1b-409fb22af7a2\",\"type\":\"LinearColorMapper\"},{\"attributes\":{\"callback\":null,\"column_names\":[\"x0\",\"x1\",\"score\",\"text\",\"y1\",\"width\",\"index\",\"color\",\"height\",\"y0\"],\"data\":{\"color\":[\"#1f78b4\",\"#6a3d9a\",\"#a6cee3\",\"#1f78b4\",\"#e31a1c\",\"#fb9a99\",\"#1f78b4\",\"#fb9a99\",\"#33a02c\",\"#a6cee3\",\"#ffff99\",\"#b15928\",\"#fb9a99\",\"#fdbf6f\",\"#fdbf6f\",\"#a6cee3\",\"#fdbf6f\",\"#ffff99\",\"#fb9a99\",\"#e31a1c\",\"#b15928\",\"#a6cee3\",\"#fb9a99\",\"#fb9a99\",\"#e31a1c\",\"#fdbf6f\",\"#1f78b4\",\"#b2df8a\",\"#cab2d6\",\"#33a02c\",\"#b2df8a\",\"#fdbf6f\",\"#1f78b4\",\"#1f78b4\",\"#b2df8a\",\"#cab2d6\",\"#b15928\",\"#33a02c\"],\"height\":[17.733089579524677,12.665447897623398,9.601462522851918,8.0370942812983,8.0370942812983,8.0370942812983,7.260587326120557,7.260587326120557,7.260587326120557,7.260587326120557,6.680156261581667,6.0878271349389586,6.0878271349389586,5.846507861121559,5.590507884892024,5.590507884892024,5.590507884892024,5.590507884892024,4.897482205824324,4.858715855910147,4.690728339615381,4.664884106339264,4.3422440558849935,4.3422440558849935,4.3422440558849935,4.996512906035864,4.917951382356055,4.855102163412208,5.052899257990403,5.052899257990403,5.052899257990403,5.050471083790182,4.666196110023537,4.186164850574744,4.186164850574744,5.530502343238976,2.838901929217114,2.6916004140218623],\"index\":[0,1,2,3,4,5,6,7,8,9,10,11,12,13,14,15,16,17,18,19,20,21,22,23,24,25,26,27,28,29,30,31,32,33,34,35,36,37],\"score\":[2.425,1.732,1.313,1.101,1.078,1.071,1.032,0.653,0.634,0.617,0.609,0.555,0.555,0.533,0.52,0.423,0.42,0.388,0.379,0.376,0.363,0.361,0.344,0.343,0.337,0.318,0.313,0.309,0.306,0.283,0.281,0.276,0.255,0.252,0.24,0.237,0.212,0.201],\"text\":[\"Metastat\",\"Respirat\",\"Gangrene\",\"CANCER_I\",\"Hematolo\",\"Ulcer_Ne\",\"Organ_Tr\",\"Malnutri\",\"SEPSIS_C\",\"Dialysis\",\"Artifica\",\"Parkinso\",\"Graft_Im\",\"Coma\",\"Septicem\",\"BJM_Infe\",\"COPD_CAR\",\"COPD\",\"Amputati\",\"Rheumato\",\"Hip_Frac\",\"CHF\",\"Diabetes\",\"HCC52\",\"Intestin\",\"Deppresi\",\"Hepatiti\",\"M65_69\",\"Immunity\",\"IVD\",\"Myasthen\",\"Arrhythm\",\"CHF_COPD\",\"Seizures\",\"Endocrin\",\"DIABETES\",\"Pneumoco\",\"CHF_RENA\"],\"width\":[10.10857010857011,10.10857010857011,10.10857010857011,10.126296710912095,9.914757360911208,9.850375819606588,10.506796882818682,6.648196089612982,6.4547569997161265,6.281679919282099,6.738962870707791,6.738962870707791,6.738962870707791,6.738962870707791,6.875661251156762,5.593085979306366,5.5534187028573845,5.130301087401584,5.720430792457066,5.720430792457066,5.720430792457066,5.720430792457066,5.8560746704327835,5.839051197553619,5.736910360278629,4.704597776218529,4.704597776218529,4.704597776218529,4.476547317616356,4.140074806815127,4.110816327615021,4.039611367625046,4.039611367625046,4.449862652996357,4.237964431425102,3.167715413858294,5.520111670563164,5.520111670563214],\"x0\":[5.054285054285055,5.054285054285055,5.054285054285055,15.171718464026156,25.192245499937812,35.07481209019671,15.361968549979451,23.93946503619528,30.490941580859833,36.859160040358944,13.478051543924005,13.478051543924005,13.478051543924005,13.478051543924005,20.285363604856283,26.519737220087848,32.09298956116972,37.434849456299204,19.707748375506434,19.707748375506434,19.707748375506434,19.707748375506434,25.496001106951358,31.343564040944557,37.131544819860686,24.92026265984423,24.92026265984423,24.92026265984423,29.510835206761673,33.81914626897741,37.944591836192494,29.292367231766015,29.292367231766015,33.537104242076715,37.881017784287444,32.89603062250769,37.239944164718416,37.23994416471844],\"x1\":[0.0,0.0,0.0,10.10857010857011,20.234866819482207,30.149624180393417,10.10857010857011,20.61536699138879,27.26356308100177,33.718320080717895,10.10857010857011,10.10857010857011,10.10857010857011,10.10857010857011,16.8475329792779,23.723194230434665,29.31628020974103,34.869698912598416,16.8475329792779,16.8475329792779,16.8475329792779,16.8475329792779,22.567963771734966,28.42403844216775,34.26308963972137,22.567963771734966,22.567963771734966,22.567963771734966,27.272561547953494,31.749108865569852,35.88918367238498,27.272561547953494,27.272561547953494,31.31217291557854,35.762035568574895,31.31217291557854,34.47988832943683,34.47988832943683],\"y0\":[8.866544789762338,24.065813528336378,35.199268738574034,4.01854714064915,4.01854714064915,4.01854714064915,11.667387944358579,11.667387944358579,11.667387944358579,11.667387944358579,18.63775973820969,25.021751436470005,31.10957857140896,37.076746069439224,18.09293554986487,18.09293554986487,18.09293554986487,18.09293554986487,23.336930595223045,28.21502962609028,32.98975172385305,37.667557946830364,23.05931152025338,23.05931152025338,23.05931152025338,27.728690001213806,32.68592214540977,37.5724489182939,27.756883177191078,27.756883177191078,27.756883177191078,32.80856834808137,37.66690194498823,32.37641523147365,32.37641523147365,37.23474882838051,35.88894862136958,38.65419979298907],\"y1\":[0.0,17.733089579524677,30.398537477148075,0.0,0.0,0.0,8.0370942812983,8.0370942812983,8.0370942812983,8.0370942812983,15.297681607418857,21.977837869000524,28.065665003939483,34.15349213887844,15.297681607418857,15.297681607418857,15.297681607418857,15.297681607418857,20.888189492310882,25.785671698135207,30.644387554045355,35.335115893660735,20.888189492310882,20.888189492310882,20.888189492310882,25.230433548195876,30.22694645423174,35.144897836587795,25.230433548195876,25.230433548195876,25.230433548195876,30.28333280618628,35.333803889976465,30.28333280618628,30.28333280618628,34.46949765676102,34.46949765676102,37.30839958597814]}},\"id\":\"7b1cc764-bd7a-44a2-a5a7-abd93430735a\",\"type\":\"ColumnDataSource\"},{\"attributes\":{},\"id\":\"d1b78c73-8a1a-4902-b9f6-5974a07d5504\",\"type\":\"BasicTickFormatter\"},{\"attributes\":{\"plot\":{\"id\":\"6737867f-7cf8-4339-89a4-89cfba906621\",\"subtype\":\"Figure\",\"type\":\"Plot\"}},\"id\":\"230ef52c-2eab-42f0-9177-440b3b49b67f\",\"type\":\"SaveTool\"},{\"attributes\":{\"below\":[{\"id\":\"98818990-471a-4413-8fff-de5a4d95a87b\",\"type\":\"LinearAxis\"}],\"left\":[{\"id\":\"f010570e-2923-4dca-9448-e60d870fcd58\",\"type\":\"LinearAxis\"}],\"renderers\":[{\"id\":\"98818990-471a-4413-8fff-de5a4d95a87b\",\"type\":\"LinearAxis\"},{\"id\":\"b0178116-5173-4198-8c10-11ef1aa207d6\",\"type\":\"Grid\"},{\"id\":\"f010570e-2923-4dca-9448-e60d870fcd58\",\"type\":\"LinearAxis\"},{\"id\":\"8b8eb2be-9fe0-437e-b7d0-ea7da8c999b7\",\"type\":\"Grid\"},{\"id\":\"4e836124-326d-48f0-845f-bf114d230b7a\",\"type\":\"BoxAnnotation\"},{\"id\":\"813afad3-6ed0-4287-8700-302895593dc1\",\"type\":\"GlyphRenderer\"},{\"id\":\"5885e966-53d0-4af4-b6ad-d4a42f6351fd\",\"type\":\"GlyphRenderer\"}],\"title\":{\"id\":\"0e3f1d2e-7a84-4317-b283-b06e4cc2f2ee\",\"type\":\"Title\"},\"tool_events\":{\"id\":\"7d8b3d22-0bcd-42a5-b043-cf2183f9f4c3\",\"type\":\"ToolEvents\"},\"toolbar\":{\"id\":\"ee4953d0-f904-46b7-92c4-33b1952bbeac\",\"type\":\"Toolbar\"},\"x_range\":{\"id\":\"05543478-0da8-4738-a898-580ce3c411f2\",\"type\":\"Range1d\"},\"y_range\":{\"id\":\"a186d41d-65f4-4eda-9204-391a1dce99a4\",\"type\":\"Range1d\"}},\"id\":\"6737867f-7cf8-4339-89a4-89cfba906621\",\"subtype\":\"Figure\",\"type\":\"Plot\"},{\"attributes\":{\"fill_alpha\":{\"value\":0.1},\"fill_color\":{\"value\":\"#1f77b4\"},\"height\":{\"field\":\"height\",\"units\":\"data\"},\"line_alpha\":{\"value\":0.1},\"line_color\":{\"value\":\"#1f77b4\"},\"width\":{\"field\":\"width\",\"units\":\"data\"},\"x\":{\"field\":\"x0\"},\"y\":{\"field\":\"y0\"}},\"id\":\"379a3e44-fe18-4a8c-a13e-8846d492a64b\",\"type\":\"Rect\"},{\"attributes\":{\"formatter\":{\"id\":\"3cf32805-0b1b-4da3-9f39-297568b71d4a\",\"type\":\"BasicTickFormatter\"},\"plot\":{\"id\":\"6737867f-7cf8-4339-89a4-89cfba906621\",\"subtype\":\"Figure\",\"type\":\"Plot\"},\"ticker\":{\"id\":\"7e462e41-ddac-45c7-8234-3aeadf287071\",\"type\":\"BasicTicker\"},\"visible\":false},\"id\":\"f010570e-2923-4dca-9448-e60d870fcd58\",\"type\":\"LinearAxis\"},{\"attributes\":{\"dimension\":1,\"plot\":{\"id\":\"6737867f-7cf8-4339-89a4-89cfba906621\",\"subtype\":\"Figure\",\"type\":\"Plot\"},\"ticker\":{\"id\":\"7e462e41-ddac-45c7-8234-3aeadf287071\",\"type\":\"BasicTicker\"}},\"id\":\"8b8eb2be-9fe0-437e-b7d0-ea7da8c999b7\",\"type\":\"Grid\"},{\"attributes\":{\"plot\":{\"id\":\"f53bbcd5-5962-4a8f-bbe1-59b68a05b9bd\",\"subtype\":\"Figure\",\"type\":\"Plot\"}},\"id\":\"230d926a-8ee9-4ede-835f-ceb306aa79cc\",\"type\":\"WheelZoomTool\"},{\"attributes\":{\"overlay\":{\"id\":\"4e836124-326d-48f0-845f-bf114d230b7a\",\"type\":\"BoxAnnotation\"},\"plot\":{\"id\":\"6737867f-7cf8-4339-89a4-89cfba906621\",\"subtype\":\"Figure\",\"type\":\"Plot\"}},\"id\":\"9e802df0-1f66-41c5-ab36-849bb291814a\",\"type\":\"BoxZoomTool\"},{\"attributes\":{\"bottom_units\":\"screen\",\"fill_alpha\":{\"value\":0.5},\"fill_color\":{\"value\":\"lightgrey\"},\"left_units\":\"screen\",\"level\":\"overlay\",\"line_alpha\":{\"value\":1.0},\"line_color\":{\"value\":\"black\"},\"line_dash\":[4,4],\"line_width\":{\"value\":2},\"plot\":null,\"render_mode\":\"css\",\"right_units\":\"screen\",\"top_units\":\"screen\"},\"id\":\"4e836124-326d-48f0-845f-bf114d230b7a\",\"type\":\"BoxAnnotation\"},{\"attributes\":{\"plot\":{\"id\":\"6737867f-7cf8-4339-89a4-89cfba906621\",\"subtype\":\"Figure\",\"type\":\"Plot\"}},\"id\":\"738779d0-8429-411a-a807-0711283b46a4\",\"type\":\"PanTool\"},{\"attributes\":{\"plot\":{\"id\":\"6737867f-7cf8-4339-89a4-89cfba906621\",\"subtype\":\"Figure\",\"type\":\"Plot\"}},\"id\":\"aa67d4ad-aad7-437b-b409-ecfe54728e0a\",\"type\":\"HelpTool\"},{\"attributes\":{},\"id\":\"4cf5515b-2657-4ae1-929b-9b11bccb25d6\",\"type\":\"BasicTicker\"},{\"attributes\":{\"plot\":null,\"text\":\"Condition Contribution to Risk Score for Jane over multiple years\"},\"id\":\"0e3f1d2e-7a84-4317-b283-b06e4cc2f2ee\",\"type\":\"Title\"},{\"attributes\":{\"text_color\":{\"value\":\"black\"},\"text_font_size\":{\"value\":\"8pt\"},\"x\":{\"field\":\"x1\"},\"x_offset\":{\"value\":3},\"y\":{\"field\":\"y1\"},\"y_offset\":{\"value\":1}},\"id\":\"c3872df0-e3ba-4e4d-ac9b-340d4cf33492\",\"type\":\"Text\"},{\"attributes\":{\"plot\":{\"id\":\"f53bbcd5-5962-4a8f-bbe1-59b68a05b9bd\",\"subtype\":\"Figure\",\"type\":\"Plot\"}},\"id\":\"524ab0bb-da1b-4464-8c3d-1f650355c62d\",\"type\":\"SaveTool\"},{\"attributes\":{\"plot\":{\"id\":\"6737867f-7cf8-4339-89a4-89cfba906621\",\"subtype\":\"Figure\",\"type\":\"Plot\"}},\"id\":\"6a3f5554-8741-41f8-9190-b3d928057944\",\"type\":\"ResetTool\"},{\"attributes\":{\"formatter\":{\"id\":\"d1b78c73-8a1a-4902-b9f6-5974a07d5504\",\"type\":\"BasicTickFormatter\"},\"plot\":{\"id\":\"f53bbcd5-5962-4a8f-bbe1-59b68a05b9bd\",\"subtype\":\"Figure\",\"type\":\"Plot\"},\"ticker\":{\"id\":\"faebbe67-5cdb-4656-bd38-eb7d0a3ef6ab\",\"type\":\"BasicTicker\"},\"visible\":false},\"id\":\"2059ac27-3c87-4a5e-86b1-601f40bd0ec2\",\"type\":\"LinearAxis\"},{\"attributes\":{\"text_color\":{\"value\":\"black\"},\"text_font_size\":{\"value\":\"8pt\"},\"x\":{\"field\":\"x1\"},\"x_offset\":{\"value\":3},\"y\":{\"field\":\"y1\"},\"y_offset\":{\"value\":1}},\"id\":\"be15c5be-6186-4a9f-8916-704a455f0fb5\",\"type\":\"Text\"},{\"attributes\":{\"plot\":{\"id\":\"f53bbcd5-5962-4a8f-bbe1-59b68a05b9bd\",\"subtype\":\"Figure\",\"type\":\"Plot\"}},\"id\":\"9ac68d89-050b-4961-ba89-9162da6ad82b\",\"type\":\"HelpTool\"},{\"attributes\":{\"active_drag\":\"auto\",\"active_scroll\":\"auto\",\"active_tap\":\"auto\",\"tools\":[{\"id\":\"738779d0-8429-411a-a807-0711283b46a4\",\"type\":\"PanTool\"},{\"id\":\"4e6a100a-d209-488b-ab19-5da2e3dbe7da\",\"type\":\"WheelZoomTool\"},{\"id\":\"9e802df0-1f66-41c5-ab36-849bb291814a\",\"type\":\"BoxZoomTool\"},{\"id\":\"230ef52c-2eab-42f0-9177-440b3b49b67f\",\"type\":\"SaveTool\"},{\"id\":\"6a3f5554-8741-41f8-9190-b3d928057944\",\"type\":\"ResetTool\"},{\"id\":\"aa67d4ad-aad7-437b-b409-ecfe54728e0a\",\"type\":\"HelpTool\"}]},\"id\":\"ee4953d0-f904-46b7-92c4-33b1952bbeac\",\"type\":\"Toolbar\"},{\"attributes\":{},\"id\":\"3cf32805-0b1b-4da3-9f39-297568b71d4a\",\"type\":\"BasicTickFormatter\"},{\"attributes\":{\"active_drag\":\"auto\",\"active_scroll\":\"auto\",\"active_tap\":\"auto\",\"tools\":[{\"id\":\"254bc303-71d8-4b1e-bd41-94edf2c00401\",\"type\":\"PanTool\"},{\"id\":\"230d926a-8ee9-4ede-835f-ceb306aa79cc\",\"type\":\"WheelZoomTool\"},{\"id\":\"c438e5a3-092b-4051-a3ee-77c39aefb974\",\"type\":\"BoxZoomTool\"},{\"id\":\"524ab0bb-da1b-4464-8c3d-1f650355c62d\",\"type\":\"SaveTool\"},{\"id\":\"9c191bc3-553c-40fa-bf6c-830e4f9a621a\",\"type\":\"ResetTool\"},{\"id\":\"9ac68d89-050b-4961-ba89-9162da6ad82b\",\"type\":\"HelpTool\"}]},\"id\":\"4af61bac-4e81-4a58-848a-2f75825c4121\",\"type\":\"Toolbar\"},{\"attributes\":{\"text_alpha\":{\"value\":0.1},\"text_color\":{\"value\":\"black\"},\"text_font_size\":{\"value\":\"8pt\"},\"x\":{\"field\":\"x1\"},\"x_offset\":{\"value\":3},\"y\":{\"field\":\"y1\"},\"y_offset\":{\"value\":1}},\"id\":\"e7f3e83c-a673-4cd4-bfa7-2d4bcc67aa0b\",\"type\":\"Text\"},{\"attributes\":{\"data_source\":{\"id\":\"7b1cc764-bd7a-44a2-a5a7-abd93430735a\",\"type\":\"ColumnDataSource\"},\"glyph\":{\"id\":\"9d3832b9-ca70-4aec-8ff4-381dd49574fc\",\"type\":\"Rect\"},\"hover_glyph\":null,\"nonselection_glyph\":{\"id\":\"e7378dd8-6c26-4350-b5fb-ab34dfc524dc\",\"type\":\"Rect\"},\"selection_glyph\":null},\"id\":\"813afad3-6ed0-4287-8700-302895593dc1\",\"type\":\"GlyphRenderer\"},{\"attributes\":{\"plot\":{\"id\":\"6737867f-7cf8-4339-89a4-89cfba906621\",\"subtype\":\"Figure\",\"type\":\"Plot\"},\"ticker\":{\"id\":\"4cf5515b-2657-4ae1-929b-9b11bccb25d6\",\"type\":\"BasicTicker\"}},\"id\":\"b0178116-5173-4198-8c10-11ef1aa207d6\",\"type\":\"Grid\"},{\"attributes\":{},\"id\":\"7d8b3d22-0bcd-42a5-b043-cf2183f9f4c3\",\"type\":\"ToolEvents\"},{\"attributes\":{\"dimension\":1,\"plot\":{\"id\":\"f53bbcd5-5962-4a8f-bbe1-59b68a05b9bd\",\"subtype\":\"Figure\",\"type\":\"Plot\"},\"ticker\":{\"id\":\"4a339b78-84b2-4a6e-b6e6-25435ac63422\",\"type\":\"BasicTicker\"}},\"id\":\"035ccc7a-0dc7-48b6-8f8d-b064b7e26742\",\"type\":\"Grid\"},{\"attributes\":{\"below\":[{\"id\":\"2059ac27-3c87-4a5e-86b1-601f40bd0ec2\",\"type\":\"LinearAxis\"}],\"left\":[{\"id\":\"f9a3b891-35cc-4a1a-8c71-bb0e400958b3\",\"type\":\"LinearAxis\"}],\"renderers\":[{\"id\":\"2059ac27-3c87-4a5e-86b1-601f40bd0ec2\",\"type\":\"LinearAxis\"},{\"id\":\"d78e294d-b78d-46bf-ac7f-ef4946a6b18d\",\"type\":\"Grid\"},{\"id\":\"f9a3b891-35cc-4a1a-8c71-bb0e400958b3\",\"type\":\"LinearAxis\"},{\"id\":\"035ccc7a-0dc7-48b6-8f8d-b064b7e26742\",\"type\":\"Grid\"},{\"id\":\"932cf58b-ecb8-4419-abdd-50021479e588\",\"type\":\"BoxAnnotation\"},{\"id\":\"31184e07-a0de-4e3f-8c3d-a456231a097b\",\"type\":\"GlyphRenderer\"},{\"id\":\"ea4de723-211e-4f73-b93d-d1e1403c7d40\",\"type\":\"GlyphRenderer\"}],\"title\":{\"id\":\"9bf7fd64-4d51-4cd4-90f3-8d93e4a415a3\",\"type\":\"Title\"},\"tool_events\":{\"id\":\"ff79a540-b294-4b46-9f89-0217936fe0b1\",\"type\":\"ToolEvents\"},\"toolbar\":{\"id\":\"4af61bac-4e81-4a58-848a-2f75825c4121\",\"type\":\"Toolbar\"},\"x_range\":{\"id\":\"ff12b9ab-2f2d-4fa0-a3f8-62f94e8756bb\",\"type\":\"Range1d\"},\"y_range\":{\"id\":\"d2b40743-7710-43ba-93b0-66aff4fe9cfc\",\"type\":\"Range1d\"}},\"id\":\"f53bbcd5-5962-4a8f-bbe1-59b68a05b9bd\",\"subtype\":\"Figure\",\"type\":\"Plot\"},{\"attributes\":{\"fill_color\":{\"field\":\"score\",\"transform\":{\"id\":\"215a3907-e665-4eb6-9c1b-409fb22af7a2\",\"type\":\"LinearColorMapper\"}},\"height\":{\"field\":\"height\",\"units\":\"data\"},\"line_color\":{\"value\":\"#FFFFFF\"},\"width\":{\"field\":\"width\",\"units\":\"data\"},\"x\":{\"field\":\"x0\"},\"y\":{\"field\":\"y0\"}},\"id\":\"9d3832b9-ca70-4aec-8ff4-381dd49574fc\",\"type\":\"Rect\"},{\"attributes\":{\"children\":[{\"id\":\"f53bbcd5-5962-4a8f-bbe1-59b68a05b9bd\",\"subtype\":\"Figure\",\"type\":\"Plot\"},{\"id\":\"6737867f-7cf8-4339-89a4-89cfba906621\",\"subtype\":\"Figure\",\"type\":\"Plot\"}]},\"id\":\"daa7f36d-8fd6-4734-8230-e628ab68f578\",\"type\":\"Row\"},{\"attributes\":{\"data_source\":{\"id\":\"9c2d7bfa-20aa-4ae3-945a-6e9cd10a36ba\",\"type\":\"ColumnDataSource\"},\"glyph\":{\"id\":\"c3872df0-e3ba-4e4d-ac9b-340d4cf33492\",\"type\":\"Text\"},\"hover_glyph\":null,\"nonselection_glyph\":{\"id\":\"e7f3e83c-a673-4cd4-bfa7-2d4bcc67aa0b\",\"type\":\"Text\"},\"selection_glyph\":null},\"id\":\"ea4de723-211e-4f73-b93d-d1e1403c7d40\",\"type\":\"GlyphRenderer\"}],\"root_ids\":[\"daa7f36d-8fd6-4734-8230-e628ab68f578\"]},\"title\":\"Bokeh Application\",\"version\":\"0.12.4\"}};\n",
       "            var render_items = [{\"docid\":\"8aea8a46-581d-43f7-9e43-7306273bfd39\",\"elementid\":\"1e3de1bb-0b53-4482-b696-2ee4e7d08a11\",\"modelid\":\"daa7f36d-8fd6-4734-8230-e628ab68f578\"}];\n",
       "            \n",
       "            Bokeh.embed.embed_items(docs_json, render_items);\n",
       "          };\n",
       "          if (document.readyState != \"loading\") fn();\n",
       "          else document.addEventListener(\"DOMContentLoaded\", fn);\n",
       "        })();\n",
       "      },\n",
       "      function(Bokeh) {\n",
       "      }\n",
       "    ];\n",
       "  \n",
       "    function run_inline_js() {\n",
       "      \n",
       "      if ((window.Bokeh !== undefined) || (force === true)) {\n",
       "        for (var i = 0; i < inline_js.length; i++) {\n",
       "          inline_js[i](window.Bokeh);\n",
       "        }if (force === true) {\n",
       "          display_loaded();\n",
       "        }} else if (Date.now() < window._bokeh_timeout) {\n",
       "        setTimeout(run_inline_js, 100);\n",
       "      } else if (!window._bokeh_failed_load) {\n",
       "        console.log(\"Bokeh: BokehJS failed to load within specified timeout.\");\n",
       "        window._bokeh_failed_load = true;\n",
       "      } else if (force !== true) {\n",
       "        var cell = $(document.getElementById(\"1e3de1bb-0b53-4482-b696-2ee4e7d08a11\")).parents('.cell').data().cell;\n",
       "        cell.output_area.append_execute_result(NB_LOAD_WARNING)\n",
       "      }\n",
       "  \n",
       "    }\n",
       "  \n",
       "    if (window._bokeh_is_loading === 0) {\n",
       "      console.log(\"Bokeh: BokehJS loaded, going straight to plotting\");\n",
       "      run_inline_js();\n",
       "    } else {\n",
       "      load_libs(js_urls, function() {\n",
       "        console.log(\"Bokeh: BokehJS plotting callback run at\", now());\n",
       "        run_inline_js();\n",
       "      });\n",
       "    }\n",
       "  }(this));\n",
       "</script>"
      ]
     },
     "metadata": {},
     "output_type": "display_data"
    }
   ],
   "source": [
    "show(row(q,z))\n"
   ]
  },
  {
   "cell_type": "markdown",
   "metadata": {
    "deletable": true,
    "editable": true
   },
   "source": [
    "## Scaling Up\n",
    "\n",
    "So far we have been focused on doing this with only one patient but it is also possible for us to scale up the calculation (all the way to a full population). Here we will do 100 patients. "
   ]
  },
  {
   "cell_type": "code",
   "execution_count": 10,
   "metadata": {
    "collapsed": false,
    "deletable": true,
    "editable": true
   },
   "outputs": [
    {
     "name": "stdout",
     "output_type": "stream",
     "text": [
      "Done.\n"
     ]
    }
   ],
   "source": [
    "cohort_study = %sql \\\n",
    "    SELECT d.PatientID, p.SEX, p.DOB \\\n",
    "        from diagnoses d join mem.patients p\\\n",
    "                on d.PatientID = p.PATIENT_ID\\\n",
    "        group by PatientID,p.SEX, p.DOB\\\n",
    "        having COUNT(*) > 20\\\n",
    "        order by Count(*) desc\\\n",
    "        limit 100;"
   ]
  },
  {
   "cell_type": "code",
   "execution_count": 11,
   "metadata": {
    "collapsed": false,
    "deletable": true,
    "editable": true
   },
   "outputs": [],
   "source": [
    "def gender(l):\n",
    "    if l == 'M':\n",
    "        return 'male'\n",
    "    else:\n",
    "        return 'female'\n",
    "\n",
    "\n",
    "cohort_patients = [Beneficiary(hicno=row[0], sex=gender(row[1]), dob=str(row[2])) for row in cohort_study[1:]]\n"
   ]
  },
  {
   "cell_type": "code",
   "execution_count": 12,
   "metadata": {
    "collapsed": false,
    "deletable": true,
    "editable": true
   },
   "outputs": [
    {
     "name": "stdout",
     "output_type": "stream",
     "text": [
      "Done.\n"
     ]
    }
   ],
   "source": [
    "hicno = [pat.hicno for pat in cohort_patients]\n",
    "hicno = tuple(hicno)\n",
    "diags = %sql SELECT DISTINCT PatientID, Diagnosis from diagnoses where PatientID in $hicno\n",
    "diags = diags.DataFrame().set_index('PatientId')\n",
    "\n",
    "for pat in cohort_patients:\n",
    "    pat_diags = diags['Diagnosis'].loc[pat.hicno].tolist()\n",
    "    for code in pat_diags:\n",
    "        pat.add_diagnosis(Diagnosis(pat,code,ICDType.NINE))"
   ]
  },
  {
   "cell_type": "markdown",
   "metadata": {
    "deletable": true,
    "editable": true
   },
   "source": [
    "Here is the average score for this cohort. \n"
   ]
  },
  {
   "cell_type": "code",
   "execution_count": 13,
   "metadata": {
    "collapsed": false,
    "deletable": true,
    "editable": true
   },
   "outputs": [
    {
     "data": {
      "text/plain": [
       "17.087599999999998"
      ]
     },
     "execution_count": 13,
     "metadata": {},
     "output_type": "execute_result"
    }
   ],
   "source": [
    "cohort_score  = [score(pat,\"community\",Score)[0][0] for pat in cohort_patients[0:5]]\n",
    "np.mean(cohort_score)"
   ]
  },
  {
   "cell_type": "code",
   "execution_count": 16,
   "metadata": {
    "collapsed": false,
    "deletable": true,
    "editable": true
   },
   "outputs": [],
   "source": [
    "yt = []\n",
    "\n",
    "for pat in cohort_patients:\n",
    "    t = indicator(pat,CC)  & CC.in_(cvars) & coefficient(\"CE_\"+CC,Coef)\n",
    "    t = dict((x,y) for x, y in t)\n",
    "    yt.append(t)\n",
    "    \n"
   ]
  },
  {
   "cell_type": "code",
   "execution_count": 33,
   "metadata": {
    "collapsed": false
   },
   "outputs": [
    {
     "data": {
      "text/plain": [
       "array([14,  4, 45, 18,  6, 32, 43, 24,  5,  2, 95,  1, 50, 22, 10,  3, 61,\n",
       "       24,  6,  1,  3,  3,  6, 10,  9, 40, 12,  2,  6,  6, 16, 53, 46, 38,\n",
       "       43, 40, 48, 58, 27,  6, 62, 36, 22, 64, 20, 23,  7, 53,  3, 18, 40,\n",
       "       81, 81, 35, 12, 29, 56, 10, 12, 39, 47, 24,  7,  6, 18,  2,  4, 67,\n",
       "        4, 15, 36, 54, 59, 12, 39,  4, 34, 99, 24, 49, 11, 31, 96, 26])"
      ]
     },
     "execution_count": 33,
     "metadata": {},
     "output_type": "execute_result"
    }
   ],
   "source": [
    "c = pd.DataFrame(yt)\n",
    "c = c[[x for x in c.columns if x[0:2] == 'HC']].count()\n",
    "c.name = 'PatCounts'\n",
    "c.values"
   ]
  },
  {
   "cell_type": "code",
   "execution_count": 61,
   "metadata": {
    "collapsed": false
   },
   "outputs": [
    {
     "data": {
      "text/html": [
       "\n",
       "\n",
       "    <div class=\"bk-root\">\n",
       "        <div class=\"bk-plotdiv\" id=\"9df21742-321f-4119-bc89-15533c1d12cd\"></div>\n",
       "    </div>\n",
       "<script type=\"text/javascript\">\n",
       "  \n",
       "  (function(global) {\n",
       "    function now() {\n",
       "      return new Date();\n",
       "    }\n",
       "  \n",
       "    var force = false;\n",
       "  \n",
       "    if (typeof (window._bokeh_onload_callbacks) === \"undefined\" || force === true) {\n",
       "      window._bokeh_onload_callbacks = [];\n",
       "      window._bokeh_is_loading = undefined;\n",
       "    }\n",
       "  \n",
       "  \n",
       "    \n",
       "    if (typeof (window._bokeh_timeout) === \"undefined\" || force === true) {\n",
       "      window._bokeh_timeout = Date.now() + 0;\n",
       "      window._bokeh_failed_load = false;\n",
       "    }\n",
       "  \n",
       "    var NB_LOAD_WARNING = {'data': {'text/html':\n",
       "       \"<div style='background-color: #fdd'>\\n\"+\n",
       "       \"<p>\\n\"+\n",
       "       \"BokehJS does not appear to have successfully loaded. If loading BokehJS from CDN, this \\n\"+\n",
       "       \"may be due to a slow or bad network connection. Possible fixes:\\n\"+\n",
       "       \"</p>\\n\"+\n",
       "       \"<ul>\\n\"+\n",
       "       \"<li>re-rerun `output_notebook()` to attempt to load from CDN again, or</li>\\n\"+\n",
       "       \"<li>use INLINE resources instead, as so:</li>\\n\"+\n",
       "       \"</ul>\\n\"+\n",
       "       \"<code>\\n\"+\n",
       "       \"from bokeh.resources import INLINE\\n\"+\n",
       "       \"output_notebook(resources=INLINE)\\n\"+\n",
       "       \"</code>\\n\"+\n",
       "       \"</div>\"}};\n",
       "  \n",
       "    function display_loaded() {\n",
       "      if (window.Bokeh !== undefined) {\n",
       "        document.getElementById(\"9df21742-321f-4119-bc89-15533c1d12cd\").textContent = \"BokehJS successfully loaded.\";\n",
       "      } else if (Date.now() < window._bokeh_timeout) {\n",
       "        setTimeout(display_loaded, 100)\n",
       "      }\n",
       "    }\n",
       "  \n",
       "    function run_callbacks() {\n",
       "      window._bokeh_onload_callbacks.forEach(function(callback) { callback() });\n",
       "      delete window._bokeh_onload_callbacks\n",
       "      console.info(\"Bokeh: all callbacks have finished\");\n",
       "    }\n",
       "  \n",
       "    function load_libs(js_urls, callback) {\n",
       "      window._bokeh_onload_callbacks.push(callback);\n",
       "      if (window._bokeh_is_loading > 0) {\n",
       "        console.log(\"Bokeh: BokehJS is being loaded, scheduling callback at\", now());\n",
       "        return null;\n",
       "      }\n",
       "      if (js_urls == null || js_urls.length === 0) {\n",
       "        run_callbacks();\n",
       "        return null;\n",
       "      }\n",
       "      console.log(\"Bokeh: BokehJS not loaded, scheduling load and callback at\", now());\n",
       "      window._bokeh_is_loading = js_urls.length;\n",
       "      for (var i = 0; i < js_urls.length; i++) {\n",
       "        var url = js_urls[i];\n",
       "        var s = document.createElement('script');\n",
       "        s.src = url;\n",
       "        s.async = false;\n",
       "        s.onreadystatechange = s.onload = function() {\n",
       "          window._bokeh_is_loading--;\n",
       "          if (window._bokeh_is_loading === 0) {\n",
       "            console.log(\"Bokeh: all BokehJS libraries loaded\");\n",
       "            run_callbacks()\n",
       "          }\n",
       "        };\n",
       "        s.onerror = function() {\n",
       "          console.warn(\"failed to load library \" + url);\n",
       "        };\n",
       "        console.log(\"Bokeh: injecting script tag for BokehJS library: \", url);\n",
       "        document.getElementsByTagName(\"head\")[0].appendChild(s);\n",
       "      }\n",
       "    };var element = document.getElementById(\"9df21742-321f-4119-bc89-15533c1d12cd\");\n",
       "    if (element == null) {\n",
       "      console.log(\"Bokeh: ERROR: autoload.js configured with elementid '9df21742-321f-4119-bc89-15533c1d12cd' but no matching script tag was found. \")\n",
       "      return false;\n",
       "    }\n",
       "  \n",
       "    var js_urls = [];\n",
       "  \n",
       "    var inline_js = [\n",
       "      function(Bokeh) {\n",
       "        (function() {\n",
       "          var fn = function() {\n",
       "            var docs_json = {\"3487c2ba-c47b-45ca-8708-3cde639e177e\":{\"roots\":{\"references\":[{\"attributes\":{\"plot\":{\"id\":\"2918c237-86c4-489b-9922-4941208da9f6\",\"subtype\":\"Figure\",\"type\":\"Plot\"}},\"id\":\"ccb51906-a667-4f19-b2c1-378926eb43be\",\"type\":\"WheelZoomTool\"},{\"attributes\":{},\"id\":\"4bdd0fc1-b152-4817-803f-955340040a84\",\"type\":\"BasicTickFormatter\"},{\"attributes\":{\"axis_label_text_alpha\":{\"value\":0},\"formatter\":{\"id\":\"85adb0c9-a96f-4859-a575-1e20ea20a27b\",\"type\":\"CategoricalTickFormatter\"},\"major_label_text_alpha\":{\"value\":0},\"plot\":{\"id\":\"2918c237-86c4-489b-9922-4941208da9f6\",\"subtype\":\"Figure\",\"type\":\"Plot\"},\"ticker\":{\"id\":\"35e592e9-81da-4550-a8c5-8eebe9564eb1\",\"type\":\"CategoricalTicker\"}},\"id\":\"88bf93fa-963d-4e6f-9f24-2c6d034ad4af\",\"type\":\"CategoricalAxis\"},{\"attributes\":{\"data_source\":{\"id\":\"5640d595-cd20-439e-a1e6-9f20d2eb5e73\",\"type\":\"ColumnDataSource\"},\"glyph\":{\"id\":\"9d662013-9c89-47bf-b8dc-330d7a7bd969\",\"type\":\"Circle\"},\"hover_glyph\":null,\"nonselection_glyph\":{\"id\":\"f93fa9f6-a2af-4878-b8da-988c75f2b721\",\"type\":\"Circle\"},\"selection_glyph\":null},\"id\":\"0f920fce-9512-4d4b-beaa-4782fa701f87\",\"type\":\"GlyphRenderer\"},{\"attributes\":{},\"id\":\"a156507f-f253-4368-a818-4e613bf3f28e\",\"type\":\"BasicTicker\"},{\"attributes\":{\"fill_alpha\":{\"value\":0.1},\"fill_color\":{\"value\":\"#1f77b4\"},\"line_alpha\":{\"value\":0.1},\"line_color\":{\"value\":\"#1f77b4\"},\"size\":{\"field\":\"PatCounts\",\"units\":\"screen\"},\"x\":{\"field\":\"index\"},\"y\":{\"field\":\"PatCounts\"}},\"id\":\"f93fa9f6-a2af-4878-b8da-988c75f2b721\",\"type\":\"Circle\"},{\"attributes\":{\"callback\":null,\"factors\":[\"HCC1\",\"HCC10\",\"HCC100\",\"HCC103\",\"HCC104\",\"HCC106\",\"HCC107\",\"HCC108\",\"HCC11\",\"HCC110\",\"HCC111\",\"HCC112\",\"HCC114\",\"HCC115\",\"HCC122\",\"HCC124\",\"HCC134\",\"HCC135\",\"HCC136\",\"HCC137\",\"HCC138\",\"HCC139\",\"HCC157\",\"HCC158\",\"HCC159\",\"HCC160\",\"HCC161\",\"HCC162\",\"HCC166\",\"HCC167\",\"HCC169\",\"HCC17\",\"HCC170\",\"HCC173\",\"HCC176\",\"HCC18\",\"HCC186\",\"HCC188\",\"HCC189\",\"HCC19\",\"HCC2\",\"HCC21\",\"HCC22\",\"HCC23\",\"HCC27\",\"HCC28\",\"HCC29\",\"HCC33\",\"HCC34\",\"HCC35\",\"HCC39\",\"HCC40\",\"HCC46\",\"HCC47\",\"HCC48\",\"HCC51\",\"HCC52\",\"HCC54\",\"HCC55\",\"HCC57\",\"HCC58\",\"HCC6\",\"HCC70\",\"HCC71\",\"HCC72\",\"HCC73\",\"HCC74\",\"HCC75\",\"HCC76\",\"HCC77\",\"HCC78\",\"HCC79\",\"HCC8\",\"HCC80\",\"HCC82\",\"HCC83\",\"HCC84\",\"HCC85\",\"HCC86\",\"HCC87\",\"HCC88\",\"HCC9\",\"HCC96\",\"HCC99\"]},\"id\":\"49b9ceb5-2b67-462e-a9f7-ed40a30f52b0\",\"type\":\"FactorRange\"},{\"attributes\":{\"plot\":{\"id\":\"2918c237-86c4-489b-9922-4941208da9f6\",\"subtype\":\"Figure\",\"type\":\"Plot\"}},\"id\":\"502c486b-6c68-42b2-a371-16d06b0468c3\",\"type\":\"ResetTool\"},{\"attributes\":{\"callback\":null},\"id\":\"33d61279-4af1-4858-b70e-d483b2ce70d7\",\"type\":\"DataRange1d\"},{\"attributes\":{\"active_drag\":\"auto\",\"active_scroll\":\"auto\",\"active_tap\":\"auto\",\"tools\":[{\"id\":\"5ca1dcbd-5574-4c2e-963b-fc87e3e66261\",\"type\":\"PanTool\"},{\"id\":\"ccb51906-a667-4f19-b2c1-378926eb43be\",\"type\":\"WheelZoomTool\"},{\"id\":\"5b6ecfab-b219-4cf9-bb15-698152004029\",\"type\":\"BoxZoomTool\"},{\"id\":\"0932c76b-6ef4-4569-aa57-ae7c8df9eb2f\",\"type\":\"SaveTool\"},{\"id\":\"502c486b-6c68-42b2-a371-16d06b0468c3\",\"type\":\"ResetTool\"},{\"id\":\"fb36c9bc-6e36-4422-84a8-033b1b22088f\",\"type\":\"HelpTool\"}]},\"id\":\"529df1c6-2429-4b5c-a1d1-49d138eba291\",\"type\":\"Toolbar\"},{\"attributes\":{\"dimension\":1,\"plot\":{\"id\":\"2918c237-86c4-489b-9922-4941208da9f6\",\"subtype\":\"Figure\",\"type\":\"Plot\"},\"ticker\":{\"id\":\"a156507f-f253-4368-a818-4e613bf3f28e\",\"type\":\"BasicTicker\"},\"visible\":false},\"id\":\"56a75c53-4ca6-477d-9f5a-4f25f5f84a1f\",\"type\":\"Grid\"},{\"attributes\":{\"callback\":null,\"column_names\":[\"PatCounts\",\"index\"],\"data\":{\"PatCounts\":[14,4,45,18,6,32,43,24,5,2,95,1,50,22,10,3,61,24,6,1,3,3,6,10,9,40,12,2,6,6,16,53,46,38,43,40,48,58,27,6,62,36,22,64,20,23,7,53,3,18,40,81,81,35,12,29,56,10,12,39,47,24,7,6,18,2,4,67,4,15,36,54,59,12,39,4,34,99,24,49,11,31,96,26],\"index\":[\"HCC1\",\"HCC10\",\"HCC100\",\"HCC103\",\"HCC104\",\"HCC106\",\"HCC107\",\"HCC108\",\"HCC11\",\"HCC110\",\"HCC111\",\"HCC112\",\"HCC114\",\"HCC115\",\"HCC122\",\"HCC124\",\"HCC134\",\"HCC135\",\"HCC136\",\"HCC137\",\"HCC138\",\"HCC139\",\"HCC157\",\"HCC158\",\"HCC159\",\"HCC160\",\"HCC161\",\"HCC162\",\"HCC166\",\"HCC167\",\"HCC169\",\"HCC17\",\"HCC170\",\"HCC173\",\"HCC176\",\"HCC18\",\"HCC186\",\"HCC188\",\"HCC189\",\"HCC19\",\"HCC2\",\"HCC21\",\"HCC22\",\"HCC23\",\"HCC27\",\"HCC28\",\"HCC29\",\"HCC33\",\"HCC34\",\"HCC35\",\"HCC39\",\"HCC40\",\"HCC46\",\"HCC47\",\"HCC48\",\"HCC51\",\"HCC52\",\"HCC54\",\"HCC55\",\"HCC57\",\"HCC58\",\"HCC6\",\"HCC70\",\"HCC71\",\"HCC72\",\"HCC73\",\"HCC74\",\"HCC75\",\"HCC76\",\"HCC77\",\"HCC78\",\"HCC79\",\"HCC8\",\"HCC80\",\"HCC82\",\"HCC83\",\"HCC84\",\"HCC85\",\"HCC86\",\"HCC87\",\"HCC88\",\"HCC9\",\"HCC96\",\"HCC99\"]}},\"id\":\"5640d595-cd20-439e-a1e6-9f20d2eb5e73\",\"type\":\"ColumnDataSource\"},{\"attributes\":{},\"id\":\"b141042d-8d28-43ed-8e7b-1cf2fe9f2564\",\"type\":\"ToolEvents\"},{\"attributes\":{\"below\":[{\"id\":\"88bf93fa-963d-4e6f-9f24-2c6d034ad4af\",\"type\":\"CategoricalAxis\"}],\"left\":[{\"id\":\"af77b357-f0af-40a0-ab81-c864f43c32a4\",\"type\":\"LinearAxis\"}],\"renderers\":[{\"id\":\"88bf93fa-963d-4e6f-9f24-2c6d034ad4af\",\"type\":\"CategoricalAxis\"},{\"id\":\"94837876-6109-469c-b6c2-8e0f2f82a7d4\",\"type\":\"Grid\"},{\"id\":\"af77b357-f0af-40a0-ab81-c864f43c32a4\",\"type\":\"LinearAxis\"},{\"id\":\"56a75c53-4ca6-477d-9f5a-4f25f5f84a1f\",\"type\":\"Grid\"},{\"id\":\"f8958f62-f798-432e-8e30-865ccd282ff4\",\"type\":\"BoxAnnotation\"},{\"id\":\"0f920fce-9512-4d4b-beaa-4782fa701f87\",\"type\":\"GlyphRenderer\"}],\"title\":{\"id\":\"d19d3784-5892-4fad-a01e-a4528fbb2c9a\",\"type\":\"Title\"},\"tool_events\":{\"id\":\"b141042d-8d28-43ed-8e7b-1cf2fe9f2564\",\"type\":\"ToolEvents\"},\"toolbar\":{\"id\":\"529df1c6-2429-4b5c-a1d1-49d138eba291\",\"type\":\"Toolbar\"},\"x_range\":{\"id\":\"49b9ceb5-2b67-462e-a9f7-ed40a30f52b0\",\"type\":\"FactorRange\"},\"y_range\":{\"id\":\"33d61279-4af1-4858-b70e-d483b2ce70d7\",\"type\":\"DataRange1d\"}},\"id\":\"2918c237-86c4-489b-9922-4941208da9f6\",\"subtype\":\"Figure\",\"type\":\"Plot\"},{\"attributes\":{\"plot\":null,\"text\":\"\"},\"id\":\"d19d3784-5892-4fad-a01e-a4528fbb2c9a\",\"type\":\"Title\"},{\"attributes\":{},\"id\":\"85adb0c9-a96f-4859-a575-1e20ea20a27b\",\"type\":\"CategoricalTickFormatter\"},{\"attributes\":{\"plot\":{\"id\":\"2918c237-86c4-489b-9922-4941208da9f6\",\"subtype\":\"Figure\",\"type\":\"Plot\"}},\"id\":\"5ca1dcbd-5574-4c2e-963b-fc87e3e66261\",\"type\":\"PanTool\"},{\"attributes\":{\"plot\":{\"id\":\"2918c237-86c4-489b-9922-4941208da9f6\",\"subtype\":\"Figure\",\"type\":\"Plot\"}},\"id\":\"0932c76b-6ef4-4569-aa57-ae7c8df9eb2f\",\"type\":\"SaveTool\"},{\"attributes\":{\"plot\":{\"id\":\"2918c237-86c4-489b-9922-4941208da9f6\",\"subtype\":\"Figure\",\"type\":\"Plot\"},\"ticker\":{\"id\":\"35e592e9-81da-4550-a8c5-8eebe9564eb1\",\"type\":\"CategoricalTicker\"},\"visible\":false},\"id\":\"94837876-6109-469c-b6c2-8e0f2f82a7d4\",\"type\":\"Grid\"},{\"attributes\":{\"plot\":{\"id\":\"2918c237-86c4-489b-9922-4941208da9f6\",\"subtype\":\"Figure\",\"type\":\"Plot\"}},\"id\":\"fb36c9bc-6e36-4422-84a8-033b1b22088f\",\"type\":\"HelpTool\"},{\"attributes\":{\"bottom_units\":\"screen\",\"fill_alpha\":{\"value\":0.5},\"fill_color\":{\"value\":\"lightgrey\"},\"left_units\":\"screen\",\"level\":\"overlay\",\"line_alpha\":{\"value\":1.0},\"line_color\":{\"value\":\"black\"},\"line_dash\":[4,4],\"line_width\":{\"value\":2},\"plot\":null,\"render_mode\":\"css\",\"right_units\":\"screen\",\"top_units\":\"screen\"},\"id\":\"f8958f62-f798-432e-8e30-865ccd282ff4\",\"type\":\"BoxAnnotation\"},{\"attributes\":{\"overlay\":{\"id\":\"f8958f62-f798-432e-8e30-865ccd282ff4\",\"type\":\"BoxAnnotation\"},\"plot\":{\"id\":\"2918c237-86c4-489b-9922-4941208da9f6\",\"subtype\":\"Figure\",\"type\":\"Plot\"}},\"id\":\"5b6ecfab-b219-4cf9-bb15-698152004029\",\"type\":\"BoxZoomTool\"},{\"attributes\":{},\"id\":\"35e592e9-81da-4550-a8c5-8eebe9564eb1\",\"type\":\"CategoricalTicker\"},{\"attributes\":{\"formatter\":{\"id\":\"4bdd0fc1-b152-4817-803f-955340040a84\",\"type\":\"BasicTickFormatter\"},\"plot\":{\"id\":\"2918c237-86c4-489b-9922-4941208da9f6\",\"subtype\":\"Figure\",\"type\":\"Plot\"},\"ticker\":{\"id\":\"a156507f-f253-4368-a818-4e613bf3f28e\",\"type\":\"BasicTicker\"}},\"id\":\"af77b357-f0af-40a0-ab81-c864f43c32a4\",\"type\":\"LinearAxis\"},{\"attributes\":{\"fill_color\":{\"value\":\"#1f77b4\"},\"line_color\":{\"value\":\"#1f77b4\"},\"size\":{\"field\":\"PatCounts\",\"units\":\"screen\"},\"x\":{\"field\":\"index\"},\"y\":{\"field\":\"PatCounts\"}},\"id\":\"9d662013-9c89-47bf-b8dc-330d7a7bd969\",\"type\":\"Circle\"}],\"root_ids\":[\"2918c237-86c4-489b-9922-4941208da9f6\"]},\"title\":\"Bokeh Application\",\"version\":\"0.12.4\"}};\n",
       "            var render_items = [{\"docid\":\"3487c2ba-c47b-45ca-8708-3cde639e177e\",\"elementid\":\"9df21742-321f-4119-bc89-15533c1d12cd\",\"modelid\":\"2918c237-86c4-489b-9922-4941208da9f6\"}];\n",
       "            \n",
       "            Bokeh.embed.embed_items(docs_json, render_items);\n",
       "          };\n",
       "          if (document.readyState != \"loading\") fn();\n",
       "          else document.addEventListener(\"DOMContentLoaded\", fn);\n",
       "        })();\n",
       "      },\n",
       "      function(Bokeh) {\n",
       "      }\n",
       "    ];\n",
       "  \n",
       "    function run_inline_js() {\n",
       "      \n",
       "      if ((window.Bokeh !== undefined) || (force === true)) {\n",
       "        for (var i = 0; i < inline_js.length; i++) {\n",
       "          inline_js[i](window.Bokeh);\n",
       "        }if (force === true) {\n",
       "          display_loaded();\n",
       "        }} else if (Date.now() < window._bokeh_timeout) {\n",
       "        setTimeout(run_inline_js, 100);\n",
       "      } else if (!window._bokeh_failed_load) {\n",
       "        console.log(\"Bokeh: BokehJS failed to load within specified timeout.\");\n",
       "        window._bokeh_failed_load = true;\n",
       "      } else if (force !== true) {\n",
       "        var cell = $(document.getElementById(\"9df21742-321f-4119-bc89-15533c1d12cd\")).parents('.cell').data().cell;\n",
       "        cell.output_area.append_execute_result(NB_LOAD_WARNING)\n",
       "      }\n",
       "  \n",
       "    }\n",
       "  \n",
       "    if (window._bokeh_is_loading === 0) {\n",
       "      console.log(\"Bokeh: BokehJS loaded, going straight to plotting\");\n",
       "      run_inline_js();\n",
       "    } else {\n",
       "      load_libs(js_urls, function() {\n",
       "        console.log(\"Bokeh: BokehJS plotting callback run at\", now());\n",
       "        run_inline_js();\n",
       "      });\n",
       "    }\n",
       "  }(this));\n",
       "</script>"
      ]
     },
     "metadata": {},
     "output_type": "display_data"
    }
   ],
   "source": [
    "e = figure(x_range=list(c.index.values))\n",
    "e_data = ColumnDataSource(dict(index=list(c.index.values), PatCounts=list(c.values)))\n",
    "e.circle(source=e_data, x='index', y='PatCounts', size='PatCounts')\n",
    "e.xaxis.axis_label_text_alpha = 0\n",
    "e.xaxis.major_label_text_alpha = 0\n",
    "e.grid.visible = False\n",
    "show(e)"
   ]
  },
  {
   "cell_type": "code",
   "execution_count": null,
   "metadata": {
    "collapsed": true
   },
   "outputs": [],
   "source": []
  }
 ],
 "metadata": {
  "kernelspec": {
   "display_name": "Python 3",
   "language": "python",
   "name": "python3"
  },
  "language_info": {
   "codemirror_mode": {
    "name": "ipython",
    "version": 3
   },
   "file_extension": ".py",
   "mimetype": "text/x-python",
   "name": "python",
   "nbconvert_exporter": "python",
   "pygments_lexer": "ipython3",
   "version": "3.5.2"
  }
 },
 "nbformat": 4,
 "nbformat_minor": 2
}
