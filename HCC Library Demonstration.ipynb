{
 "cells": [
  {
   "cell_type": "code",
   "execution_count": 83,
   "metadata": {
    "collapsed": false,
    "deletable": true,
    "editable": true
   },
   "outputs": [
    {
     "data": {
      "text/html": [
       "\n",
       "    <div class=\"bk-root\">\n",
       "        <a href=\"http://bokeh.pydata.org\" target=\"_blank\" class=\"bk-logo bk-logo-small bk-logo-notebook\"></a>\n",
       "        <span id=\"ffce7b22-cc38-4bfb-9896-9ad80bae6b0d\">Loading BokehJS ...</span>\n",
       "    </div>"
      ]
     },
     "metadata": {},
     "output_type": "display_data"
    },
    {
     "data": {
      "application/javascript": [
       "\n",
       "(function(global) {\n",
       "  function now() {\n",
       "    return new Date();\n",
       "  }\n",
       "\n",
       "  var force = true;\n",
       "\n",
       "  if (typeof (window._bokeh_onload_callbacks) === \"undefined\" || force === true) {\n",
       "    window._bokeh_onload_callbacks = [];\n",
       "    window._bokeh_is_loading = undefined;\n",
       "  }\n",
       "\n",
       "\n",
       "  \n",
       "  if (typeof (window._bokeh_timeout) === \"undefined\" || force === true) {\n",
       "    window._bokeh_timeout = Date.now() + 5000;\n",
       "    window._bokeh_failed_load = false;\n",
       "  }\n",
       "\n",
       "  var NB_LOAD_WARNING = {'data': {'text/html':\n",
       "     \"<div style='background-color: #fdd'>\\n\"+\n",
       "     \"<p>\\n\"+\n",
       "     \"BokehJS does not appear to have successfully loaded. If loading BokehJS from CDN, this \\n\"+\n",
       "     \"may be due to a slow or bad network connection. Possible fixes:\\n\"+\n",
       "     \"</p>\\n\"+\n",
       "     \"<ul>\\n\"+\n",
       "     \"<li>re-rerun `output_notebook()` to attempt to load from CDN again, or</li>\\n\"+\n",
       "     \"<li>use INLINE resources instead, as so:</li>\\n\"+\n",
       "     \"</ul>\\n\"+\n",
       "     \"<code>\\n\"+\n",
       "     \"from bokeh.resources import INLINE\\n\"+\n",
       "     \"output_notebook(resources=INLINE)\\n\"+\n",
       "     \"</code>\\n\"+\n",
       "     \"</div>\"}};\n",
       "\n",
       "  function display_loaded() {\n",
       "    if (window.Bokeh !== undefined) {\n",
       "      document.getElementById(\"ffce7b22-cc38-4bfb-9896-9ad80bae6b0d\").textContent = \"BokehJS successfully loaded.\";\n",
       "    } else if (Date.now() < window._bokeh_timeout) {\n",
       "      setTimeout(display_loaded, 100)\n",
       "    }\n",
       "  }\n",
       "\n",
       "  function run_callbacks() {\n",
       "    window._bokeh_onload_callbacks.forEach(function(callback) { callback() });\n",
       "    delete window._bokeh_onload_callbacks\n",
       "    console.info(\"Bokeh: all callbacks have finished\");\n",
       "  }\n",
       "\n",
       "  function load_libs(js_urls, callback) {\n",
       "    window._bokeh_onload_callbacks.push(callback);\n",
       "    if (window._bokeh_is_loading > 0) {\n",
       "      console.log(\"Bokeh: BokehJS is being loaded, scheduling callback at\", now());\n",
       "      return null;\n",
       "    }\n",
       "    if (js_urls == null || js_urls.length === 0) {\n",
       "      run_callbacks();\n",
       "      return null;\n",
       "    }\n",
       "    console.log(\"Bokeh: BokehJS not loaded, scheduling load and callback at\", now());\n",
       "    window._bokeh_is_loading = js_urls.length;\n",
       "    for (var i = 0; i < js_urls.length; i++) {\n",
       "      var url = js_urls[i];\n",
       "      var s = document.createElement('script');\n",
       "      s.src = url;\n",
       "      s.async = false;\n",
       "      s.onreadystatechange = s.onload = function() {\n",
       "        window._bokeh_is_loading--;\n",
       "        if (window._bokeh_is_loading === 0) {\n",
       "          console.log(\"Bokeh: all BokehJS libraries loaded\");\n",
       "          run_callbacks()\n",
       "        }\n",
       "      };\n",
       "      s.onerror = function() {\n",
       "        console.warn(\"failed to load library \" + url);\n",
       "      };\n",
       "      console.log(\"Bokeh: injecting script tag for BokehJS library: \", url);\n",
       "      document.getElementsByTagName(\"head\")[0].appendChild(s);\n",
       "    }\n",
       "  };var element = document.getElementById(\"ffce7b22-cc38-4bfb-9896-9ad80bae6b0d\");\n",
       "  if (element == null) {\n",
       "    console.log(\"Bokeh: ERROR: autoload.js configured with elementid 'ffce7b22-cc38-4bfb-9896-9ad80bae6b0d' but no matching script tag was found. \")\n",
       "    return false;\n",
       "  }\n",
       "\n",
       "  var js_urls = [\"https://cdn.pydata.org/bokeh/release/bokeh-0.12.4.min.js\", \"https://cdn.pydata.org/bokeh/release/bokeh-widgets-0.12.4.min.js\"];\n",
       "\n",
       "  var inline_js = [\n",
       "    function(Bokeh) {\n",
       "      Bokeh.set_log_level(\"info\");\n",
       "    },\n",
       "    \n",
       "    function(Bokeh) {\n",
       "      \n",
       "      document.getElementById(\"ffce7b22-cc38-4bfb-9896-9ad80bae6b0d\").textContent = \"BokehJS is loading...\";\n",
       "    },\n",
       "    function(Bokeh) {\n",
       "      console.log(\"Bokeh: injecting CSS: https://cdn.pydata.org/bokeh/release/bokeh-0.12.4.min.css\");\n",
       "      Bokeh.embed.inject_css(\"https://cdn.pydata.org/bokeh/release/bokeh-0.12.4.min.css\");\n",
       "      console.log(\"Bokeh: injecting CSS: https://cdn.pydata.org/bokeh/release/bokeh-widgets-0.12.4.min.css\");\n",
       "      Bokeh.embed.inject_css(\"https://cdn.pydata.org/bokeh/release/bokeh-widgets-0.12.4.min.css\");\n",
       "    }\n",
       "  ];\n",
       "\n",
       "  function run_inline_js() {\n",
       "    \n",
       "    if ((window.Bokeh !== undefined) || (force === true)) {\n",
       "      for (var i = 0; i < inline_js.length; i++) {\n",
       "        inline_js[i](window.Bokeh);\n",
       "      }if (force === true) {\n",
       "        display_loaded();\n",
       "      }} else if (Date.now() < window._bokeh_timeout) {\n",
       "      setTimeout(run_inline_js, 100);\n",
       "    } else if (!window._bokeh_failed_load) {\n",
       "      console.log(\"Bokeh: BokehJS failed to load within specified timeout.\");\n",
       "      window._bokeh_failed_load = true;\n",
       "    } else if (force !== true) {\n",
       "      var cell = $(document.getElementById(\"ffce7b22-cc38-4bfb-9896-9ad80bae6b0d\")).parents('.cell').data().cell;\n",
       "      cell.output_area.append_execute_result(NB_LOAD_WARNING)\n",
       "    }\n",
       "\n",
       "  }\n",
       "\n",
       "  if (window._bokeh_is_loading === 0) {\n",
       "    console.log(\"Bokeh: BokehJS loaded, going straight to plotting\");\n",
       "    run_inline_js();\n",
       "  } else {\n",
       "    load_libs(js_urls, function() {\n",
       "      console.log(\"Bokeh: BokehJS plotting callback run at\", now());\n",
       "      run_inline_js();\n",
       "    });\n",
       "  }\n",
       "}(this));"
      ]
     },
     "metadata": {},
     "output_type": "display_data"
    },
    {
     "name": "stdout",
     "output_type": "stream",
     "text": [
      "The sql extension is already loaded. To reload it, use:\n",
      "  %reload_ext sql\n",
      "Done.\n"
     ]
    },
    {
     "data": {
      "text/plain": [
       "[]"
      ]
     },
     "execution_count": 83,
     "metadata": {},
     "output_type": "execute_result"
    }
   ],
   "source": [
    "from bokeh.plotting import figure, output_notebook, show\n",
    "from bokeh.palettes import Blues, BuGn, viridis, Paired, plasma\n",
    "from bokeh.models import FixedTicker, FactorRange,Color,CustomJS, HoverTool,CategoricalAxis, LabelSet, Label, ColumnDataSource, widgets,CategoricalColorMapper,LinearInterpolator, LinearColorMapper, LogColorMapper\n",
    "from bokeh.models import (GMapPlot, GMapOptions, Range1d, PanTool, WheelZoomTool, BoxSelectTool, HoverTool,  ResetTool, ZoomInTool, ZoomOutTool)\n",
    "from bokeh.layouts import row, column, widgetbox\n",
    "from bokeh.models.glyphs import Patches, Line, Circle\n",
    "from bokeh.charts import Histogram, output_file, show, Bar, color,  Scatter\n",
    "from bokeh.resources import CDN\n",
    "import sklearn\n",
    "from sklearn.utils.validation import check_array\n",
    "import random\n",
    "import squarify\n",
    "import pandas as pd\n",
    "\n",
    "output_notebook()\n",
    "\n",
    "\n",
    "%load_ext sql\n",
    "%sql sqlite:///mit-poster.db\n",
    "%sql ATTACH '../jupyterdemo/claims.db' as mem;\n"
   ]
  },
  {
   "cell_type": "code",
   "execution_count": 68,
   "metadata": {
    "collapsed": false,
    "deletable": true,
    "editable": true
   },
   "outputs": [],
   "source": [
    "from hcc import *\n"
   ]
  },
  {
   "cell_type": "code",
   "execution_count": 69,
   "metadata": {
    "collapsed": false,
    "deletable": true,
    "editable": true
   },
   "outputs": [
    {
     "data": {
      "text/plain": [
       "ID:1,DOB:1974-08-24 00:00:00"
      ]
     },
     "execution_count": 69,
     "metadata": {},
     "output_type": "execute_result"
    }
   ],
   "source": [
    "daniel"
   ]
  },
  {
   "cell_type": "code",
   "execution_count": 71,
   "metadata": {
    "collapsed": false,
    "deletable": true,
    "editable": true
   },
   "outputs": [
    {
     "name": "stdout",
     "output_type": "stream",
     "text": [
      "Done.\n",
      "Done.\n"
     ]
    }
   ],
   "source": [
    "yr1_diags = %sql SELECT DISTINCT Diagnosis  From diagnoses  where PatientID = '0220F11E0B2EC004' and ClaimFromDate like '2008%';\n",
    "yr2_diags = %sql SELECT DISTINCT Diagnosis  From diagnoses  where PatientID = '0220F11E0B2EC004' and ClaimFromDate like '2009%';"
   ]
  },
  {
   "cell_type": "code",
   "execution_count": 72,
   "metadata": {
    "collapsed": false,
    "deletable": true,
    "editable": true
   },
   "outputs": [],
   "source": [
    "jane = Beneficiary(hicno='0220F11E0B2EC004', sex='female', dob='19480601')\n",
    "jane_alt = Beneficiary(hicno='0220F11E0B2EC004', sex='male', dob='19480601')\n",
    "\n",
    "#antonio.add_diagnosis(Diagnosis(antonio,\"49320\",ICDType.NINE))\n",
    "\n",
    "\n",
    "for icd9 in yr1_diags:\n",
    "    code = icd9[0]\n",
    "    #print(type(code), code)\n",
    "    jane.add_diagnosis(Diagnosis(jane,code, int(ICDType.NINE)))\n",
    "\n",
    "for icd9 in yr1_diags + yr2_diags:\n",
    "    code = icd9[0]\n",
    "    #print(type(code), code)\n",
    "    jane.add_diagnosis(Diagnosis(jane_alt,code, int(ICDType.NINE)))\n",
    "\n",
    "\n",
    "            "
   ]
  },
  {
   "cell_type": "code",
   "execution_count": 73,
   "metadata": {
    "collapsed": false,
    "deletable": true,
    "editable": true
   },
   "outputs": [
    {
     "name": "stdout",
     "output_type": "stream",
     "text": [
      "Score \n",
      "------\n",
      "17.213 Score\n",
      "-----\n",
      "21.09\n"
     ]
    }
   ],
   "source": [
    "beneficiary_has_hcc(jane, X)\n",
    "\n",
    "print(score(jane,\"community\",Score), score(jane_alt,\"community\",Score))"
   ]
  },
  {
   "cell_type": "code",
   "execution_count": 98,
   "metadata": {
    "collapsed": false
   },
   "outputs": [
    {
     "data": {
      "text/plain": [
       "17.213"
      ]
     },
     "execution_count": 98,
     "metadata": {},
     "output_type": "execute_result"
    }
   ],
   "source": [
    "score(jane,\"community\",Score)[0][0]"
   ]
  },
  {
   "cell_type": "code",
   "execution_count": 74,
   "metadata": {
    "collapsed": false,
    "deletable": true,
    "editable": true
   },
   "outputs": [
    {
     "data": {
      "text/plain": [
       "[('COPD_CARD_RESP_FAIL', 0.42), ('HCC111', 0.388), ('F65_69', 0.283), ('HCC75', 0.281), ('HCC23', 0.24), ('HCC134', 0.617), ('CHF_COPD', 0.255), ('CANCER_IMMUNE', 1.101), ('HCC115', 0.212), ('HCC2', 0.52), ('HCC170', 0.363), ('HCC21', 0.653), ('SEPSIS_CARD_RESP_FAIL', 0.634), ('HCC85', 0.361), ('HCC40', 0.376), ('CHF_RENAL', 0.201), ('HCC87', 0.283), ('HCC176', 0.555), ('HCC8', 2.425), ('HCC84', 0.326), ('HCC186', 1.032), ('HCC106', 1.313), ('HCC46', 1.078), ('HCC96', 0.276), ('HCC160', 1.071), ('HCC29', 0.313), ('HCC47', 0.306), ('DIABETES_CHF', 0.237), ('HCC17', 0.344), ('HCC188', 0.609), ('HCC39', 0.423)]"
      ]
     },
     "execution_count": 74,
     "metadata": {},
     "output_type": "execute_result"
    }
   ],
   "source": [
    "cvars= community_regression()\n",
    "indicator(jane,CC)  & CC.in_(cvars) & coefficient(\"CE_\"+CC,Coef)"
   ]
  },
  {
   "cell_type": "code",
   "execution_count": 75,
   "metadata": {
    "collapsed": false,
    "deletable": true,
    "editable": true
   },
   "outputs": [
    {
     "data": {
      "text/plain": [
       "[('HCC87', 0.283), ('HCC85', 0.361), ('SEPSIS_CARD_RESP_FAIL', 0.634), ('HCC157', 1.071), ('HCC23', 0.24), ('HCC170', 0.363), ('HCC39', 0.423), ('HCC80', 0.533), ('HCC111', 0.388), ('HCC82', 1.732), ('HCC96', 0.276), ('HCC46', 1.078), ('HCC186', 1.032), ('DIABETES_CHF', 0.237), ('HCC79', 0.252), ('HCC29', 0.313), ('HCC134', 0.617), ('CANCER_IMMUNE', 1.101), ('CHF_RENAL', 0.201), ('HCC40', 0.376), ('HCC47', 0.306), ('HCC33', 0.337), ('COPD_CARD_RESP_FAIL', 0.42), ('HCC58', 0.318), ('HCC176', 0.555), ('HCC78', 0.555), ('CHF_COPD', 0.255), ('HCC75', 0.281), ('HCC188', 0.609), ('HCC17', 0.344), ('HCC106', 1.313), ('HCC8', 2.425), ('HCC21', 0.653), ('HCC52', 0.343), ('M65_69', 0.309), ('HCC2', 0.52), ('HCC115', 0.212), ('HCC173', 0.379)]"
      ]
     },
     "execution_count": 75,
     "metadata": {},
     "output_type": "execute_result"
    }
   ],
   "source": [
    "indicator(jane_alt,CC)  & CC.in_(cvars) & coefficient(\"CE_\"+CC,Coef)"
   ]
  },
  {
   "cell_type": "code",
   "execution_count": 76,
   "metadata": {
    "collapsed": false,
    "deletable": true,
    "editable": true
   },
   "outputs": [
    {
     "data": {
      "text/plain": [
       "31"
      ]
     },
     "execution_count": 76,
     "metadata": {},
     "output_type": "execute_result"
    }
   ],
   "source": [
    "len(indicator(jane,CC)  & CC.in_(cvars) & coefficient(\"CE_\"+CC,Coef))\n",
    "\n"
   ]
  },
  {
   "cell_type": "code",
   "execution_count": 77,
   "metadata": {
    "collapsed": false,
    "deletable": true,
    "editable": true
   },
   "outputs": [
    {
     "name": "stdout",
     "output_type": "stream",
     "text": [
      "[('HCC8', 2.425), ('HCC106', 1.313), ('CANCER_IMMUNE', 1.101), ('HCC46', 1.078), ('HCC160', 1.071), ('HCC186', 1.032), ('HCC21', 0.653), ('SEPSIS_CARD_RESP_FAIL', 0.634), ('HCC134', 0.617), ('HCC188', 0.609), ('HCC176', 0.555), ('HCC2', 0.52), ('HCC39', 0.423), ('COPD_CARD_RESP_FAIL', 0.42), ('HCC111', 0.388), ('HCC40', 0.376), ('HCC170', 0.363), ('HCC85', 0.361), ('HCC17', 0.344), ('HCC84', 0.326), ('HCC29', 0.313), ('HCC47', 0.306), ('HCC87', 0.283), ('F65_69', 0.283), ('HCC75', 0.281), ('HCC96', 0.276), ('CHF_COPD', 0.255), ('HCC23', 0.24), ('DIABETES_CHF', 0.237), ('HCC115', 0.212), ('CHF_RENAL', 0.201)]\n"
     ]
    }
   ],
   "source": [
    "x = 0\n",
    "y = 0\n",
    "width = 40\n",
    "height = 40\n",
    "jane_coefs = indicator(jane,CC)  & CC.in_(cvars) & coefficient(\"CE_\"+CC,Coef)\n",
    "jane_coefs = sorted(jane_coefs,key= lambda val:  val[1], reverse=True)\n",
    "print(jane_coefs)\n",
    "normed = squarify.normalize_sizes([value for name, value in jane_coefs], width, height)\n",
    "rects = squarify.squarify(normed, x, y, width, height)\n",
    "shapes = []\n",
    "annotations = []\n",
    "counter = 0\n",
    "for r in rects:\n",
    "    name, value = jane_coefs[counter]\n",
    "    shapes.append(\n",
    "        dict(\n",
    "            x0 = r['x'] + r['dx']/2 ,\n",
    "            y0 = r['y'] + r['dy']/2 , \n",
    "            width = r['dx'],\n",
    "            height = r['dy'],\n",
    "            color=random.choice(Paired[12]),\n",
    "            text=name,\n",
    "            score=value,\n",
    "            x1 = r['x'],\n",
    "            y1 = r['y']\n",
    "        ) \n",
    "    )\n",
    "    counter = counter + 1\n",
    " \n",
    "\n",
    "\n",
    "r_data = ColumnDataSource(ColumnDataSource.from_df(pd.DataFrame.from_dict(shapes)))\n",
    "\n",
    "\n",
    "q = figure(x_range=Range1d(x, width), y_range=Range1d(y, height))\n",
    "q.rect( x='x0', y='y0', width='width', height='height', fill_color='color',\n",
    "           line_alpha=0, source=r_data)\n",
    "q.text(x='x1', y='y1', text='text', source=r_data, x_offset=3, y_offset=1\n",
    "       , text_font_size='5pt')\n",
    "q.xaxis.visible = False\n",
    "q.yaxis.visible = False\n",
    "\n",
    "\n",
    "\n"
   ]
  },
  {
   "cell_type": "code",
   "execution_count": 79,
   "metadata": {
    "collapsed": false,
    "deletable": true,
    "editable": true
   },
   "outputs": [],
   "source": [
    "\n",
    "janealt_coefs = indicator(jane_alt,CC)  & CC.in_(cvars) & coefficient(\"CE_\"+CC,Coef)\n",
    "janealt_coefs = sorted(janealt_coefs,key= lambda val:  val[1], reverse=True)\n",
    "normed_alt = squarify.normalize_sizes([value for name, value in janealt_coefs], width, height)\n",
    "rects_alt = squarify.squarify(normed_alt, x, y, width, height)\n",
    "shapes_alt = []\n",
    "\n",
    "counter_alt = 0\n",
    "for r in rects_alt:\n",
    "    name, value = janealt_coefs[counter]\n",
    "    shapes_alt.append(\n",
    "        dict(\n",
    "            x0 = r['x'] + r['dx']/2 ,\n",
    "            y0 = r['y'] + r['dy']/2 , \n",
    "            width = r['dx'],\n",
    "            height = r['dy'],\n",
    "            color=random.choice(Paired[12]),\n",
    "            text=name,\n",
    "            score=value,\n",
    "            x1 = r['x'],\n",
    "            y1 = r['y']\n",
    "        ) \n",
    "    )\n",
    "    counter_alt = counter_alt + 1\n",
    "\n",
    "z_data = ColumnDataSource(ColumnDataSource.from_df(pd.DataFrame.from_dict(shapes_alt)))\n",
    "\n",
    "\n",
    "z = figure(x_range=Range1d(x, width), y_range=Range1d(y, height))\n",
    "z.rect( x='x0', y='y0', width='width', height='height', fill_color='color',\n",
    "           line_alpha=0, source=z_data)\n",
    "z.text(x='x1', y='y1', text='text', source=z_data, x_offset=3, y_offset=1\n",
    "       , text_font_size='5pt')\n",
    "z.xaxis.visible = False\n",
    "z.yaxis.visible = False\n",
    "\n",
    "\n",
    "\n",
    "\n"
   ]
  },
  {
   "cell_type": "code",
   "execution_count": 80,
   "metadata": {
    "collapsed": false,
    "deletable": true,
    "editable": true
   },
   "outputs": [
    {
     "data": {
      "text/html": [
       "\n",
       "\n",
       "    <div class=\"bk-root\">\n",
       "        <div class=\"bk-plotdiv\" id=\"2114f229-9583-46c5-adbd-37439fd5905a\"></div>\n",
       "    </div>\n",
       "<script type=\"text/javascript\">\n",
       "  \n",
       "  (function(global) {\n",
       "    function now() {\n",
       "      return new Date();\n",
       "    }\n",
       "  \n",
       "    var force = false;\n",
       "  \n",
       "    if (typeof (window._bokeh_onload_callbacks) === \"undefined\" || force === true) {\n",
       "      window._bokeh_onload_callbacks = [];\n",
       "      window._bokeh_is_loading = undefined;\n",
       "    }\n",
       "  \n",
       "  \n",
       "    \n",
       "    if (typeof (window._bokeh_timeout) === \"undefined\" || force === true) {\n",
       "      window._bokeh_timeout = Date.now() + 0;\n",
       "      window._bokeh_failed_load = false;\n",
       "    }\n",
       "  \n",
       "    var NB_LOAD_WARNING = {'data': {'text/html':\n",
       "       \"<div style='background-color: #fdd'>\\n\"+\n",
       "       \"<p>\\n\"+\n",
       "       \"BokehJS does not appear to have successfully loaded. If loading BokehJS from CDN, this \\n\"+\n",
       "       \"may be due to a slow or bad network connection. Possible fixes:\\n\"+\n",
       "       \"</p>\\n\"+\n",
       "       \"<ul>\\n\"+\n",
       "       \"<li>re-rerun `output_notebook()` to attempt to load from CDN again, or</li>\\n\"+\n",
       "       \"<li>use INLINE resources instead, as so:</li>\\n\"+\n",
       "       \"</ul>\\n\"+\n",
       "       \"<code>\\n\"+\n",
       "       \"from bokeh.resources import INLINE\\n\"+\n",
       "       \"output_notebook(resources=INLINE)\\n\"+\n",
       "       \"</code>\\n\"+\n",
       "       \"</div>\"}};\n",
       "  \n",
       "    function display_loaded() {\n",
       "      if (window.Bokeh !== undefined) {\n",
       "        document.getElementById(\"2114f229-9583-46c5-adbd-37439fd5905a\").textContent = \"BokehJS successfully loaded.\";\n",
       "      } else if (Date.now() < window._bokeh_timeout) {\n",
       "        setTimeout(display_loaded, 100)\n",
       "      }\n",
       "    }\n",
       "  \n",
       "    function run_callbacks() {\n",
       "      window._bokeh_onload_callbacks.forEach(function(callback) { callback() });\n",
       "      delete window._bokeh_onload_callbacks\n",
       "      console.info(\"Bokeh: all callbacks have finished\");\n",
       "    }\n",
       "  \n",
       "    function load_libs(js_urls, callback) {\n",
       "      window._bokeh_onload_callbacks.push(callback);\n",
       "      if (window._bokeh_is_loading > 0) {\n",
       "        console.log(\"Bokeh: BokehJS is being loaded, scheduling callback at\", now());\n",
       "        return null;\n",
       "      }\n",
       "      if (js_urls == null || js_urls.length === 0) {\n",
       "        run_callbacks();\n",
       "        return null;\n",
       "      }\n",
       "      console.log(\"Bokeh: BokehJS not loaded, scheduling load and callback at\", now());\n",
       "      window._bokeh_is_loading = js_urls.length;\n",
       "      for (var i = 0; i < js_urls.length; i++) {\n",
       "        var url = js_urls[i];\n",
       "        var s = document.createElement('script');\n",
       "        s.src = url;\n",
       "        s.async = false;\n",
       "        s.onreadystatechange = s.onload = function() {\n",
       "          window._bokeh_is_loading--;\n",
       "          if (window._bokeh_is_loading === 0) {\n",
       "            console.log(\"Bokeh: all BokehJS libraries loaded\");\n",
       "            run_callbacks()\n",
       "          }\n",
       "        };\n",
       "        s.onerror = function() {\n",
       "          console.warn(\"failed to load library \" + url);\n",
       "        };\n",
       "        console.log(\"Bokeh: injecting script tag for BokehJS library: \", url);\n",
       "        document.getElementsByTagName(\"head\")[0].appendChild(s);\n",
       "      }\n",
       "    };var element = document.getElementById(\"2114f229-9583-46c5-adbd-37439fd5905a\");\n",
       "    if (element == null) {\n",
       "      console.log(\"Bokeh: ERROR: autoload.js configured with elementid '2114f229-9583-46c5-adbd-37439fd5905a' but no matching script tag was found. \")\n",
       "      return false;\n",
       "    }\n",
       "  \n",
       "    var js_urls = [];\n",
       "  \n",
       "    var inline_js = [\n",
       "      function(Bokeh) {\n",
       "        (function() {\n",
       "          var fn = function() {\n",
       "            var docs_json = {\"eba35df9-b124-41d0-bc4d-01c0b3cfb69b\":{\"roots\":{\"references\":[{\"attributes\":{\"text_color\":{\"value\":\"black\"},\"text_font_size\":{\"value\":\"5pt\"},\"x\":{\"field\":\"x1\"},\"x_offset\":{\"value\":3},\"y\":{\"field\":\"y1\"},\"y_offset\":{\"value\":1}},\"id\":\"295a728e-acdf-438c-98f3-f9c9fc8534f6\",\"type\":\"Text\"},{\"attributes\":{\"bottom_units\":\"screen\",\"fill_alpha\":{\"value\":0.5},\"fill_color\":{\"value\":\"lightgrey\"},\"left_units\":\"screen\",\"level\":\"overlay\",\"line_alpha\":{\"value\":1.0},\"line_color\":{\"value\":\"black\"},\"line_dash\":[4,4],\"line_width\":{\"value\":2},\"plot\":null,\"render_mode\":\"css\",\"right_units\":\"screen\",\"top_units\":\"screen\"},\"id\":\"da7a4dff-19bf-4773-8dbc-71f4e8f84cf3\",\"type\":\"BoxAnnotation\"},{\"attributes\":{\"data_source\":{\"id\":\"00242cb6-de25-410f-9ce6-7ad43260929e\",\"type\":\"ColumnDataSource\"},\"glyph\":{\"id\":\"d3c3085b-d63e-4214-8534-6c4d65aa5b9c\",\"type\":\"Rect\"},\"hover_glyph\":null,\"nonselection_glyph\":{\"id\":\"035cb1cf-02e4-45f4-a3b8-a6856538a7fd\",\"type\":\"Rect\"},\"selection_glyph\":null},\"id\":\"297e9976-cc1c-4a38-b04d-0b7b81c11f54\",\"type\":\"GlyphRenderer\"},{\"attributes\":{},\"id\":\"a74ea249-acfb-4545-921f-f64a2c9bdc2e\",\"type\":\"ToolEvents\"},{\"attributes\":{\"formatter\":{\"id\":\"79f502ad-c3af-4662-b7ae-2b995340afdc\",\"type\":\"BasicTickFormatter\"},\"plot\":{\"id\":\"103e3efe-c405-4664-9727-8c92ca9058fc\",\"subtype\":\"Figure\",\"type\":\"Plot\"},\"ticker\":{\"id\":\"ae09bcef-4995-4ede-be9b-889bc7b8a49f\",\"type\":\"BasicTicker\"},\"visible\":false},\"id\":\"42459e4e-9861-4710-99ce-8d3f43dfa243\",\"type\":\"LinearAxis\"},{\"attributes\":{\"dimension\":1,\"plot\":{\"id\":\"103e3efe-c405-4664-9727-8c92ca9058fc\",\"subtype\":\"Figure\",\"type\":\"Plot\"},\"ticker\":{\"id\":\"ae09bcef-4995-4ede-be9b-889bc7b8a49f\",\"type\":\"BasicTicker\"}},\"id\":\"b582d070-6180-4f9a-a983-844529c9a38a\",\"type\":\"Grid\"},{\"attributes\":{\"active_drag\":\"auto\",\"active_scroll\":\"auto\",\"active_tap\":\"auto\",\"tools\":[{\"id\":\"818aefe1-d3ba-4006-8d10-cc24e5589192\",\"type\":\"PanTool\"},{\"id\":\"cf9c75d7-d035-4c60-b608-c35fce146ea4\",\"type\":\"WheelZoomTool\"},{\"id\":\"50143d98-421f-4f93-88cc-1ef324800cc1\",\"type\":\"BoxZoomTool\"},{\"id\":\"9bf2a4b8-8890-4a3f-a4b4-31ccbd92253e\",\"type\":\"SaveTool\"},{\"id\":\"78a67115-0fb3-47ae-a751-aba153454e68\",\"type\":\"ResetTool\"},{\"id\":\"9d96e6be-d1d9-497a-8044-b9235d6ec1d3\",\"type\":\"HelpTool\"}]},\"id\":\"412b9b0a-d1fb-40a6-924e-02bac5b86a62\",\"type\":\"Toolbar\"},{\"attributes\":{\"plot\":{\"id\":\"103e3efe-c405-4664-9727-8c92ca9058fc\",\"subtype\":\"Figure\",\"type\":\"Plot\"}},\"id\":\"e13b6d5d-1443-4c16-bb23-8cfdda3d832e\",\"type\":\"SaveTool\"},{\"attributes\":{\"overlay\":{\"id\":\"da7a4dff-19bf-4773-8dbc-71f4e8f84cf3\",\"type\":\"BoxAnnotation\"},\"plot\":{\"id\":\"2791a78c-0f5c-4930-8397-7fe61147fbb2\",\"subtype\":\"Figure\",\"type\":\"Plot\"}},\"id\":\"50143d98-421f-4f93-88cc-1ef324800cc1\",\"type\":\"BoxZoomTool\"},{\"attributes\":{\"plot\":{\"id\":\"2791a78c-0f5c-4930-8397-7fe61147fbb2\",\"subtype\":\"Figure\",\"type\":\"Plot\"}},\"id\":\"78a67115-0fb3-47ae-a751-aba153454e68\",\"type\":\"ResetTool\"},{\"attributes\":{\"fill_color\":{\"field\":\"color\"},\"height\":{\"field\":\"height\",\"units\":\"data\"},\"line_alpha\":{\"value\":0},\"line_color\":{\"value\":\"#1f77b4\"},\"width\":{\"field\":\"width\",\"units\":\"data\"},\"x\":{\"field\":\"x0\"},\"y\":{\"field\":\"y0\"}},\"id\":\"198bae90-2f6a-474e-b845-cc1de21277da\",\"type\":\"Rect\"},{\"attributes\":{\"formatter\":{\"id\":\"e4ae6046-4916-48d2-aa86-8a8cdde26e09\",\"type\":\"BasicTickFormatter\"},\"plot\":{\"id\":\"2791a78c-0f5c-4930-8397-7fe61147fbb2\",\"subtype\":\"Figure\",\"type\":\"Plot\"},\"ticker\":{\"id\":\"b0c07e43-f868-465d-9977-c13a519b4ba7\",\"type\":\"BasicTicker\"},\"visible\":false},\"id\":\"137bee06-00f0-4671-8587-0ca0d082ce72\",\"type\":\"LinearAxis\"},{\"attributes\":{\"callback\":null,\"end\":40},\"id\":\"8d435fba-b19e-450d-99e8-5c5c94ca6c6b\",\"type\":\"Range1d\"},{\"attributes\":{\"plot\":{\"id\":\"103e3efe-c405-4664-9727-8c92ca9058fc\",\"subtype\":\"Figure\",\"type\":\"Plot\"}},\"id\":\"d86e7c1a-2d6f-469e-81f3-554eb05f8ecd\",\"type\":\"PanTool\"},{\"attributes\":{\"fill_alpha\":{\"value\":0.1},\"fill_color\":{\"value\":\"#1f77b4\"},\"height\":{\"field\":\"height\",\"units\":\"data\"},\"line_alpha\":{\"value\":0.1},\"line_color\":{\"value\":\"#1f77b4\"},\"width\":{\"field\":\"width\",\"units\":\"data\"},\"x\":{\"field\":\"x0\"},\"y\":{\"field\":\"y0\"}},\"id\":\"19a6a978-1630-4998-a550-b8a76589dca4\",\"type\":\"Rect\"},{\"attributes\":{\"data_source\":{\"id\":\"6ccbc446-e143-43d1-b054-34ec563702f0\",\"type\":\"ColumnDataSource\"},\"glyph\":{\"id\":\"198bae90-2f6a-474e-b845-cc1de21277da\",\"type\":\"Rect\"},\"hover_glyph\":null,\"nonselection_glyph\":{\"id\":\"19a6a978-1630-4998-a550-b8a76589dca4\",\"type\":\"Rect\"},\"selection_glyph\":null},\"id\":\"19903164-0075-402a-ba7e-b8932abfcec4\",\"type\":\"GlyphRenderer\"},{\"attributes\":{\"data_source\":{\"id\":\"6ccbc446-e143-43d1-b054-34ec563702f0\",\"type\":\"ColumnDataSource\"},\"glyph\":{\"id\":\"295a728e-acdf-438c-98f3-f9c9fc8534f6\",\"type\":\"Text\"},\"hover_glyph\":null,\"nonselection_glyph\":{\"id\":\"99a7a88b-d99e-4845-8fa8-58c7be77ae13\",\"type\":\"Text\"},\"selection_glyph\":null},\"id\":\"507c5b8d-f78e-4650-b2f4-eacc619c0a73\",\"type\":\"GlyphRenderer\"},{\"attributes\":{},\"id\":\"bc0c4bf2-f10f-4f5b-8056-79576b7b9e2e\",\"type\":\"BasicTickFormatter\"},{\"attributes\":{\"fill_color\":{\"field\":\"color\"},\"height\":{\"field\":\"height\",\"units\":\"data\"},\"line_alpha\":{\"value\":0},\"line_color\":{\"value\":\"#1f77b4\"},\"width\":{\"field\":\"width\",\"units\":\"data\"},\"x\":{\"field\":\"x0\"},\"y\":{\"field\":\"y0\"}},\"id\":\"d3c3085b-d63e-4214-8534-6c4d65aa5b9c\",\"type\":\"Rect\"},{\"attributes\":{\"callback\":null,\"end\":40},\"id\":\"d3622060-121a-4182-9272-2759dd95328c\",\"type\":\"Range1d\"},{\"attributes\":{\"callback\":null,\"column_names\":[\"x1\",\"y0\",\"color\",\"score\",\"text\",\"y1\",\"index\",\"height\",\"x0\",\"width\"],\"data\":{\"color\":[\"#6a3d9a\",\"#fb9a99\",\"#ffff99\",\"#a6cee3\",\"#fdbf6f\",\"#a6cee3\",\"#33a02c\",\"#fdbf6f\",\"#cab2d6\",\"#ff7f00\",\"#b15928\",\"#6a3d9a\",\"#ff7f00\",\"#6a3d9a\",\"#e31a1c\",\"#cab2d6\",\"#b15928\",\"#6a3d9a\",\"#a6cee3\",\"#b15928\",\"#a6cee3\",\"#a6cee3\",\"#a6cee3\",\"#b2df8a\",\"#33a02c\",\"#b15928\",\"#fb9a99\",\"#33a02c\",\"#a6cee3\",\"#fb9a99\",\"#fb9a99\"],\"height\":[20.045463938830338,10.853482124405868,9.101053936763794,10.052935134708074,10.052935134708074,10.052935134708074,7.941850359484875,7.941850359484875,7.941850359484875,7.941850359484875,8.152799766837727,7.638659241001113,6.2137554979682115,5.974266381667074,5.519084181159108,5.348390855968618,5.163473087012257,5.790550320440817,5.790550320440817,5.790550320440817,5.626596330398706,5.500761907674134,5.087305947293397,4.607088463751433,4.607088463751433,4.3375247770425736,4.3375247770425736,3.6578872677092993,3.612163676862933,3.731842131354341,3.538208813217891],\"index\":[0,1,2,3,4,5,6,7,8,9,10,11,12,13,14,15,16,17,18,19,20,21,22,23,24,25,26,27,28,29,30],\"score\":[2.425,1.313,1.101,1.078,1.071,1.032,0.653,0.634,0.617,0.609,0.555,0.52,0.423,0.42,0.388,0.376,0.363,0.361,0.344,0.326,0.313,0.306,0.283,0.283,0.281,0.276,0.255,0.24,0.237,0.212,0.201],\"text\":[\"HCC8\",\"HCC106\",\"CANCER_IMMUNE\",\"HCC46\",\"HCC160\",\"HCC186\",\"HCC21\",\"SEPSIS_CARD_RESP_FAIL\",\"HCC134\",\"HCC188\",\"HCC176\",\"HCC2\",\"HCC39\",\"COPD_CARD_RESP_FAIL\",\"HCC111\",\"HCC40\",\"HCC170\",\"HCC85\",\"HCC17\",\"HCC84\",\"HCC29\",\"HCC47\",\"HCC87\",\"F65_69\",\"HCC75\",\"HCC96\",\"CHF_COPD\",\"HCC23\",\"DIABETES_CHF\",\"HCC115\",\"CHF_RENAL\"],\"width\":[11.063100137174215,11.063100137174215,11.063100137174215,9.80634330466086,9.74266575073449,9.387890807430434,7.5192183089634845,7.300435540402525,7.104682536953247,7.012563476506527,6.225402268348855,6.225402268348855,6.225402268348855,6.429036921986433,6.429036921986433,6.429036921986433,6.429036921986433,5.701230167574266,5.432751184613704,5.148479320302523,5.087211474397806,5.087211474397806,5.087211474397806,5.617474331667076,5.577774866425613,5.818999583189419,5.3762496149032675,6.000150412910404,6.000150412910404,5.195098785182283,5.1950987851824895],\"x0\":[5.531550068587108,5.531550068587108,5.531550068587108,15.966271789504646,25.740776317202318,35.30605459628478,14.822709291655958,22.23253621633896,29.435095255016847,36.493718261746736,14.175801271348643,14.175801271348643,14.175801271348643,20.503020866516284,20.503020866516284,20.503020866516284,20.503020866516284,26.568154411296636,32.13514508739062,37.425760339848736,26.261145064708405,26.261145064708405,26.261145064708405,31.61348796774085,37.21111256678719,31.71425059350202,37.311875192548364,31.80482600836251,31.80482600836251,37.40245060740886,37.402450607408966],\"x1\":[0.0,0.0,0.0,11.063100137174215,20.869443441835074,30.612109192569562,11.063100137174215,18.5823184461377,25.882753986540223,32.98743652349347,11.063100137174215,11.063100137174215,11.063100137174215,17.28850240552307,17.28850240552307,17.28850240552307,17.28850240552307,23.717539327509503,29.41876949508377,34.85152067969747,23.717539327509503,23.717539327509503,23.717539327509503,28.80475080190731,34.422225133574386,28.80475080190731,34.62375038509673,28.80475080190731,28.80475080190731,34.80490121481772,34.80490121481772],\"y0\":[10.022731969415169,25.472205001033274,35.449473031618105,5.026467567354037,5.026467567354037,5.026467567354037,14.023860314450511,14.023860314450511,14.023860314450511,14.023860314450511,22.071185377611812,29.966914881531235,36.893122251015896,20.981918685026486,26.72859396643958,32.16233148500344,37.418263456493875,20.890060654413357,20.890060654413357,20.890060654413357,26.59863397983312,32.16231309886954,37.456347026353306,26.088880046509484,26.088880046509484,30.561186666906487,30.561186666906487,34.55889268928242,38.19391816156854,34.595870121104944,38.23089559339106],\"y1\":[0.0,20.045463938830338,30.898946063236206,0.0,0.0,0.0,10.052935134708074,10.052935134708074,10.052935134708074,10.052935134708074,17.99478549419295,26.147585261030677,33.78624450203179,17.99478549419295,23.969051875860025,29.488136057019133,34.83652691298775,17.99478549419295,17.99478549419295,17.99478549419295,23.78533581463377,29.411932145032473,34.912694052706605,23.78533581463377,23.78533581463377,28.3924242783852,28.3924242783852,32.729949055427774,36.38783632313707,32.729949055427774,36.461791186782115]}},\"id\":\"00242cb6-de25-410f-9ce6-7ad43260929e\",\"type\":\"ColumnDataSource\"},{\"attributes\":{\"callback\":null,\"end\":40},\"id\":\"fcc4c811-5e6a-4940-9f9f-873981218b04\",\"type\":\"Range1d\"},{\"attributes\":{\"plot\":{\"id\":\"2791a78c-0f5c-4930-8397-7fe61147fbb2\",\"subtype\":\"Figure\",\"type\":\"Plot\"}},\"id\":\"cf9c75d7-d035-4c60-b608-c35fce146ea4\",\"type\":\"WheelZoomTool\"},{\"attributes\":{\"plot\":null,\"text\":\"\"},\"id\":\"6b1bc75b-cded-45a8-a677-ccd1ce4f7a58\",\"type\":\"Title\"},{\"attributes\":{},\"id\":\"79f502ad-c3af-4662-b7ae-2b995340afdc\",\"type\":\"BasicTickFormatter\"},{\"attributes\":{},\"id\":\"e4ae6046-4916-48d2-aa86-8a8cdde26e09\",\"type\":\"BasicTickFormatter\"},{\"attributes\":{\"plot\":{\"id\":\"103e3efe-c405-4664-9727-8c92ca9058fc\",\"subtype\":\"Figure\",\"type\":\"Plot\"}},\"id\":\"07ef6fe8-4e9a-495e-8ddc-24896b54fed5\",\"type\":\"HelpTool\"},{\"attributes\":{\"below\":[{\"id\":\"078adde3-bbdf-4e24-9b08-ed557d0c42b2\",\"type\":\"LinearAxis\"}],\"left\":[{\"id\":\"42459e4e-9861-4710-99ce-8d3f43dfa243\",\"type\":\"LinearAxis\"}],\"renderers\":[{\"id\":\"078adde3-bbdf-4e24-9b08-ed557d0c42b2\",\"type\":\"LinearAxis\"},{\"id\":\"846a69a8-5907-4d93-bab8-108152dff740\",\"type\":\"Grid\"},{\"id\":\"42459e4e-9861-4710-99ce-8d3f43dfa243\",\"type\":\"LinearAxis\"},{\"id\":\"b582d070-6180-4f9a-a983-844529c9a38a\",\"type\":\"Grid\"},{\"id\":\"51c9b25f-3a30-4063-b578-f50e5897d420\",\"type\":\"BoxAnnotation\"},{\"id\":\"19903164-0075-402a-ba7e-b8932abfcec4\",\"type\":\"GlyphRenderer\"},{\"id\":\"507c5b8d-f78e-4650-b2f4-eacc619c0a73\",\"type\":\"GlyphRenderer\"}],\"title\":{\"id\":\"7e35c412-7a9b-4144-9a86-83db6efdf16d\",\"type\":\"Title\"},\"tool_events\":{\"id\":\"a74ea249-acfb-4545-921f-f64a2c9bdc2e\",\"type\":\"ToolEvents\"},\"toolbar\":{\"id\":\"2a469838-75b5-4013-8ddc-ff904c8bbbdd\",\"type\":\"Toolbar\"},\"x_range\":{\"id\":\"fcc4c811-5e6a-4940-9f9f-873981218b04\",\"type\":\"Range1d\"},\"y_range\":{\"id\":\"d3622060-121a-4182-9272-2759dd95328c\",\"type\":\"Range1d\"}},\"id\":\"103e3efe-c405-4664-9727-8c92ca9058fc\",\"subtype\":\"Figure\",\"type\":\"Plot\"},{\"attributes\":{\"plot\":{\"id\":\"2791a78c-0f5c-4930-8397-7fe61147fbb2\",\"subtype\":\"Figure\",\"type\":\"Plot\"}},\"id\":\"9d96e6be-d1d9-497a-8044-b9235d6ec1d3\",\"type\":\"HelpTool\"},{\"attributes\":{},\"id\":\"be60bc85-7e66-4fc7-bd6e-42574d698f1e\",\"type\":\"ToolEvents\"},{\"attributes\":{\"active_drag\":\"auto\",\"active_scroll\":\"auto\",\"active_tap\":\"auto\",\"tools\":[{\"id\":\"d86e7c1a-2d6f-469e-81f3-554eb05f8ecd\",\"type\":\"PanTool\"},{\"id\":\"dfa427e8-1eab-47eb-bbce-0f325eef809b\",\"type\":\"WheelZoomTool\"},{\"id\":\"fc2d13a4-7667-4ffb-b2eb-7e24cf6e1b1b\",\"type\":\"BoxZoomTool\"},{\"id\":\"e13b6d5d-1443-4c16-bb23-8cfdda3d832e\",\"type\":\"SaveTool\"},{\"id\":\"12b80e74-9e8e-4db9-838c-b86e9a56b939\",\"type\":\"ResetTool\"},{\"id\":\"07ef6fe8-4e9a-495e-8ddc-24896b54fed5\",\"type\":\"HelpTool\"}]},\"id\":\"2a469838-75b5-4013-8ddc-ff904c8bbbdd\",\"type\":\"Toolbar\"},{\"attributes\":{\"plot\":null,\"text\":\"\"},\"id\":\"7e35c412-7a9b-4144-9a86-83db6efdf16d\",\"type\":\"Title\"},{\"attributes\":{},\"id\":\"3df5b967-6129-4ef4-b51a-ef50016158e9\",\"type\":\"BasicTicker\"},{\"attributes\":{},\"id\":\"b0c07e43-f868-465d-9977-c13a519b4ba7\",\"type\":\"BasicTicker\"},{\"attributes\":{},\"id\":\"ae09bcef-4995-4ede-be9b-889bc7b8a49f\",\"type\":\"BasicTicker\"},{\"attributes\":{\"below\":[{\"id\":\"137bee06-00f0-4671-8587-0ca0d082ce72\",\"type\":\"LinearAxis\"}],\"left\":[{\"id\":\"dd08796b-81ac-494f-a9c4-e47f0b6ffc8a\",\"type\":\"LinearAxis\"}],\"renderers\":[{\"id\":\"137bee06-00f0-4671-8587-0ca0d082ce72\",\"type\":\"LinearAxis\"},{\"id\":\"31e2b197-413b-4a76-a206-a60824238b95\",\"type\":\"Grid\"},{\"id\":\"dd08796b-81ac-494f-a9c4-e47f0b6ffc8a\",\"type\":\"LinearAxis\"},{\"id\":\"536419f8-e952-4831-9067-1db61498276d\",\"type\":\"Grid\"},{\"id\":\"da7a4dff-19bf-4773-8dbc-71f4e8f84cf3\",\"type\":\"BoxAnnotation\"},{\"id\":\"297e9976-cc1c-4a38-b04d-0b7b81c11f54\",\"type\":\"GlyphRenderer\"},{\"id\":\"d1dbb114-dcae-49ca-a233-7391d470b79f\",\"type\":\"GlyphRenderer\"}],\"title\":{\"id\":\"6b1bc75b-cded-45a8-a677-ccd1ce4f7a58\",\"type\":\"Title\"},\"tool_events\":{\"id\":\"be60bc85-7e66-4fc7-bd6e-42574d698f1e\",\"type\":\"ToolEvents\"},\"toolbar\":{\"id\":\"412b9b0a-d1fb-40a6-924e-02bac5b86a62\",\"type\":\"Toolbar\"},\"x_range\":{\"id\":\"8d435fba-b19e-450d-99e8-5c5c94ca6c6b\",\"type\":\"Range1d\"},\"y_range\":{\"id\":\"a19699c9-ae2f-4836-9db1-58760c5c8c17\",\"type\":\"Range1d\"}},\"id\":\"2791a78c-0f5c-4930-8397-7fe61147fbb2\",\"subtype\":\"Figure\",\"type\":\"Plot\"},{\"attributes\":{\"text_alpha\":{\"value\":0.1},\"text_color\":{\"value\":\"black\"},\"text_font_size\":{\"value\":\"5pt\"},\"x\":{\"field\":\"x1\"},\"x_offset\":{\"value\":3},\"y\":{\"field\":\"y1\"},\"y_offset\":{\"value\":1}},\"id\":\"ecacecef-e65d-4376-84eb-eb2c3e164498\",\"type\":\"Text\"},{\"attributes\":{\"fill_alpha\":{\"value\":0.1},\"fill_color\":{\"value\":\"#1f77b4\"},\"height\":{\"field\":\"height\",\"units\":\"data\"},\"line_alpha\":{\"value\":0.1},\"line_color\":{\"value\":\"#1f77b4\"},\"width\":{\"field\":\"width\",\"units\":\"data\"},\"x\":{\"field\":\"x0\"},\"y\":{\"field\":\"y0\"}},\"id\":\"035cb1cf-02e4-45f4-a3b8-a6856538a7fd\",\"type\":\"Rect\"},{\"attributes\":{\"text_alpha\":{\"value\":0.1},\"text_color\":{\"value\":\"black\"},\"text_font_size\":{\"value\":\"5pt\"},\"x\":{\"field\":\"x1\"},\"x_offset\":{\"value\":3},\"y\":{\"field\":\"y1\"},\"y_offset\":{\"value\":1}},\"id\":\"99a7a88b-d99e-4845-8fa8-58c7be77ae13\",\"type\":\"Text\"},{\"attributes\":{\"text_color\":{\"value\":\"black\"},\"text_font_size\":{\"value\":\"5pt\"},\"x\":{\"field\":\"x1\"},\"x_offset\":{\"value\":3},\"y\":{\"field\":\"y1\"},\"y_offset\":{\"value\":1}},\"id\":\"4b116d46-50fa-41ae-81a4-fc378804be26\",\"type\":\"Text\"},{\"attributes\":{\"overlay\":{\"id\":\"51c9b25f-3a30-4063-b578-f50e5897d420\",\"type\":\"BoxAnnotation\"},\"plot\":{\"id\":\"103e3efe-c405-4664-9727-8c92ca9058fc\",\"subtype\":\"Figure\",\"type\":\"Plot\"}},\"id\":\"fc2d13a4-7667-4ffb-b2eb-7e24cf6e1b1b\",\"type\":\"BoxZoomTool\"},{\"attributes\":{\"callback\":null,\"column_names\":[\"x1\",\"y0\",\"color\",\"score\",\"text\",\"y1\",\"index\",\"height\",\"x0\",\"width\"],\"data\":{\"color\":[\"#a6cee3\",\"#b15928\",\"#33a02c\",\"#a6cee3\",\"#b15928\",\"#ff7f00\",\"#cab2d6\",\"#a6cee3\",\"#b2df8a\",\"#33a02c\",\"#1f78b4\",\"#b15928\",\"#fb9a99\",\"#fb9a99\",\"#a6cee3\",\"#33a02c\",\"#cab2d6\",\"#b15928\",\"#b15928\",\"#ffff99\",\"#fb9a99\",\"#b15928\",\"#fb9a99\",\"#33a02c\",\"#1f78b4\",\"#ffff99\",\"#fdbf6f\",\"#fdbf6f\",\"#b2df8a\",\"#fb9a99\",\"#e31a1c\",\"#ffff99\",\"#6a3d9a\",\"#6a3d9a\",\"#b2df8a\",\"#b2df8a\",\"#a6cee3\",\"#ffff99\"],\"height\":[17.733089579524677,12.665447897623398,9.601462522851918,8.0370942812983,8.0370942812983,8.0370942812983,7.260587326120557,7.260587326120557,7.260587326120557,7.260587326120557,6.680156261581667,6.0878271349389586,6.0878271349389586,5.846507861121559,5.590507884892024,5.590507884892024,5.590507884892024,5.590507884892024,4.897482205824324,4.858715855910147,4.690728339615381,4.664884106339264,4.3422440558849935,4.3422440558849935,4.3422440558849935,4.996512906035864,4.917951382356055,4.855102163412208,5.052899257990403,5.052899257990403,5.052899257990403,5.050471083790182,4.666196110023537,4.186164850574744,4.186164850574744,5.530502343238976,2.838901929217114,2.6916004140218623],\"index\":[0,1,2,3,4,5,6,7,8,9,10,11,12,13,14,15,16,17,18,19,20,21,22,23,24,25,26,27,28,29,30,31,32,33,34,35,36,37],\"score\":[0.276,0.276,0.276,0.276,0.276,0.276,0.276,0.276,0.276,0.276,0.276,0.276,0.276,0.276,0.276,0.276,0.276,0.276,0.276,0.276,0.276,0.276,0.276,0.276,0.276,0.276,0.276,0.276,0.276,0.276,0.276,0.276,0.276,0.276,0.276,0.276,0.276,0.276],\"text\":[\"HCC96\",\"HCC96\",\"HCC96\",\"HCC96\",\"HCC96\",\"HCC96\",\"HCC96\",\"HCC96\",\"HCC96\",\"HCC96\",\"HCC96\",\"HCC96\",\"HCC96\",\"HCC96\",\"HCC96\",\"HCC96\",\"HCC96\",\"HCC96\",\"HCC96\",\"HCC96\",\"HCC96\",\"HCC96\",\"HCC96\",\"HCC96\",\"HCC96\",\"HCC96\",\"HCC96\",\"HCC96\",\"HCC96\",\"HCC96\",\"HCC96\",\"HCC96\",\"HCC96\",\"HCC96\",\"HCC96\",\"HCC96\",\"HCC96\",\"HCC96\"],\"width\":[10.10857010857011,10.10857010857011,10.10857010857011,10.126296710912095,9.914757360911208,9.850375819606588,10.506796882818682,6.648196089612982,6.4547569997161265,6.281679919282099,6.738962870707791,6.738962870707791,6.738962870707791,6.738962870707791,6.875661251156762,5.593085979306366,5.5534187028573845,5.130301087401584,5.720430792457066,5.720430792457066,5.720430792457066,5.720430792457066,5.8560746704327835,5.839051197553619,5.736910360278629,4.704597776218529,4.704597776218529,4.704597776218529,4.476547317616356,4.140074806815127,4.110816327615021,4.039611367625046,4.039611367625046,4.449862652996357,4.237964431425102,3.167715413858294,5.520111670563164,5.520111670563214],\"x0\":[5.054285054285055,5.054285054285055,5.054285054285055,15.171718464026156,25.192245499937812,35.07481209019671,15.361968549979451,23.93946503619528,30.490941580859833,36.859160040358944,13.478051543924005,13.478051543924005,13.478051543924005,13.478051543924005,20.285363604856283,26.519737220087848,32.09298956116972,37.434849456299204,19.707748375506434,19.707748375506434,19.707748375506434,19.707748375506434,25.496001106951358,31.343564040944557,37.131544819860686,24.92026265984423,24.92026265984423,24.92026265984423,29.510835206761673,33.81914626897741,37.944591836192494,29.292367231766015,29.292367231766015,33.537104242076715,37.881017784287444,32.89603062250769,37.239944164718416,37.23994416471844],\"x1\":[0.0,0.0,0.0,10.10857010857011,20.234866819482207,30.149624180393417,10.10857010857011,20.61536699138879,27.26356308100177,33.718320080717895,10.10857010857011,10.10857010857011,10.10857010857011,10.10857010857011,16.8475329792779,23.723194230434665,29.31628020974103,34.869698912598416,16.8475329792779,16.8475329792779,16.8475329792779,16.8475329792779,22.567963771734966,28.42403844216775,34.26308963972137,22.567963771734966,22.567963771734966,22.567963771734966,27.272561547953494,31.749108865569852,35.88918367238498,27.272561547953494,27.272561547953494,31.31217291557854,35.762035568574895,31.31217291557854,34.47988832943683,34.47988832943683],\"y0\":[8.866544789762338,24.065813528336378,35.199268738574034,4.01854714064915,4.01854714064915,4.01854714064915,11.667387944358579,11.667387944358579,11.667387944358579,11.667387944358579,18.63775973820969,25.021751436470005,31.10957857140896,37.076746069439224,18.09293554986487,18.09293554986487,18.09293554986487,18.09293554986487,23.336930595223045,28.21502962609028,32.98975172385305,37.667557946830364,23.05931152025338,23.05931152025338,23.05931152025338,27.728690001213806,32.68592214540977,37.5724489182939,27.756883177191078,27.756883177191078,27.756883177191078,32.80856834808137,37.66690194498823,32.37641523147365,32.37641523147365,37.23474882838051,35.88894862136958,38.65419979298907],\"y1\":[0.0,17.733089579524677,30.398537477148075,0.0,0.0,0.0,8.0370942812983,8.0370942812983,8.0370942812983,8.0370942812983,15.297681607418857,21.977837869000524,28.065665003939483,34.15349213887844,15.297681607418857,15.297681607418857,15.297681607418857,15.297681607418857,20.888189492310882,25.785671698135207,30.644387554045355,35.335115893660735,20.888189492310882,20.888189492310882,20.888189492310882,25.230433548195876,30.22694645423174,35.144897836587795,25.230433548195876,25.230433548195876,25.230433548195876,30.28333280618628,35.333803889976465,30.28333280618628,30.28333280618628,34.46949765676102,34.46949765676102,37.30839958597814]}},\"id\":\"6ccbc446-e143-43d1-b054-34ec563702f0\",\"type\":\"ColumnDataSource\"},{\"attributes\":{\"dimension\":1,\"plot\":{\"id\":\"2791a78c-0f5c-4930-8397-7fe61147fbb2\",\"subtype\":\"Figure\",\"type\":\"Plot\"},\"ticker\":{\"id\":\"3df5b967-6129-4ef4-b51a-ef50016158e9\",\"type\":\"BasicTicker\"}},\"id\":\"536419f8-e952-4831-9067-1db61498276d\",\"type\":\"Grid\"},{\"attributes\":{\"plot\":{\"id\":\"103e3efe-c405-4664-9727-8c92ca9058fc\",\"subtype\":\"Figure\",\"type\":\"Plot\"}},\"id\":\"dfa427e8-1eab-47eb-bbce-0f325eef809b\",\"type\":\"WheelZoomTool\"},{\"attributes\":{},\"id\":\"106bfa55-175d-4da9-a134-0bb8633277b2\",\"type\":\"BasicTickFormatter\"},{\"attributes\":{\"plot\":{\"id\":\"103e3efe-c405-4664-9727-8c92ca9058fc\",\"subtype\":\"Figure\",\"type\":\"Plot\"}},\"id\":\"12b80e74-9e8e-4db9-838c-b86e9a56b939\",\"type\":\"ResetTool\"},{\"attributes\":{\"plot\":{\"id\":\"2791a78c-0f5c-4930-8397-7fe61147fbb2\",\"subtype\":\"Figure\",\"type\":\"Plot\"},\"ticker\":{\"id\":\"b0c07e43-f868-465d-9977-c13a519b4ba7\",\"type\":\"BasicTicker\"}},\"id\":\"31e2b197-413b-4a76-a206-a60824238b95\",\"type\":\"Grid\"},{\"attributes\":{\"data_source\":{\"id\":\"00242cb6-de25-410f-9ce6-7ad43260929e\",\"type\":\"ColumnDataSource\"},\"glyph\":{\"id\":\"4b116d46-50fa-41ae-81a4-fc378804be26\",\"type\":\"Text\"},\"hover_glyph\":null,\"nonselection_glyph\":{\"id\":\"ecacecef-e65d-4376-84eb-eb2c3e164498\",\"type\":\"Text\"},\"selection_glyph\":null},\"id\":\"d1dbb114-dcae-49ca-a233-7391d470b79f\",\"type\":\"GlyphRenderer\"},{\"attributes\":{\"formatter\":{\"id\":\"bc0c4bf2-f10f-4f5b-8056-79576b7b9e2e\",\"type\":\"BasicTickFormatter\"},\"plot\":{\"id\":\"2791a78c-0f5c-4930-8397-7fe61147fbb2\",\"subtype\":\"Figure\",\"type\":\"Plot\"},\"ticker\":{\"id\":\"3df5b967-6129-4ef4-b51a-ef50016158e9\",\"type\":\"BasicTicker\"},\"visible\":false},\"id\":\"dd08796b-81ac-494f-a9c4-e47f0b6ffc8a\",\"type\":\"LinearAxis\"},{\"attributes\":{\"callback\":null,\"end\":40},\"id\":\"a19699c9-ae2f-4836-9db1-58760c5c8c17\",\"type\":\"Range1d\"},{\"attributes\":{\"bottom_units\":\"screen\",\"fill_alpha\":{\"value\":0.5},\"fill_color\":{\"value\":\"lightgrey\"},\"left_units\":\"screen\",\"level\":\"overlay\",\"line_alpha\":{\"value\":1.0},\"line_color\":{\"value\":\"black\"},\"line_dash\":[4,4],\"line_width\":{\"value\":2},\"plot\":null,\"render_mode\":\"css\",\"right_units\":\"screen\",\"top_units\":\"screen\"},\"id\":\"51c9b25f-3a30-4063-b578-f50e5897d420\",\"type\":\"BoxAnnotation\"},{\"attributes\":{\"plot\":{\"id\":\"2791a78c-0f5c-4930-8397-7fe61147fbb2\",\"subtype\":\"Figure\",\"type\":\"Plot\"}},\"id\":\"818aefe1-d3ba-4006-8d10-cc24e5589192\",\"type\":\"PanTool\"},{\"attributes\":{\"plot\":{\"id\":\"2791a78c-0f5c-4930-8397-7fe61147fbb2\",\"subtype\":\"Figure\",\"type\":\"Plot\"}},\"id\":\"9bf2a4b8-8890-4a3f-a4b4-31ccbd92253e\",\"type\":\"SaveTool\"},{\"attributes\":{\"plot\":{\"id\":\"103e3efe-c405-4664-9727-8c92ca9058fc\",\"subtype\":\"Figure\",\"type\":\"Plot\"},\"ticker\":{\"id\":\"bb28419a-3e18-4a2f-881d-1580936f515f\",\"type\":\"BasicTicker\"}},\"id\":\"846a69a8-5907-4d93-bab8-108152dff740\",\"type\":\"Grid\"},{\"attributes\":{\"children\":[{\"id\":\"2791a78c-0f5c-4930-8397-7fe61147fbb2\",\"subtype\":\"Figure\",\"type\":\"Plot\"},{\"id\":\"103e3efe-c405-4664-9727-8c92ca9058fc\",\"subtype\":\"Figure\",\"type\":\"Plot\"}]},\"id\":\"213c580c-01a1-467f-aea0-c745a5f3ec88\",\"type\":\"Row\"},{\"attributes\":{},\"id\":\"bb28419a-3e18-4a2f-881d-1580936f515f\",\"type\":\"BasicTicker\"},{\"attributes\":{\"formatter\":{\"id\":\"106bfa55-175d-4da9-a134-0bb8633277b2\",\"type\":\"BasicTickFormatter\"},\"plot\":{\"id\":\"103e3efe-c405-4664-9727-8c92ca9058fc\",\"subtype\":\"Figure\",\"type\":\"Plot\"},\"ticker\":{\"id\":\"bb28419a-3e18-4a2f-881d-1580936f515f\",\"type\":\"BasicTicker\"},\"visible\":false},\"id\":\"078adde3-bbdf-4e24-9b08-ed557d0c42b2\",\"type\":\"LinearAxis\"}],\"root_ids\":[\"213c580c-01a1-467f-aea0-c745a5f3ec88\"]},\"title\":\"Bokeh Application\",\"version\":\"0.12.4\"}};\n",
       "            var render_items = [{\"docid\":\"eba35df9-b124-41d0-bc4d-01c0b3cfb69b\",\"elementid\":\"2114f229-9583-46c5-adbd-37439fd5905a\",\"modelid\":\"213c580c-01a1-467f-aea0-c745a5f3ec88\"}];\n",
       "            \n",
       "            Bokeh.embed.embed_items(docs_json, render_items);\n",
       "          };\n",
       "          if (document.readyState != \"loading\") fn();\n",
       "          else document.addEventListener(\"DOMContentLoaded\", fn);\n",
       "        })();\n",
       "      },\n",
       "      function(Bokeh) {\n",
       "      }\n",
       "    ];\n",
       "  \n",
       "    function run_inline_js() {\n",
       "      \n",
       "      if ((window.Bokeh !== undefined) || (force === true)) {\n",
       "        for (var i = 0; i < inline_js.length; i++) {\n",
       "          inline_js[i](window.Bokeh);\n",
       "        }if (force === true) {\n",
       "          display_loaded();\n",
       "        }} else if (Date.now() < window._bokeh_timeout) {\n",
       "        setTimeout(run_inline_js, 100);\n",
       "      } else if (!window._bokeh_failed_load) {\n",
       "        console.log(\"Bokeh: BokehJS failed to load within specified timeout.\");\n",
       "        window._bokeh_failed_load = true;\n",
       "      } else if (force !== true) {\n",
       "        var cell = $(document.getElementById(\"2114f229-9583-46c5-adbd-37439fd5905a\")).parents('.cell').data().cell;\n",
       "        cell.output_area.append_execute_result(NB_LOAD_WARNING)\n",
       "      }\n",
       "  \n",
       "    }\n",
       "  \n",
       "    if (window._bokeh_is_loading === 0) {\n",
       "      console.log(\"Bokeh: BokehJS loaded, going straight to plotting\");\n",
       "      run_inline_js();\n",
       "    } else {\n",
       "      load_libs(js_urls, function() {\n",
       "        console.log(\"Bokeh: BokehJS plotting callback run at\", now());\n",
       "        run_inline_js();\n",
       "      });\n",
       "    }\n",
       "  }(this));\n",
       "</script>"
      ]
     },
     "metadata": {},
     "output_type": "display_data"
    }
   ],
   "source": [
    "show(row(q,z))"
   ]
  },
  {
   "cell_type": "code",
   "execution_count": 87,
   "metadata": {
    "collapsed": false,
    "deletable": true,
    "editable": true
   },
   "outputs": [
    {
     "name": "stdout",
     "output_type": "stream",
     "text": [
      "Done.\n"
     ]
    }
   ],
   "source": [
    "cohort_study = %sql \\\n",
    "    SELECT d.PatientID, p.SEX, p.DOB \\\n",
    "        from diagnoses d join mem.patients p\\\n",
    "                on d.PatientID = p.PATIENT_ID\\\n",
    "        group by PatientID,p.SEX, p.DOB\\\n",
    "        having COUNT(*) > 20\\\n",
    "        order by Count(*) desc\\\n",
    "        limit 1000;"
   ]
  },
  {
   "cell_type": "code",
   "execution_count": 94,
   "metadata": {
    "collapsed": false
   },
   "outputs": [],
   "source": [
    "def gender(l):\n",
    "    if l == 'M':\n",
    "        return 'male'\n",
    "    else:\n",
    "        return 'female'\n",
    "\n",
    "\n",
    "cohort_patients = [Beneficiary(hicno=row[0], sex=gender(row[1]), dob=str(row[2])) for row in cohort_study[1:]]\n"
   ]
  },
  {
   "cell_type": "code",
   "execution_count": 150,
   "metadata": {
    "collapsed": false
   },
   "outputs": [
    {
     "name": "stdout",
     "output_type": "stream",
     "text": [
      "Done.\n"
     ]
    }
   ],
   "source": [
    "hicno = [pat.hicno for pat in cohort_patients]\n",
    "hicno = tuple(hicno)\n",
    "diags = %sql SELECT DISTINCT PatientID, Diagnosis from diagnoses where PatientID in $hicno\n",
    "diags = diags.DataFrame().set_index('PatientId')\n",
    "\n",
    "for pat in cohort_patients[0:3]:\n",
    "    pat_diags = diags['Diagnosis'].loc[pat.hicno].tolist()\n",
    "    for code in pat_diags:\n",
    "        pat.add_diagnosis(Diagnosis(pat,code,ICDType.NINE))\n",
    "        \n",
    "\n",
    "#jane.add_diagnosis(Diagnosis(jane,code, int(ICDType.NINE)))"
   ]
  },
  {
   "cell_type": "code",
   "execution_count": null,
   "metadata": {
    "collapsed": true
   },
   "outputs": [],
   "source": []
  },
  {
   "cell_type": "code",
   "execution_count": 152,
   "metadata": {
    "collapsed": false
   },
   "outputs": [],
   "source": [
    "cohort_score  = [score(pat,\"community\",Score) for pat in cohort_patients]"
   ]
  },
  {
   "cell_type": "code",
   "execution_count": null,
   "metadata": {
    "collapsed": false
   },
   "outputs": [],
   "source": [
    "\n",
    "cohort_score\n"
   ]
  },
  {
   "cell_type": "code",
   "execution_count": null,
   "metadata": {
    "collapsed": true
   },
   "outputs": [],
   "source": []
  }
 ],
 "metadata": {
  "kernelspec": {
   "display_name": "Python 3",
   "language": "python",
   "name": "python3"
  },
  "language_info": {
   "codemirror_mode": {
    "name": "ipython",
    "version": 3
   },
   "file_extension": ".py",
   "mimetype": "text/x-python",
   "name": "python",
   "nbconvert_exporter": "python",
   "pygments_lexer": "ipython3",
   "version": "3.5.2"
  }
 },
 "nbformat": 4,
 "nbformat_minor": 2
}
