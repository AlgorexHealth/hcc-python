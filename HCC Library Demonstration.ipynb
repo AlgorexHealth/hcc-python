{
 "cells": [
  {
   "cell_type": "code",
   "execution_count": null,
   "metadata": {
    "collapsed": false,
    "deletable": true,
    "editable": true
   },
   "outputs": [],
   "source": [
    "from bokeh.plotting import figure, output_notebook, show\n",
    "from bokeh.palettes import Blues, BuGn, viridis, Paired, plasma\n",
    "from bokeh.models import FixedTicker, FactorRange,Color,CustomJS, HoverTool,CategoricalAxis, LabelSet, Label, ColumnDataSource, widgets,CategoricalColorMapper,LinearInterpolator, LinearColorMapper, LogColorMapper\n",
    "from bokeh.models import (GMapPlot, GMapOptions, Range1d, PanTool, WheelZoomTool, BoxSelectTool, HoverTool,  ResetTool, ZoomInTool, ZoomOutTool)\n",
    "from bokeh.layouts import row, column, widgetbox\n",
    "from bokeh.models.glyphs import Patches, Line, Circle\n",
    "from bokeh.charts import Histogram, output_file, show, Bar, color,  Scatter\n",
    "from bokeh.resources import CDN\n",
    "import sklearn\n",
    "from sklearn.utils.validation import check_array\n",
    "import random\n",
    "import squarify\n",
    "import pandas as pd\n",
    "import numpy as np\n",
    "\n",
    "\n",
    "output_notebook()\n",
    "\n",
    "\n",
    "%load_ext sql\n",
    "%sql sqlite:///mit-poster.db\n",
    "%sql ATTACH '../jupyterdemo/claims.db' as mem;\n"
   ]
  },
  {
   "cell_type": "code",
   "execution_count": null,
   "metadata": {
    "collapsed": true
   },
   "outputs": [],
   "source": [
    "import AlgorexCore as rex"
   ]
  },
  {
   "cell_type": "code",
   "execution_count": null,
   "metadata": {
    "collapsed": false,
    "deletable": true,
    "editable": true
   },
   "outputs": [],
   "source": [
    "from hcc import *\n"
   ]
  },
  {
   "cell_type": "code",
   "execution_count": null,
   "metadata": {
    "collapsed": false,
    "deletable": true,
    "editable": true
   },
   "outputs": [],
   "source": [
    "daniel"
   ]
  },
  {
   "cell_type": "code",
   "execution_count": null,
   "metadata": {
    "collapsed": false,
    "deletable": true,
    "editable": true
   },
   "outputs": [],
   "source": [
    "yr1_diags = %sql SELECT DISTINCT Diagnosis  From diagnoses  where PatientID = '0220F11E0B2EC004' and ClaimFromDate like '2008%';\n",
    "yr2_diags = %sql SELECT DISTINCT Diagnosis  From diagnoses  where PatientID = '0220F11E0B2EC004' and ClaimFromDate like '2009%';"
   ]
  },
  {
   "cell_type": "code",
   "execution_count": null,
   "metadata": {
    "collapsed": false,
    "deletable": true,
    "editable": true
   },
   "outputs": [],
   "source": [
    "jane = Beneficiary(hicno='0220F11E0B2EC004', sex='female', dob='19480601')\n",
    "jane_alt = Beneficiary(hicno='0220F11E0B2EC004', sex='male', dob='19480601')\n",
    "\n",
    "#antonio.add_diagnosis(Diagnosis(antonio,\"49320\",ICDType.NINE))\n",
    "\n",
    "\n",
    "for icd9 in yr1_diags:\n",
    "    code = icd9[0]\n",
    "    #print(type(code), code)\n",
    "    jane.add_diagnosis(Diagnosis(jane,code, int(ICDType.NINE)))\n",
    "\n",
    "for icd9 in yr1_diags + yr2_diags:\n",
    "    code = icd9[0]\n",
    "    #print(type(code), code)\n",
    "    jane.add_diagnosis(Diagnosis(jane_alt,code, int(ICDType.NINE)))\n",
    "\n",
    "\n",
    "            "
   ]
  },
  {
   "cell_type": "code",
   "execution_count": null,
   "metadata": {
    "collapsed": false,
    "deletable": true,
    "editable": true
   },
   "outputs": [],
   "source": [
    "beneficiary_has_hcc(jane, X)\n",
    "\n",
    "print(score(jane,\"community\",Score), score(jane_alt,\"community\",Score))"
   ]
  },
  {
   "cell_type": "code",
   "execution_count": null,
   "metadata": {
    "collapsed": false
   },
   "outputs": [],
   "source": [
    "score(jane,\"community\",Score)[0][0]"
   ]
  },
  {
   "cell_type": "code",
   "execution_count": null,
   "metadata": {
    "collapsed": false,
    "deletable": true,
    "editable": true
   },
   "outputs": [],
   "source": [
    "cvars= community_regression()\n",
    "indicator(jane,CC)  & CC.in_(cvars) & coefficient(\"CE_\"+CC,Coef)"
   ]
  },
  {
   "cell_type": "code",
   "execution_count": null,
   "metadata": {
    "collapsed": false,
    "deletable": true,
    "editable": true
   },
   "outputs": [],
   "source": [
    "indicator(jane_alt,CC)  & CC.in_(cvars) & coefficient(\"CE_\"+CC,Coef)"
   ]
  },
  {
   "cell_type": "code",
   "execution_count": null,
   "metadata": {
    "collapsed": false,
    "deletable": true,
    "editable": true
   },
   "outputs": [],
   "source": [
    "len(indicator(jane,CC)  & CC.in_(cvars) & coefficient(\"CE_\"+CC,Coef))\n",
    "\n"
   ]
  },
  {
   "cell_type": "code",
   "execution_count": null,
   "metadata": {
    "collapsed": false,
    "deletable": true,
    "editable": true
   },
   "outputs": [],
   "source": [
    "x = 0\n",
    "y = 0\n",
    "width = 40\n",
    "height = 40\n",
    "jane_coefs = indicator(jane,CC)  & CC.in_(cvars) & coefficient(\"CE_\"+CC,Coef)\n",
    "jane_coefs = sorted(jane_coefs,key= lambda val:  val[1], reverse=True)\n",
    "print(jane_coefs)\n",
    "normed = squarify.normalize_sizes([value for name, value in jane_coefs], width, height)\n",
    "rects = squarify.squarify(normed, x, y, width, height)\n",
    "shapes = []\n",
    "annotations = []\n",
    "counter = 0\n",
    "for r in rects:\n",
    "    name, value = jane_coefs[counter]\n",
    "    shapes.append(\n",
    "        dict(\n",
    "            x0 = r['x'] + r['dx']/2 ,\n",
    "            y0 = r['y'] + r['dy']/2 , \n",
    "            width = r['dx'],\n",
    "            height = r['dy'],\n",
    "            color=random.choice(Paired[12]),\n",
    "            text=name,\n",
    "            score=value,\n",
    "            x1 = r['x'],\n",
    "            y1 = r['y']\n",
    "        ) \n",
    "    )\n",
    "    counter = counter + 1\n",
    " \n",
    "\n",
    "\n",
    "r_data = ColumnDataSource(ColumnDataSource.from_df(pd.DataFrame.from_dict(shapes)))\n",
    "\n",
    "\n",
    "q = figure(x_range=Range1d(x, width), y_range=Range1d(y, height))\n",
    "q.rect( x='x0', y='y0', width='width', height='height', fill_color='color',\n",
    "           line_alpha=0, source=r_data)\n",
    "q.text(x='x1', y='y1', text='text', source=r_data, x_offset=3, y_offset=1\n",
    "       , text_font_size='5pt')\n",
    "q.xaxis.visible = False\n",
    "q.yaxis.visible = False\n",
    "\n",
    "\n",
    "\n"
   ]
  },
  {
   "cell_type": "code",
   "execution_count": null,
   "metadata": {
    "collapsed": false,
    "deletable": true,
    "editable": true
   },
   "outputs": [],
   "source": [
    "\n",
    "janealt_coefs = indicator(jane_alt,CC)  & CC.in_(cvars) & coefficient(\"CE_\"+CC,Coef)\n",
    "janealt_coefs = sorted(janealt_coefs,key= lambda val:  val[1], reverse=True)\n",
    "normed_alt = squarify.normalize_sizes([value for name, value in janealt_coefs], width, height)\n",
    "rects_alt = squarify.squarify(normed_alt, x, y, width, height)\n",
    "shapes_alt = []\n",
    "\n",
    "counter_alt = 0\n",
    "for r in rects_alt:\n",
    "    name, value = janealt_coefs[counter]\n",
    "    shapes_alt.append(\n",
    "        dict(\n",
    "            x0 = r['x'] + r['dx']/2 ,\n",
    "            y0 = r['y'] + r['dy']/2 , \n",
    "            width = r['dx'],\n",
    "            height = r['dy'],\n",
    "            color=random.choice(Paired[12]),\n",
    "            text=name,\n",
    "            score=value,\n",
    "            x1 = r['x'],\n",
    "            y1 = r['y']\n",
    "        ) \n",
    "    )\n",
    "    counter_alt = counter_alt + 1\n",
    "\n",
    "z_data = ColumnDataSource(ColumnDataSource.from_df(pd.DataFrame.from_dict(shapes_alt)))\n",
    "z_data.data['name'] = [rex.hcc_labels[label] for label in z_data.data['name']]\n",
    "\n",
    "z = figure(x_range=Range1d(x, width), y_range=Range1d(y, height))\n",
    "z.rect( x='x0', y='y0', width='width', height='height', fill_color='color',\n",
    "           line_alpha=0, source=z_data)\n",
    "z.text(x='x1', y='y1', text='text', source=z_data, x_offset=3, y_offset=1\n",
    "       , text_font_size='5pt')\n",
    "z.xaxis.visible = False\n",
    "z.yaxis.visible = False\n",
    "\n",
    "\n",
    "\n",
    "\n"
   ]
  },
  {
   "cell_type": "code",
   "execution_count": null,
   "metadata": {
    "collapsed": true
   },
   "outputs": [],
   "source": [
    "\n"
   ]
  },
  {
   "cell_type": "code",
   "execution_count": null,
   "metadata": {
    "collapsed": false,
    "deletable": true,
    "editable": true
   },
   "outputs": [],
   "source": [
    "show(row(q,z))"
   ]
  },
  {
   "cell_type": "code",
   "execution_count": null,
   "metadata": {
    "collapsed": false,
    "deletable": true,
    "editable": true
   },
   "outputs": [],
   "source": [
    "cohort_study = %sql \\\n",
    "    SELECT d.PatientID, p.SEX, p.DOB \\\n",
    "        from diagnoses d join mem.patients p\\\n",
    "                on d.PatientID = p.PATIENT_ID\\\n",
    "        group by PatientID,p.SEX, p.DOB\\\n",
    "        having COUNT(*) > 20\\\n",
    "        order by Count(*) desc\\\n",
    "        limit 1000;"
   ]
  },
  {
   "cell_type": "code",
   "execution_count": null,
   "metadata": {
    "collapsed": false
   },
   "outputs": [],
   "source": [
    "def gender(l):\n",
    "    if l == 'M':\n",
    "        return 'male'\n",
    "    else:\n",
    "        return 'female'\n",
    "\n",
    "\n",
    "cohort_patients = [Beneficiary(hicno=row[0], sex=gender(row[1]), dob=str(row[2])) for row in cohort_study[1:]]\n"
   ]
  },
  {
   "cell_type": "code",
   "execution_count": null,
   "metadata": {
    "collapsed": false
   },
   "outputs": [],
   "source": [
    "hicno = [pat.hicno for pat in cohort_patients]\n",
    "hicno = tuple(hicno)\n",
    "diags = %sql SELECT DISTINCT PatientID, Diagnosis from diagnoses where PatientID in $hicno\n",
    "diags = diags.DataFrame().set_index('PatientId')\n",
    "\n",
    "for pat in cohort_patients:\n",
    "    pat_diags = diags['Diagnosis'].loc[pat.hicno].tolist()\n",
    "    for code in pat_diags:\n",
    "        pat.add_diagnosis(Diagnosis(pat,code,ICDType.NINE))\n",
    "        \n",
    "\n",
    "#jane.add_diagnosis(Diagnosis(jane,code, int(ICDType.NINE)))"
   ]
  },
  {
   "cell_type": "code",
   "execution_count": null,
   "metadata": {
    "collapsed": false
   },
   "outputs": [],
   "source": [
    "cohort_score  = [score(pat,\"community\",Score)[0][0] for pat in cohort_patients[0:10]]\n"
   ]
  },
  {
   "cell_type": "code",
   "execution_count": null,
   "metadata": {
    "collapsed": false
   },
   "outputs": [],
   "source": [
    "np.mean(cohort_score)"
   ]
  },
  {
   "cell_type": "code",
   "execution_count": null,
   "metadata": {
    "collapsed": false
   },
   "outputs": [],
   "source": [
    "#indicator(X,CC) & X.in_([cohort_patients[0:10]])  & CC.in_(cvars) & coefficient(\"CE_\"+CC,Coef)"
   ]
  },
  {
   "cell_type": "code",
   "execution_count": null,
   "metadata": {
    "collapsed": true
   },
   "outputs": [],
   "source": []
  }
 ],
 "metadata": {
  "kernelspec": {
   "display_name": "Python 3",
   "language": "python",
   "name": "python3"
  },
  "language_info": {
   "codemirror_mode": {
    "name": "ipython",
    "version": 3
   },
   "file_extension": ".py",
   "mimetype": "text/x-python",
   "name": "python",
   "nbconvert_exporter": "python",
   "pygments_lexer": "ipython3",
   "version": "3.5.2"
  }
 },
 "nbformat": 4,
 "nbformat_minor": 2
}
