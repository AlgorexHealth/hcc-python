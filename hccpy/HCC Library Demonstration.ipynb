{
 "cells": [
  {
   "cell_type": "markdown",
   "metadata": {
    "deletable": true,
    "editable": true
   },
   "source": [
    "# Algorex HCC Library\n",
    "This notebook provides a demonstration of the Algorex HCC library. In developing this library we priortized three main features:\n",
    "\n",
    "1. Return an accurate set of risk scores using the HCC Algorithim for all available models. \n",
    "2. Provide easy inputs so that the library can be integrated in a range of analytical or other applications. \n",
    "3. Give analyst/developer a rich interface into the underlying mechanics of the risk adjusment algorithim. Whether to the codes, their mappings, and their coefficients. \n"
   ]
  },
  {
   "cell_type": "code",
   "execution_count": null,
   "metadata": {
    "collapsed": false,
    "deletable": true,
    "editable": true,
    "hide_input": true
   },
   "outputs": [],
   "source": [
    "from bokeh.plotting import figure, output_notebook, show, output_file\n",
    "from bokeh.palettes import Blues, BuGn, viridis, Paired, plasma, PuBuGn\n",
    "from bokeh.models import FixedTicker, FactorRange,Color,CustomJS, HoverTool,CategoricalAxis, LabelSet, Label, ColumnDataSource, widgets,CategoricalColorMapper,LinearInterpolator, LinearColorMapper, LogColorMapper\n",
    "from bokeh.models import (GMapPlot, GMapOptions, Range1d, PanTool, WheelZoomTool, BoxSelectTool, HoverTool,  ResetTool, ZoomInTool, ZoomOutTool)\n",
    "from bokeh.layouts import row, column, widgetbox\n",
    "from bokeh.models.glyphs import Patches, Line, Circle\n",
    "from bokeh.charts import Histogram, output_file, show, Bar, color,  Scatter\n",
    "from bokeh.resources import CDN\n",
    "import sklearn\n",
    "from sklearn.utils.validation import check_array\n",
    "import random\n",
    "import squarify\n",
    "import pandas as pd\n",
    "import numpy as np\n",
    "\n",
    "\n",
    "output_notebook()\n",
    "\n",
    "\n",
    "%load_ext sql\n",
    "%sql sqlite:///mit-poster.db\n",
    "%sql ATTACH '../jupyterdemo/claims.db' as mem;\n"
   ]
  },
  {
   "cell_type": "code",
   "execution_count": 1,
   "metadata": {
    "collapsed": false,
    "deletable": true,
    "editable": true,
    "hide_input": false
   },
   "outputs": [
    {
     "name": "stdout",
     "output_type": "stream",
     "text": [
      "bottom\n"
     ]
    }
   ],
   "source": [
    "import AlgorexCore as rex\n",
    "from hcc import *\n",
    "cvars= community_regression()"
   ]
  },
  {
   "cell_type": "markdown",
   "metadata": {
    "deletable": true,
    "editable": true
   },
   "source": [
    "## Loading Data\n",
    "For the use of the demonstration, we are using a deidentifed claims data warehouse embedded in this notebook for the tutorial. This simulates exactly how you can integrate this library with other data warehouses or databases. \n",
    "\n",
    "In the cell below, we are selecting the diagnosis codes for one patient in one year and then we select the same patient in the next year. \n",
    "\n"
   ]
  },
  {
   "cell_type": "code",
   "execution_count": null,
   "metadata": {
    "collapsed": false,
    "deletable": true,
    "editable": true
   },
   "outputs": [],
   "source": [
    "yr1_diags = %sql SELECT DISTINCT Diagnosis  From diagnoses  where PatientID = '0220F11E0B2EC004' and ClaimFromDate like '2008%';\n",
    "yr2_diags = %sql SELECT DISTINCT Diagnosis  From diagnoses  where PatientID = '0220F11E0B2EC004' and ClaimFromDate like '2009%';"
   ]
  },
  {
   "cell_type": "markdown",
   "metadata": {
    "deletable": true,
    "editable": true,
    "variables": {
     "len(yr1_diags)": "203",
     "len(yr2_diags)": "216"
    }
   },
   "source": [
    "To load the data into the HCC library, you create beneficiary objects and add the diagnosis codes. Our example patient has **{{len(yr1_diags)}}** seperate diagnosis codes to be added in year 1 and **{{len(yr2_diags)}}** in year 2. \n",
    "\n",
    "The same use case can be used for whenever users have diagnosis codes from multiple sources such as from:\n",
    "* at-home assesments from a third-party\n",
    "* mined medical records\n",
    "* other sources based on outreach efforts.\n",
    "\n",
    "The library allows the developer/analyst to compare the output of the sources and compare the uplift(or downlift). \n",
    "\n",
    "Our example patient here is being named 'Jane'. \n"
   ]
  },
  {
   "cell_type": "code",
   "execution_count": null,
   "metadata": {
    "collapsed": false,
    "deletable": true,
    "editable": true
   },
   "outputs": [],
   "source": [
    "jane = Beneficiary(hicno='0220F11E0B2EC004', sex='female', dob='19480601')\n",
    "jane_alt = Beneficiary(hicno='0220F11E0B2EC004', sex='male', dob='19480601')\n",
    "\n",
    "#antonio.add_diagnosis(Diagnosis(antonio,\"49320\",ICDType.NINE))\n",
    "\n",
    "\n",
    "for icd9 in yr1_diags:\n",
    "    code = icd9[0]\n",
    "    #print(type(code), code)\n",
    "    jane.add_diagnosis(Diagnosis(jane,code, int(ICDType.NINE)))\n",
    "\n",
    "for icd9 in yr1_diags + yr2_diags:\n",
    "    code = icd9[0]\n",
    "    #print(type(code), code)\n",
    "    jane.add_diagnosis(Diagnosis(jane_alt,code, int(ICDType.NINE)))"
   ]
  },
  {
   "cell_type": "markdown",
   "metadata": {
    "deletable": true,
    "editable": true
   },
   "source": [
    "The library can output scores across all of the CMS-HCC models including instituional, new enrollee, and community rated groups. For 2017, there will be nine seperate models and will update to allow for that. "
   ]
  },
  {
   "cell_type": "code",
   "execution_count": null,
   "metadata": {
    "collapsed": false,
    "deletable": true,
    "editable": true
   },
   "outputs": [],
   "source": [
    "beneficiary_has_hcc(jane, X)\n",
    "\n",
    "print(score(jane,X,Score))\n",
    "print(score(jane_alt,X,Score))"
   ]
  },
  {
   "cell_type": "markdown",
   "metadata": {
    "deletable": true,
    "editable": true
   },
   "source": [
    "## Understand the Mechanics\n",
    "\n",
    "Getting the score is just one data point, what about how that score worked? the HCC models consists over close to 190 disease categories and complex disease interactions. With our library, the analyst can access the underlying coefficients that are used for this patient. \n",
    "\n",
    "In the example below, we are using our sample patient 'Jane' and asking the system to obtain all the indicator variables this patient is eligible. We can also see all the parts that lead up to this score. \n",
    "\n",
    "![diagram](./diagram.png)\n",
    "\n",
    "The query below is based on this idea. Identify all indicators and underlying categories and codes that are true for this patient. "
   ]
  },
  {
   "cell_type": "code",
   "execution_count": null,
   "metadata": {
    "collapsed": false,
    "deletable": true,
    "editable": true
   },
   "outputs": [],
   "source": [
    "\n",
    "results = indicator(jane,CC) & beneficiary_icd(jane,ICD,Type)  & CC.in_(cvars) & coefficient(\"CE_\"+CC,Coef)   \n",
    "print(results[0:30])"
   ]
  },
  {
   "cell_type": "code",
   "execution_count": null,
   "metadata": {
    "collapsed": false,
    "deletable": true,
    "editable": true,
    "hide_input": false
   },
   "outputs": [],
   "source": [
    "x = 0\n",
    "y = 0\n",
    "width = 40\n",
    "height = 40\n",
    "jane_coefs = indicator(jane,CC)  & CC.in_(cvars) & coefficient(\"CE_\"+CC,Coef)\n",
    "jane_coefs = sorted(jane_coefs,key= lambda val:  val[1], reverse=True)\n",
    "\n",
    "normed = squarify.normalize_sizes([value for name, value in jane_coefs], width, height)\n",
    "rects = squarify.squarify(normed, x, y, width, height)\n",
    "shapes = []\n",
    "annotations = []\n",
    "counter = 0\n",
    "for r in rects:\n",
    "    name, value = jane_coefs[counter]\n",
    "    shapes.append(\n",
    "        dict(\n",
    "            x0 = r['x'] + r['dx']/2 ,\n",
    "            y0 = r['y'] + r['dy']/2 , \n",
    "            width = r['dx'],\n",
    "            height = r['dy'],\n",
    "            color=random.choice(Paired[12]),\n",
    "            text=name,\n",
    "            score=value,\n",
    "            x1 = r['x'],\n",
    "            y1 = r['y']\n",
    "        ) \n",
    "    )\n",
    "    counter = counter + 1\n",
    "\n",
    "mapper = LinearColorMapper(palette=['#7fcdbb', '#41b6c4', '#1d91c0', '#225ea8', '#08589e'])\n",
    "\n",
    "r_data = ColumnDataSource(ColumnDataSource.from_df(pd.DataFrame.from_dict(shapes)))\n",
    "r_data.data['text'] = [rex.name_hcc(label) for label in r_data.data['text']]\n",
    "\n",
    "q = figure(x_range=Range1d(x, width), y_range=Range1d(y, height), title='Condition Contribution to Jane Risk Score in Year 1')\n",
    "q.rect( x='x0', y='y0', width='width', height='height', fill_color={'field':'score', 'transform':mapper},\n",
    "           line_alpha=1, line_color='#FFFFFF', source=r_data)\n",
    "q.text(x='x1', y='y1', text='text', source=r_data, x_offset=3, y_offset=1\n",
    "       , text_font_size='8pt')\n",
    "q.xaxis.visible = False\n",
    "q.yaxis.visible = False\n",
    "\n",
    "\n",
    "\n"
   ]
  },
  {
   "cell_type": "code",
   "execution_count": null,
   "metadata": {
    "collapsed": false,
    "deletable": true,
    "editable": true
   },
   "outputs": [],
   "source": [
    "\n",
    "janealt_coefs = indicator(jane_alt,CC)  & CC.in_(cvars) & coefficient(\"CE_\"+CC,Coef)\n",
    "janealt_coefs = sorted(janealt_coefs,key= lambda val:  val[1], reverse=True)\n",
    "normed_alt = squarify.normalize_sizes([value for name, value in janealt_coefs], width, height)\n",
    "rects_alt = squarify.squarify(normed_alt, x, y, width, height)\n",
    "shapes_alt = []\n",
    "\n",
    "counter_alt = 0\n",
    "for r in rects_alt:\n",
    "    name, value = janealt_coefs[counter_alt]\n",
    "    shapes_alt.append(\n",
    "        dict(\n",
    "            x0 = r['x'] + r['dx']/2 ,\n",
    "            y0 = r['y'] + r['dy']/2 , \n",
    "            width = r['dx'],\n",
    "            height = r['dy'],\n",
    "            color=random.choice(Paired[12]),\n",
    "            text=name,\n",
    "            score=value,\n",
    "            x1 = r['x'],\n",
    "            y1 = r['y']\n",
    "        ) \n",
    "    )\n",
    "    counter_alt = counter_alt + 1\n",
    "\n",
    "z_data = ColumnDataSource(ColumnDataSource.from_df(pd.DataFrame.from_dict(shapes_alt)))\n",
    "z_data.data['text'] = [rex.name_hcc(label) for label in z_data.data['text']]\n",
    "\n",
    "z = figure(x_range=Range1d(x, width), y_range=Range1d(y, height), title=\"Condition Contribution to Risk Score for Jane over multiple years\")\n",
    "z.rect( x='x0', y='y0', width='width', height='height', fill_color={'field':'score', 'transform':mapper},\n",
    "           line_alpha=1, line_color='#FFFFFF', source=z_data)\n",
    "z.text(x='x1', y='y1', text='text', source=z_data, x_offset=3, y_offset=1\n",
    "       , text_font_size='8pt')\n",
    "z.xaxis.visible = False\n",
    "z.yaxis.visible = False\n",
    "\n",
    "\n",
    "\n",
    "\n"
   ]
  },
  {
   "cell_type": "code",
   "execution_count": null,
   "metadata": {
    "collapsed": false,
    "deletable": true,
    "editable": true
   },
   "outputs": [],
   "source": [
    "show(row(q,z))\n"
   ]
  },
  {
   "cell_type": "markdown",
   "metadata": {
    "deletable": true,
    "editable": true
   },
   "source": [
    "## Scaling Up\n",
    "\n",
    "So far we have been focused on doing this with only one patient but it is also possible for us to scale up the calculation (all the way to a full population). Here we will do 100 patients. "
   ]
  },
  {
   "cell_type": "code",
   "execution_count": null,
   "metadata": {
    "collapsed": false,
    "deletable": true,
    "editable": true
   },
   "outputs": [],
   "source": [
    "cohort_study = %sql \\\n",
    "    SELECT d.PatientID, p.SEX, p.DOB \\\n",
    "        from diagnoses d join mem.patients p\\\n",
    "                on d.PatientID = p.PATIENT_ID\\\n",
    "        group by PatientID,p.SEX, p.DOB\\\n",
    "        having COUNT(*) > 20\\\n",
    "        order by Count(*) desc\\\n",
    "        limit 100;"
   ]
  },
  {
   "cell_type": "code",
   "execution_count": null,
   "metadata": {
    "collapsed": false,
    "deletable": true,
    "editable": true
   },
   "outputs": [],
   "source": [
    "def gender(l):\n",
    "    if l == 'M':\n",
    "        return 'male'\n",
    "    else:\n",
    "        return 'female'\n",
    "\n",
    "\n",
    "cohort_patients = [Beneficiary(hicno=row[0], sex=gender(row[1]), dob=str(row[2])) for row in cohort_study[1:]]\n"
   ]
  },
  {
   "cell_type": "code",
   "execution_count": null,
   "metadata": {
    "collapsed": false,
    "deletable": true,
    "editable": true
   },
   "outputs": [],
   "source": [
    "hicno = [pat.hicno for pat in cohort_patients]\n",
    "hicno = tuple(hicno)\n",
    "diags = %sql SELECT DISTINCT PatientID, Diagnosis from diagnoses where PatientID in $hicno\n",
    "diags = diags.DataFrame().set_index('PatientId')\n",
    "\n",
    "for pat in cohort_patients:\n",
    "    pat_diags = diags['Diagnosis'].loc[pat.hicno].tolist()\n",
    "    for code in pat_diags:\n",
    "        pat.add_diagnosis(Diagnosis(pat,code,ICDType.NINE))"
   ]
  },
  {
   "cell_type": "markdown",
   "metadata": {
    "deletable": true,
    "editable": true
   },
   "source": [
    "Here is the average score for this cohort. \n"
   ]
  },
  {
   "cell_type": "code",
   "execution_count": null,
   "metadata": {
    "collapsed": false,
    "deletable": true,
    "editable": true
   },
   "outputs": [],
   "source": [
    "cohort_score  = [score(pat,\"community\",Score)[0][0] for pat in cohort_patients[0:5]]\n",
    "np.mean(cohort_score)"
   ]
  },
  {
   "cell_type": "code",
   "execution_count": null,
   "metadata": {
    "collapsed": false,
    "deletable": true,
    "editable": true
   },
   "outputs": [],
   "source": [
    "#indicator(X,CC)  & CC.in_(cvars) & coefficient(\"CE_\"+CC,Coef) & X.in_(cohort_patients[0:2])"
   ]
  },
  {
   "cell_type": "code",
   "execution_count": null,
   "metadata": {
    "collapsed": true,
    "deletable": true,
    "editable": true
   },
   "outputs": [],
   "source": [
    "indicator(X,CC) & X.in_([daniel,jane]) "
   ]
  },
  {
   "cell_type": "code",
   "execution_count": null,
   "metadata": {
    "collapsed": true
   },
   "outputs": [],
   "source": []
  }
 ],
 "metadata": {
  "kernelspec": {
   "display_name": "Python 3",
   "language": "python",
   "name": "python3"
  },
  "language_info": {
   "codemirror_mode": {
    "name": "ipython",
    "version": 3
   },
   "file_extension": ".py",
   "mimetype": "text/x-python",
   "name": "python",
   "nbconvert_exporter": "python",
   "pygments_lexer": "ipython3",
   "version": "3.5.2"
  }
 },
 "nbformat": 4,
 "nbformat_minor": 2
}
