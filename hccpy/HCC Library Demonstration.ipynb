{
 "cells": [
  {
   "cell_type": "markdown",
   "execution_count": null,
   "metadata": {},
   "outputs": [],
   "source": [
    "# Algorex HCC Library\n",
    "This notebook provides a demonstration of the Algorex HCC library. In developing this library we priortized three main features:\n",
    "\n",
    "1. Return an accurate set of risk scores using the HCC Algorithim for all available models. \n",
    "2. Provide easy inputs so that the library can be integrated in a range of analytical or other applications. \n",
    "3. Give analyst/developer a rich interface into the underlying mechanics of the risk adjusment algorithim. Whether to the codes, their mappings, and their coefficients. \n"
   ]
  },
  {
   "cell_type": "code",
   "execution_count": 63,
   "metadata": {},
   "outputs": [
    {
     "data": {
      "text/html": "\n    <div class=\"bk-root\">\n        <a href=\"https://bokeh.org\" target=\"_blank\" class=\"bk-logo bk-logo-small bk-logo-notebook\"></a>\n        <span id=\"1002\">Loading BokehJS ...</span>\n    </div>"
     },
     "metadata": {},
     "output_type": "display_data"
    },
    {
     "data": {
      "application/javascript": "\n(function(root) {\n  function now() {\n    return new Date();\n  }\n\n  var force = true;\n\n  if (typeof root._bokeh_onload_callbacks === \"undefined\" || force === true) {\n    root._bokeh_onload_callbacks = [];\n    root._bokeh_is_loading = undefined;\n  }\n\n  var JS_MIME_TYPE = 'application/javascript';\n  var HTML_MIME_TYPE = 'text/html';\n  var EXEC_MIME_TYPE = 'application/vnd.bokehjs_exec.v0+json';\n  var CLASS_NAME = 'output_bokeh rendered_html';\n\n  /**\n   * Render data to the DOM node\n   */\n  function render(props, node) {\n    var script = document.createElement(\"script\");\n    node.appendChild(script);\n  }\n\n  /**\n   * Handle when an output is cleared or removed\n   */\n  function handleClearOutput(event, handle) {\n    var cell = handle.cell;\n\n    var id = cell.output_area._bokeh_element_id;\n    var server_id = cell.output_area._bokeh_server_id;\n    // Clean up Bokeh references\n    if (id != null && id in Bokeh.index) {\n      Bokeh.index[id].model.document.clear();\n      delete Bokeh.index[id];\n    }\n\n    if (server_id !== undefined) {\n      // Clean up Bokeh references\n      var cmd = \"from bokeh.io.state import curstate; print(curstate().uuid_to_server['\" + server_id + \"'].get_sessions()[0].document.roots[0]._id)\";\n      cell.notebook.kernel.execute(cmd, {\n        iopub: {\n          output: function(msg) {\n            var id = msg.content.text.trim();\n            if (id in Bokeh.index) {\n              Bokeh.index[id].model.document.clear();\n              delete Bokeh.index[id];\n            }\n          }\n        }\n      });\n      // Destroy server and session\n      var cmd = \"import bokeh.io.notebook as ion; ion.destroy_server('\" + server_id + \"')\";\n      cell.notebook.kernel.execute(cmd);\n    }\n  }\n\n  /**\n   * Handle when a new output is added\n   */\n  function handleAddOutput(event, handle) {\n    var output_area = handle.output_area;\n    var output = handle.output;\n\n    // limit handleAddOutput to display_data with EXEC_MIME_TYPE content only\n    if ((output.output_type != \"display_data\") || (!output.data.hasOwnProperty(EXEC_MIME_TYPE))) {\n      return\n    }\n\n    var toinsert = output_area.element.find(\".\" + CLASS_NAME.split(' ')[0]);\n\n    if (output.metadata[EXEC_MIME_TYPE][\"id\"] !== undefined) {\n      toinsert[toinsert.length - 1].firstChild.textContent = output.data[JS_MIME_TYPE];\n      // store reference to embed id on output_area\n      output_area._bokeh_element_id = output.metadata[EXEC_MIME_TYPE][\"id\"];\n    }\n    if (output.metadata[EXEC_MIME_TYPE][\"server_id\"] !== undefined) {\n      var bk_div = document.createElement(\"div\");\n      bk_div.innerHTML = output.data[HTML_MIME_TYPE];\n      var script_attrs = bk_div.children[0].attributes;\n      for (var i = 0; i < script_attrs.length; i++) {\n        toinsert[toinsert.length - 1].firstChild.setAttribute(script_attrs[i].name, script_attrs[i].value);\n        toinsert[toinsert.length - 1].firstChild.textContent = bk_div.children[0].textContent\n      }\n      // store reference to server id on output_area\n      output_area._bokeh_server_id = output.metadata[EXEC_MIME_TYPE][\"server_id\"];\n    }\n  }\n\n  function register_renderer(events, OutputArea) {\n\n    function append_mime(data, metadata, element) {\n      // create a DOM node to render to\n      var toinsert = this.create_output_subarea(\n        metadata,\n        CLASS_NAME,\n        EXEC_MIME_TYPE\n      );\n      this.keyboard_manager.register_events(toinsert);\n      // Render to node\n      var props = {data: data, metadata: metadata[EXEC_MIME_TYPE]};\n      render(props, toinsert[toinsert.length - 1]);\n      element.append(toinsert);\n      return toinsert\n    }\n\n    /* Handle when an output is cleared or removed */\n    events.on('clear_output.CodeCell', handleClearOutput);\n    events.on('delete.Cell', handleClearOutput);\n\n    /* Handle when a new output is added */\n    events.on('output_added.OutputArea', handleAddOutput);\n\n    /**\n     * Register the mime type and append_mime function with output_area\n     */\n    OutputArea.prototype.register_mime_type(EXEC_MIME_TYPE, append_mime, {\n      /* Is output safe? */\n      safe: true,\n      /* Index of renderer in `output_area.display_order` */\n      index: 0\n    });\n  }\n\n  // register the mime type if in Jupyter Notebook environment and previously unregistered\n  if (root.Jupyter !== undefined) {\n    var events = require('base/js/events');\n    var OutputArea = require('notebook/js/outputarea').OutputArea;\n\n    if (OutputArea.prototype.mime_types().indexOf(EXEC_MIME_TYPE) == -1) {\n      register_renderer(events, OutputArea);\n    }\n  }\n\n  \n  if (typeof (root._bokeh_timeout) === \"undefined\" || force === true) {\n    root._bokeh_timeout = Date.now() + 5000;\n    root._bokeh_failed_load = false;\n  }\n\n  var NB_LOAD_WARNING = {'data': {'text/html':\n     \"<div style='background-color: #fdd'>\\n\"+\n     \"<p>\\n\"+\n     \"BokehJS does not appear to have successfully loaded. If loading BokehJS from CDN, this \\n\"+\n     \"may be due to a slow or bad network connection. Possible fixes:\\n\"+\n     \"</p>\\n\"+\n     \"<ul>\\n\"+\n     \"<li>re-rerun `output_notebook()` to attempt to load from CDN again, or</li>\\n\"+\n     \"<li>use INLINE resources instead, as so:</li>\\n\"+\n     \"</ul>\\n\"+\n     \"<code>\\n\"+\n     \"from bokeh.resources import INLINE\\n\"+\n     \"output_notebook(resources=INLINE)\\n\"+\n     \"</code>\\n\"+\n     \"</div>\"}};\n\n  function display_loaded() {\n    var el = document.getElementById(\"1002\");\n    if (el != null) {\n      el.textContent = \"BokehJS is loading...\";\n    }\n    if (root.Bokeh !== undefined) {\n      if (el != null) {\n        el.textContent = \"BokehJS \" + root.Bokeh.version + \" successfully loaded.\";\n      }\n    } else if (Date.now() < root._bokeh_timeout) {\n      setTimeout(display_loaded, 100)\n    }\n  }\n\n\n  function run_callbacks() {\n    try {\n      root._bokeh_onload_callbacks.forEach(function(callback) {\n        if (callback != null)\n          callback();\n      });\n    } finally {\n      delete root._bokeh_onload_callbacks\n    }\n    console.debug(\"Bokeh: all callbacks have finished\");\n  }\n\n  function load_libs(css_urls, js_urls, callback) {\n    if (css_urls == null) css_urls = [];\n    if (js_urls == null) js_urls = [];\n\n    root._bokeh_onload_callbacks.push(callback);\n    if (root._bokeh_is_loading > 0) {\n      console.debug(\"Bokeh: BokehJS is being loaded, scheduling callback at\", now());\n      return null;\n    }\n    if (js_urls == null || js_urls.length === 0) {\n      run_callbacks();\n      return null;\n    }\n    console.debug(\"Bokeh: BokehJS not loaded, scheduling load and callback at\", now());\n    root._bokeh_is_loading = css_urls.length + js_urls.length;\n\n    function on_load() {\n      root._bokeh_is_loading--;\n      if (root._bokeh_is_loading === 0) {\n        console.debug(\"Bokeh: all BokehJS libraries/stylesheets loaded\");\n        run_callbacks()\n      }\n    }\n\n    function on_error() {\n      console.error(\"failed to load \" + url);\n    }\n\n    for (var i = 0; i < css_urls.length; i++) {\n      var url = css_urls[i];\n      const element = document.createElement(\"link\");\n      element.onload = on_load;\n      element.onerror = on_error;\n      element.rel = \"stylesheet\";\n      element.type = \"text/css\";\n      element.href = url;\n      console.debug(\"Bokeh: injecting link tag for BokehJS stylesheet: \", url);\n      document.body.appendChild(element);\n    }\n\n    for (var i = 0; i < js_urls.length; i++) {\n      var url = js_urls[i];\n      var element = document.createElement('script');\n      element.onload = on_load;\n      element.onerror = on_error;\n      element.async = false;\n      element.src = url;\n      \n      console.debug(\"Bokeh: injecting script tag for BokehJS library: \", url);\n      document.head.appendChild(element);\n    }\n  };var element = document.getElementById(\"1002\");\n  if (element == null) {\n    console.error(\"Bokeh: ERROR: autoload.js configured with elementid '1002' but no matching script tag was found. \")\n    return false;\n  }\n\n  function inject_raw_css(css) {\n    const element = document.createElement(\"style\");\n    element.appendChild(document.createTextNode(css));\n    document.body.appendChild(element);\n  }\n\n  \n  var js_urls = [\"https://cdn.bokeh.org/bokeh/release/bokeh-2.0.0.min.js\", \"https://cdn.bokeh.org/bokeh/release/bokeh-widgets-2.0.0.min.js\", \"https://cdn.bokeh.org/bokeh/release/bokeh-tables-2.0.0.min.js\", \"https://cdn.bokeh.org/bokeh/release/bokeh-gl-2.0.0.min.js\"];\n  var css_urls = [];\n  \n\n  var inline_js = [\n    function(Bokeh) {\n      Bokeh.set_log_level(\"info\");\n    },\n    function(Bokeh) {\n    \n    \n    }\n  ];\n\n  function run_inline_js() {\n    \n    if (root.Bokeh !== undefined || force === true) {\n      \n    for (var i = 0; i < inline_js.length; i++) {\n      inline_js[i].call(root, root.Bokeh);\n    }\n    if (force === true) {\n        display_loaded();\n      }} else if (Date.now() < root._bokeh_timeout) {\n      setTimeout(run_inline_js, 100);\n    } else if (!root._bokeh_failed_load) {\n      console.log(\"Bokeh: BokehJS failed to load within specified timeout.\");\n      root._bokeh_failed_load = true;\n    } else if (force !== true) {\n      var cell = $(document.getElementById(\"1002\")).parents('.cell').data().cell;\n      cell.output_area.append_execute_result(NB_LOAD_WARNING)\n    }\n\n  }\n\n  if (root._bokeh_is_loading === 0) {\n    console.debug(\"Bokeh: BokehJS loaded, going straight to plotting\");\n    run_inline_js();\n  } else {\n    load_libs(css_urls, js_urls, function() {\n      console.debug(\"Bokeh: BokehJS plotting callback run at\", now());\n      run_inline_js();\n    });\n  }\n}(window));",
      "application/vnd.bokehjs_load.v0+json": "\n(function(root) {\n  function now() {\n    return new Date();\n  }\n\n  var force = true;\n\n  if (typeof root._bokeh_onload_callbacks === \"undefined\" || force === true) {\n    root._bokeh_onload_callbacks = [];\n    root._bokeh_is_loading = undefined;\n  }\n\n  \n\n  \n  if (typeof (root._bokeh_timeout) === \"undefined\" || force === true) {\n    root._bokeh_timeout = Date.now() + 5000;\n    root._bokeh_failed_load = false;\n  }\n\n  var NB_LOAD_WARNING = {'data': {'text/html':\n     \"<div style='background-color: #fdd'>\\n\"+\n     \"<p>\\n\"+\n     \"BokehJS does not appear to have successfully loaded. If loading BokehJS from CDN, this \\n\"+\n     \"may be due to a slow or bad network connection. Possible fixes:\\n\"+\n     \"</p>\\n\"+\n     \"<ul>\\n\"+\n     \"<li>re-rerun `output_notebook()` to attempt to load from CDN again, or</li>\\n\"+\n     \"<li>use INLINE resources instead, as so:</li>\\n\"+\n     \"</ul>\\n\"+\n     \"<code>\\n\"+\n     \"from bokeh.resources import INLINE\\n\"+\n     \"output_notebook(resources=INLINE)\\n\"+\n     \"</code>\\n\"+\n     \"</div>\"}};\n\n  function display_loaded() {\n    var el = document.getElementById(\"1002\");\n    if (el != null) {\n      el.textContent = \"BokehJS is loading...\";\n    }\n    if (root.Bokeh !== undefined) {\n      if (el != null) {\n        el.textContent = \"BokehJS \" + root.Bokeh.version + \" successfully loaded.\";\n      }\n    } else if (Date.now() < root._bokeh_timeout) {\n      setTimeout(display_loaded, 100)\n    }\n  }\n\n\n  function run_callbacks() {\n    try {\n      root._bokeh_onload_callbacks.forEach(function(callback) {\n        if (callback != null)\n          callback();\n      });\n    } finally {\n      delete root._bokeh_onload_callbacks\n    }\n    console.debug(\"Bokeh: all callbacks have finished\");\n  }\n\n  function load_libs(css_urls, js_urls, callback) {\n    if (css_urls == null) css_urls = [];\n    if (js_urls == null) js_urls = [];\n\n    root._bokeh_onload_callbacks.push(callback);\n    if (root._bokeh_is_loading > 0) {\n      console.debug(\"Bokeh: BokehJS is being loaded, scheduling callback at\", now());\n      return null;\n    }\n    if (js_urls == null || js_urls.length === 0) {\n      run_callbacks();\n      return null;\n    }\n    console.debug(\"Bokeh: BokehJS not loaded, scheduling load and callback at\", now());\n    root._bokeh_is_loading = css_urls.length + js_urls.length;\n\n    function on_load() {\n      root._bokeh_is_loading--;\n      if (root._bokeh_is_loading === 0) {\n        console.debug(\"Bokeh: all BokehJS libraries/stylesheets loaded\");\n        run_callbacks()\n      }\n    }\n\n    function on_error() {\n      console.error(\"failed to load \" + url);\n    }\n\n    for (var i = 0; i < css_urls.length; i++) {\n      var url = css_urls[i];\n      const element = document.createElement(\"link\");\n      element.onload = on_load;\n      element.onerror = on_error;\n      element.rel = \"stylesheet\";\n      element.type = \"text/css\";\n      element.href = url;\n      console.debug(\"Bokeh: injecting link tag for BokehJS stylesheet: \", url);\n      document.body.appendChild(element);\n    }\n\n    for (var i = 0; i < js_urls.length; i++) {\n      var url = js_urls[i];\n      var element = document.createElement('script');\n      element.onload = on_load;\n      element.onerror = on_error;\n      element.async = false;\n      element.src = url;\n      \n      console.debug(\"Bokeh: injecting script tag for BokehJS library: \", url);\n      document.head.appendChild(element);\n    }\n  };var element = document.getElementById(\"1002\");\n  if (element == null) {\n    console.error(\"Bokeh: ERROR: autoload.js configured with elementid '1002' but no matching script tag was found. \")\n    return false;\n  }\n\n  function inject_raw_css(css) {\n    const element = document.createElement(\"style\");\n    element.appendChild(document.createTextNode(css));\n    document.body.appendChild(element);\n  }\n\n  \n  var js_urls = [\"https://cdn.bokeh.org/bokeh/release/bokeh-2.0.0.min.js\", \"https://cdn.bokeh.org/bokeh/release/bokeh-widgets-2.0.0.min.js\", \"https://cdn.bokeh.org/bokeh/release/bokeh-tables-2.0.0.min.js\", \"https://cdn.bokeh.org/bokeh/release/bokeh-gl-2.0.0.min.js\"];\n  var css_urls = [];\n  \n\n  var inline_js = [\n    function(Bokeh) {\n      Bokeh.set_log_level(\"info\");\n    },\n    function(Bokeh) {\n    \n    \n    }\n  ];\n\n  function run_inline_js() {\n    \n    if (root.Bokeh !== undefined || force === true) {\n      \n    for (var i = 0; i < inline_js.length; i++) {\n      inline_js[i].call(root, root.Bokeh);\n    }\n    if (force === true) {\n        display_loaded();\n      }} else if (Date.now() < root._bokeh_timeout) {\n      setTimeout(run_inline_js, 100);\n    } else if (!root._bokeh_failed_load) {\n      console.log(\"Bokeh: BokehJS failed to load within specified timeout.\");\n      root._bokeh_failed_load = true;\n    } else if (force !== true) {\n      var cell = $(document.getElementById(\"1002\")).parents('.cell').data().cell;\n      cell.output_area.append_execute_result(NB_LOAD_WARNING)\n    }\n\n  }\n\n  if (root._bokeh_is_loading === 0) {\n    console.debug(\"Bokeh: BokehJS loaded, going straight to plotting\");\n    run_inline_js();\n  } else {\n    load_libs(css_urls, js_urls, function() {\n      console.debug(\"Bokeh: BokehJS plotting callback run at\", now());\n      run_inline_js();\n    });\n  }\n}(window));"
     },
     "metadata": {},
     "output_type": "display_data"
    }
   ],
   "source": [
    "from bokeh.plotting import figure, output_notebook, show, output_file\n",
    "from bokeh.palettes import Blues, BuGn, viridis, Paired, plasma, PuBuGn\n",
    "from bokeh.models import FixedTicker, FactorRange,CustomJS, HoverTool,CategoricalAxis, LabelSet, Label, ColumnDataSource, widgets,CategoricalColorMapper,LinearInterpolator, LinearColorMapper, LogColorMapper\n",
    "from bokeh.models import (GMapPlot, GMapOptions, Range1d, PanTool, WheelZoomTool, BoxSelectTool, HoverTool,  ResetTool, ZoomInTool, ZoomOutTool)\n",
    "from bokeh.layouts import row, column, widgetbox\n",
    "from bokeh.models.glyphs import Patches, Line, Circle\n",
    "# from bkcharts import Histogram, output_file, show, Bar, color,  Scatter\n",
    "from bokeh.resources import CDN\n",
    "import sklearn\n",
    "from sklearn.utils.validation import check_array\n",
    "import random\n",
    "import squarify\n",
    "import pandas as pd\n",
    "import numpy as np\n",
    "from IPython.display import display, Markdown\n",
    "\n",
    "\n",
    "output_notebook()\n",
    "\n",
    "\n",
    "# "
   ]
  },
  {
   "cell_type": "code",
   "execution_count": 141,
   "metadata": {},
   "outputs": [],
   "source": [
    "\n",
    "from hcc_v23 import *\n",
    "cvars= community_aged_regression()"
   ]
  },
  {
   "cell_type": "markdown",
   "execution_count": null,
   "metadata": {},
   "outputs": [],
   "source": [
    "## Loading Data\n",
    "\n",
    "For the use of the demonstration, we have generated a condition data set using the amazing opensource library [Synthea](https://github.com/synthetichealth/synthea) which can generate \"real-looking\" but still fake data for use in testing libraries just like this. \n",
    "\n",
    "Synthea's default vocabulary is SNOMED and HCCs default vocabulary is ICD so we have mapped the SNOMED codes to roughly equivalent ICD codes in thsi dataset using the NLM SNOMED CT to ICD10 Map. \n",
    "\n",
    "\n",
    "We will also create a helper function to provide labels for the HCCs. \n",
    "\n",
    "\n",
    "\n",
    "\n"
   ]
  },
  {
   "cell_type": "code",
   "execution_count": 163,
   "metadata": {},
   "outputs": [],
   "source": [
    "conditions_synthetic_data = pd.read_csv(\"/Users/luke/Projects/hcc-python/conditions.csv\", dtype={'CODE':str, 'icd_10_code': str})\n",
    "conditions_synthetic_data['icd_10_code'] = conditions_synthetic_data['icd_10_code'].apply(lambda x:  str(x).replace('.',''))\n",
    "\n",
    "\n",
    "\n",
    "def name_hcc(label):\n",
    "  try:\n",
    "    var = hcc_labels[label][0:8]\n",
    "    return var\n",
    "  except:\n",
    "    return label[0:8]\n",
    "\n",
    "\n",
    "hcc_labels = {'HCC1':\"AIDS\",\n",
    "'HCC2':\"Septicemia\",\n",
    "'HCC6':\"Opportunistic_Infections\",\n",
    "'HCC8':\"Metastatic_Cancer\",\n",
    "'HCC9':\"Lung_Cancers\",\n",
    "'HCC10':\"Lymphoma\",\n",
    "'HCC11':\"Colorectal_Cancers\",\n",
    "'HCC12':\"Breast_Prostate_Tumors\",\n",
    "'HCC17':\"Diabetes_Acute_Complications\",\n",
    "'HCC18':\"Diabetes_Chronic\",\n",
    "'HCC19':\"Diabetes\",\n",
    "'HCC21':\"Malnutrition\",\n",
    "'HCC22':\"Obesity\",\n",
    "'HCC23':\"Endocrine\",\n",
    "'HCC27':\"ESLD\",\n",
    "'HCC28':\"Cirrhosis\",\n",
    "'HCC29':\"Hepatitis\",\n",
    "'HCC33':\"Intestinal_Obstruction\",\n",
    "'HCC34':\"Pancreatitis\",\n",
    "'HCC35':\"IBD\",\n",
    "'HCC39':\"BJM_Infections\",\n",
    "'HCC40':\"Rheumatoid_Arthritis\",\n",
    "'HCC46':\"Hematology_Disorders\",\n",
    "'HCC47':\"Immunity_Disorders\",\n",
    "'HCC48':\"Coagulation_Defects\",\n",
    "'HCC54':\"Substance_Psychosis\",\n",
    "'HCC55':\"Substance_Dependence\",\n",
    "'HCC57':\"Schizophrenia\",\n",
    "'HCC58':\"Deppresion_Bipolar\",\n",
    "'HCC70':\"Quadriplegia\",\n",
    "'HCC71':\"Paraplegia\",\n",
    "'HCC72':\"Spinal_Cord_Disorders\",\n",
    "'HCC73':\"ALS\",\n",
    "'HCC74':\"Cerebral_Palsy\",\n",
    "'HCC75':\"Myasthenia\",\n",
    "'HCC76':\"Muscular_Dystrophy\",\n",
    "'HCC77':\"Multiple_Sclerosis\",\n",
    "'HCC78':\"Parkinson_Huntington\",\n",
    "'HCC79':\"Seizures\",\n",
    "'HCC80':\"Coma\",\n",
    "'HCC82':\"Respirator_Dependence\",\n",
    "'HCC83':\"Respiratory-Arrest\",\n",
    "'HCC84':\"Cardio-Respiratory-Failure\",\n",
    "'HCC85':\"CHF\",\n",
    "'HCC86':\"AMI\",\n",
    "'HCC87':\"IVD\",\n",
    "'HCC88':\"Angina_Pectoris\",\n",
    "'HCC96':\"Arrhythmias\",\n",
    "'HCC99':\"Cerebral_Hemorrhage\",\n",
    "'HCC100':\"Stroke\",\n",
    "'HCC103':\"Hemiplegia\",\n",
    "'HCC104':\"Monoplegia\",\n",
    "'HCC106':\"Gangrene\",\n",
    "'HCC107':\"Vascular_Disease_Complications\",\n",
    "'HCC108':\"Vascular_Disease\",\n",
    "'HCC110':\"Cystic_Fibrosis\",\n",
    "'HCC111':\"COPD\",\n",
    "'HCC112':\"Fibrosis_Lung\",\n",
    "'HCC114':\"Pneumonias\",\n",
    "'HCC115':\"Pneumococcal\",\n",
    "'HCC122':\"Retinopathy\",\n",
    "'HCC124':\"Macular_Degeneration\",\n",
    "'HCC134':\"Dialysis_Status\",\n",
    "'HCC135':\"Acute_Renal_Failure\",\n",
    "'HCC136':\"CKD5\",\n",
    "'HCC137':\"CKD6\",\n",
    "'HCC157':\"Ulcer_Necrosis\",\n",
    "'HCC158':\"Ulcer_Skin_Loss\",\n",
    "'HCC161':\"Ulcer_Chronic\",\n",
    "'HCC162':\"Burn\",\n",
    "'HCC166':\"Head_Injury_Severe\",\n",
    "'HCC167':\"Head_Injury\",\n",
    "'HCC169':\"Spinal_Cord\",\n",
    "'HCC170':\"Hip_Fracture\",\n",
    "'HCC173':\"Amputation\",\n",
    "'HCC176':\"Graft_Implant\",\n",
    "'HCC186':\"Organ_Transplant\",\n",
    "'HCC188':\"Artifical_Opening\",\n",
    "'HCC189':\"Amputation_Complicated\"}"
   ]
  },
  {
   "cell_type": "code",
   "execution_count": 153,
   "metadata": {},
   "outputs": [],
   "source": [
    "top_diags = conditions_synthetic_data.groupby('PATIENT').count()['icd_10_code'].sort_values().tail(2)\n",
    "patient_1 = top_diags.index[0]\n",
    "patient_2 = top_diags.index[1]\n",
    "\n"
   ]
  },
  {
   "cell_type": "code",
   "execution_count": 154,
   "metadata": {},
   "outputs": [
    {
     "data": {
      "text/markdown": "To load the data into the HCC library, you create beneficiary objects and add the diagnosis codes. Our example patient has **27** seperate diagnosis codes to be added.\n\nThe same use case can be used for whenever users have diagnosis codes from multiple sources such as from:\n* at-home assesments from a third-party\n* mined medical records\n* other sources based on outreach efforts.\n\nThe library allows the developer/analyst to compare the output of the sources and compare the uplift(or downlift). \n\nOur example patient here is being named 'Jane'. \n",
      "text/plain": "<IPython.core.display.Markdown object>"
     },
     "execution_count": 154,
     "metadata": {},
     "output_type": "execute_result"
    }
   ],
   "source": [
    "Markdown(f'''To load the data into the HCC library, you create beneficiary objects and add the diagnosis codes. Our example patient has **{conditions_synthetic_data.groupby('PATIENT').count().loc[patient_1]['CODE']}** seperate diagnosis codes to be added.\n",
    "\n",
    "The same use case can be used for whenever users have diagnosis codes from multiple sources such as from:\n",
    "* at-home assesments from a third-party\n",
    "* mined medical records\n",
    "* other sources based on outreach efforts.\n",
    "\n",
    "The library allows the developer/analyst to compare the output of the sources and compare the uplift(or downlift). \n",
    "\n",
    "Our example patient here is being named 'Jane'. \n",
    "''')\n"
   ]
  },
  {
   "cell_type": "code",
   "execution_count": 155,
   "metadata": {},
   "outputs": [
    {
     "data": {
      "text/html": "<div>\n<style scoped>\n    .dataframe tbody tr th:only-of-type {\n        vertical-align: middle;\n    }\n\n    .dataframe tbody tr th {\n        vertical-align: top;\n    }\n\n    .dataframe thead th {\n        text-align: right;\n    }\n</style>\n<table border=\"1\" class=\"dataframe\">\n  <thead>\n    <tr style=\"text-align: right;\">\n      <th></th>\n      <th>START</th>\n      <th>STOP</th>\n      <th>PATIENT</th>\n      <th>ENCOUNTER</th>\n      <th>CODE</th>\n      <th>DESCRIPTION</th>\n      <th>icd_10_code</th>\n    </tr>\n  </thead>\n  <tbody>\n    <tr>\n      <th>50663</th>\n      <td>1943-08-17</td>\n      <td>NaN</td>\n      <td>7b5ed251-b412-4a25-af47-8c55de1c1e67</td>\n      <td>53ba9dae-bb90-4009-a0ca-52b15ae29882</td>\n      <td>162864005</td>\n      <td>Body mass index 30+ - obesity (finding)</td>\n      <td>E669</td>\n    </tr>\n    <tr>\n      <th>50664</th>\n      <td>1952-08-26</td>\n      <td>NaN</td>\n      <td>7b5ed251-b412-4a25-af47-8c55de1c1e67</td>\n      <td>c248e591-4efe-4ef8-9170-2ff14b38783d</td>\n      <td>449868002</td>\n      <td>Smokes tobacco daily</td>\n      <td>Z720</td>\n    </tr>\n    <tr>\n      <th>50665</th>\n      <td>1959-06-23</td>\n      <td>NaN</td>\n      <td>7b5ed251-b412-4a25-af47-8c55de1c1e67</td>\n      <td>79bcab05-3844-4bfb-99ef-9bf266897256</td>\n      <td>44054006</td>\n      <td>Diabetes</td>\n      <td>E119</td>\n    </tr>\n    <tr>\n      <th>50666</th>\n      <td>1959-06-23</td>\n      <td>NaN</td>\n      <td>7b5ed251-b412-4a25-af47-8c55de1c1e67</td>\n      <td>79bcab05-3844-4bfb-99ef-9bf266897256</td>\n      <td>271737000</td>\n      <td>Anemia (disorder)</td>\n      <td>D649</td>\n    </tr>\n    <tr>\n      <th>50667</th>\n      <td>1961-06-27</td>\n      <td>NaN</td>\n      <td>7b5ed251-b412-4a25-af47-8c55de1c1e67</td>\n      <td>e8831d39-f832-416b-94b6-7ba72806fbdc</td>\n      <td>302870006</td>\n      <td>Hypertriglyceridemia (disorder)</td>\n      <td>E781</td>\n    </tr>\n    <tr>\n      <th>50668</th>\n      <td>1961-06-27</td>\n      <td>NaN</td>\n      <td>7b5ed251-b412-4a25-af47-8c55de1c1e67</td>\n      <td>e8831d39-f832-416b-94b6-7ba72806fbdc</td>\n      <td>237602007</td>\n      <td>Metabolic syndrome X (disorder)</td>\n      <td>E8881</td>\n    </tr>\n    <tr>\n      <th>50669</th>\n      <td>1962-04-24</td>\n      <td>NaN</td>\n      <td>7b5ed251-b412-4a25-af47-8c55de1c1e67</td>\n      <td>2199de83-0840-45ae-8f3f-0ebed916c37a</td>\n      <td>431855005</td>\n      <td>Chronic kidney disease stage 1 (disorder)</td>\n      <td>nan</td>\n    </tr>\n    <tr>\n      <th>50670</th>\n      <td>1962-04-24</td>\n      <td>NaN</td>\n      <td>7b5ed251-b412-4a25-af47-8c55de1c1e67</td>\n      <td>2199de83-0840-45ae-8f3f-0ebed916c37a</td>\n      <td>127013003</td>\n      <td>Diabetic renal disease (disorder)</td>\n      <td>E1121</td>\n    </tr>\n    <tr>\n      <th>50671</th>\n      <td>1963-05-27</td>\n      <td>NaN</td>\n      <td>7b5ed251-b412-4a25-af47-8c55de1c1e67</td>\n      <td>d3d61ac6-a2c1-4ed0-b45d-93ef8a8123aa</td>\n      <td>90560007</td>\n      <td>Gout</td>\n      <td>M109</td>\n    </tr>\n    <tr>\n      <th>50672</th>\n      <td>1963-06-18</td>\n      <td>NaN</td>\n      <td>7b5ed251-b412-4a25-af47-8c55de1c1e67</td>\n      <td>768afb24-fefd-4127-920e-c37f255caa9e</td>\n      <td>431856006</td>\n      <td>Chronic kidney disease stage 2 (disorder)</td>\n      <td>nan</td>\n    </tr>\n    <tr>\n      <th>50673</th>\n      <td>1963-06-18</td>\n      <td>NaN</td>\n      <td>7b5ed251-b412-4a25-af47-8c55de1c1e67</td>\n      <td>768afb24-fefd-4127-920e-c37f255caa9e</td>\n      <td>90781000119102</td>\n      <td>Microalbuminuria due to type 2 diabetes mellit...</td>\n      <td>R809</td>\n    </tr>\n    <tr>\n      <th>50674</th>\n      <td>1966-09-25</td>\n      <td>NaN</td>\n      <td>7b5ed251-b412-4a25-af47-8c55de1c1e67</td>\n      <td>d0d11be3-a5a0-4feb-9277-72f4a81e9023</td>\n      <td>40055000</td>\n      <td>Chronic sinusitis (disorder)</td>\n      <td>J329</td>\n    </tr>\n    <tr>\n      <th>50677</th>\n      <td>1982-10-12</td>\n      <td>NaN</td>\n      <td>7b5ed251-b412-4a25-af47-8c55de1c1e67</td>\n      <td>e67c9915-d159-4454-8775-96b7881a2b56</td>\n      <td>126906006</td>\n      <td>Neoplasm of prostate</td>\n      <td>D4959</td>\n    </tr>\n    <tr>\n      <th>50678</th>\n      <td>1982-10-12</td>\n      <td>NaN</td>\n      <td>7b5ed251-b412-4a25-af47-8c55de1c1e67</td>\n      <td>e67c9915-d159-4454-8775-96b7881a2b56</td>\n      <td>92691004</td>\n      <td>Carcinoma in situ of prostate (disorder)</td>\n      <td>D075</td>\n    </tr>\n    <tr>\n      <th>50681</th>\n      <td>1993-04-20</td>\n      <td>NaN</td>\n      <td>7b5ed251-b412-4a25-af47-8c55de1c1e67</td>\n      <td>23384291-c5a8-45dc-99e8-754354d6da32</td>\n      <td>230690007</td>\n      <td>Stroke</td>\n      <td>I639</td>\n    </tr>\n    <tr>\n      <th>50682</th>\n      <td>2011-07-22</td>\n      <td>2011-09-20</td>\n      <td>7b5ed251-b412-4a25-af47-8c55de1c1e67</td>\n      <td>91dae0f4-54fe-4da5-990d-21075b9d8248</td>\n      <td>65966004</td>\n      <td>Fracture of forearm</td>\n      <td>S5290X?</td>\n    </tr>\n    <tr>\n      <th>50683</th>\n      <td>2012-08-20</td>\n      <td>2012-09-03</td>\n      <td>7b5ed251-b412-4a25-af47-8c55de1c1e67</td>\n      <td>df0a89a4-06b5-46e3-96f7-c9a2146d6ff7</td>\n      <td>444814009</td>\n      <td>Viral sinusitis (disorder)</td>\n      <td>B349</td>\n    </tr>\n    <tr>\n      <th>50684</th>\n      <td>2014-01-10</td>\n      <td>2014-01-17</td>\n      <td>7b5ed251-b412-4a25-af47-8c55de1c1e67</td>\n      <td>8f202fb5-5dd3-4236-a367-c5e73b8ccd21</td>\n      <td>195662009</td>\n      <td>Acute viral pharyngitis (disorder)</td>\n      <td>J029</td>\n    </tr>\n    <tr>\n      <th>50685</th>\n      <td>2014-10-29</td>\n      <td>2014-11-05</td>\n      <td>7b5ed251-b412-4a25-af47-8c55de1c1e67</td>\n      <td>db52fa2e-b20a-4db0-a9d1-a83b93d1888c</td>\n      <td>10509002</td>\n      <td>Acute bronchitis (disorder)</td>\n      <td>J209</td>\n    </tr>\n    <tr>\n      <th>50686</th>\n      <td>2015-07-26</td>\n      <td>2015-08-16</td>\n      <td>7b5ed251-b412-4a25-af47-8c55de1c1e67</td>\n      <td>1d4e779d-9a07-4f50-889d-a29256c34975</td>\n      <td>444814009</td>\n      <td>Viral sinusitis (disorder)</td>\n      <td>B349</td>\n    </tr>\n    <tr>\n      <th>50687</th>\n      <td>2015-11-17</td>\n      <td>NaN</td>\n      <td>7b5ed251-b412-4a25-af47-8c55de1c1e67</td>\n      <td>9b506d51-9ea6-4a4d-ba0c-6a9ec0082006</td>\n      <td>49436004</td>\n      <td>Atrial Fibrillation</td>\n      <td>I4891</td>\n    </tr>\n    <tr>\n      <th>50688</th>\n      <td>2016-05-21</td>\n      <td>2016-05-28</td>\n      <td>7b5ed251-b412-4a25-af47-8c55de1c1e67</td>\n      <td>9d3282e6-a681-444c-98f5-a1ead2c019cd</td>\n      <td>444814009</td>\n      <td>Viral sinusitis (disorder)</td>\n      <td>B349</td>\n    </tr>\n    <tr>\n      <th>50689</th>\n      <td>2016-07-31</td>\n      <td>2016-08-14</td>\n      <td>7b5ed251-b412-4a25-af47-8c55de1c1e67</td>\n      <td>2625930e-577c-4d36-8157-a24363a5fbab</td>\n      <td>10509002</td>\n      <td>Acute bronchitis (disorder)</td>\n      <td>J209</td>\n    </tr>\n    <tr>\n      <th>50690</th>\n      <td>2017-06-01</td>\n      <td>NaN</td>\n      <td>7b5ed251-b412-4a25-af47-8c55de1c1e67</td>\n      <td>836e54e9-bdd0-4f72-9a22-23b1330ccd3b</td>\n      <td>88805009</td>\n      <td>Chronic congestive heart failure (disorder)</td>\n      <td>I509</td>\n    </tr>\n    <tr>\n      <th>50691</th>\n      <td>2017-10-27</td>\n      <td>2017-11-10</td>\n      <td>7b5ed251-b412-4a25-af47-8c55de1c1e67</td>\n      <td>8ded4cff-d26d-4970-84a7-d785e4aea503</td>\n      <td>444814009</td>\n      <td>Viral sinusitis (disorder)</td>\n      <td>B349</td>\n    </tr>\n    <tr>\n      <th>50692</th>\n      <td>2018-04-03</td>\n      <td>NaN</td>\n      <td>7b5ed251-b412-4a25-af47-8c55de1c1e67</td>\n      <td>4e3b2ace-22db-4a8d-9d21-25bd77f94aa6</td>\n      <td>53741008</td>\n      <td>Coronary Heart Disease</td>\n      <td>I2510</td>\n    </tr>\n    <tr>\n      <th>50696</th>\n      <td>2019-05-12</td>\n      <td>2019-06-02</td>\n      <td>7b5ed251-b412-4a25-af47-8c55de1c1e67</td>\n      <td>9d8bb873-0080-4d0d-b55c-84395c96a29d</td>\n      <td>444814009</td>\n      <td>Viral sinusitis (disorder)</td>\n      <td>B349</td>\n    </tr>\n  </tbody>\n</table>\n</div>",
      "text/plain": "            START        STOP                               PATIENT  \\\n50663  1943-08-17         NaN  7b5ed251-b412-4a25-af47-8c55de1c1e67   \n50664  1952-08-26         NaN  7b5ed251-b412-4a25-af47-8c55de1c1e67   \n50665  1959-06-23         NaN  7b5ed251-b412-4a25-af47-8c55de1c1e67   \n50666  1959-06-23         NaN  7b5ed251-b412-4a25-af47-8c55de1c1e67   \n50667  1961-06-27         NaN  7b5ed251-b412-4a25-af47-8c55de1c1e67   \n50668  1961-06-27         NaN  7b5ed251-b412-4a25-af47-8c55de1c1e67   \n50669  1962-04-24         NaN  7b5ed251-b412-4a25-af47-8c55de1c1e67   \n50670  1962-04-24         NaN  7b5ed251-b412-4a25-af47-8c55de1c1e67   \n50671  1963-05-27         NaN  7b5ed251-b412-4a25-af47-8c55de1c1e67   \n50672  1963-06-18         NaN  7b5ed251-b412-4a25-af47-8c55de1c1e67   \n50673  1963-06-18         NaN  7b5ed251-b412-4a25-af47-8c55de1c1e67   \n50674  1966-09-25         NaN  7b5ed251-b412-4a25-af47-8c55de1c1e67   \n50677  1982-10-12         NaN  7b5ed251-b412-4a25-af47-8c55de1c1e67   \n50678  1982-10-12         NaN  7b5ed251-b412-4a25-af47-8c55de1c1e67   \n50681  1993-04-20         NaN  7b5ed251-b412-4a25-af47-8c55de1c1e67   \n50682  2011-07-22  2011-09-20  7b5ed251-b412-4a25-af47-8c55de1c1e67   \n50683  2012-08-20  2012-09-03  7b5ed251-b412-4a25-af47-8c55de1c1e67   \n50684  2014-01-10  2014-01-17  7b5ed251-b412-4a25-af47-8c55de1c1e67   \n50685  2014-10-29  2014-11-05  7b5ed251-b412-4a25-af47-8c55de1c1e67   \n50686  2015-07-26  2015-08-16  7b5ed251-b412-4a25-af47-8c55de1c1e67   \n50687  2015-11-17         NaN  7b5ed251-b412-4a25-af47-8c55de1c1e67   \n50688  2016-05-21  2016-05-28  7b5ed251-b412-4a25-af47-8c55de1c1e67   \n50689  2016-07-31  2016-08-14  7b5ed251-b412-4a25-af47-8c55de1c1e67   \n50690  2017-06-01         NaN  7b5ed251-b412-4a25-af47-8c55de1c1e67   \n50691  2017-10-27  2017-11-10  7b5ed251-b412-4a25-af47-8c55de1c1e67   \n50692  2018-04-03         NaN  7b5ed251-b412-4a25-af47-8c55de1c1e67   \n50696  2019-05-12  2019-06-02  7b5ed251-b412-4a25-af47-8c55de1c1e67   \n\n                                  ENCOUNTER            CODE  \\\n50663  53ba9dae-bb90-4009-a0ca-52b15ae29882       162864005   \n50664  c248e591-4efe-4ef8-9170-2ff14b38783d       449868002   \n50665  79bcab05-3844-4bfb-99ef-9bf266897256        44054006   \n50666  79bcab05-3844-4bfb-99ef-9bf266897256       271737000   \n50667  e8831d39-f832-416b-94b6-7ba72806fbdc       302870006   \n50668  e8831d39-f832-416b-94b6-7ba72806fbdc       237602007   \n50669  2199de83-0840-45ae-8f3f-0ebed916c37a       431855005   \n50670  2199de83-0840-45ae-8f3f-0ebed916c37a       127013003   \n50671  d3d61ac6-a2c1-4ed0-b45d-93ef8a8123aa        90560007   \n50672  768afb24-fefd-4127-920e-c37f255caa9e       431856006   \n50673  768afb24-fefd-4127-920e-c37f255caa9e  90781000119102   \n50674  d0d11be3-a5a0-4feb-9277-72f4a81e9023        40055000   \n50677  e67c9915-d159-4454-8775-96b7881a2b56       126906006   \n50678  e67c9915-d159-4454-8775-96b7881a2b56        92691004   \n50681  23384291-c5a8-45dc-99e8-754354d6da32       230690007   \n50682  91dae0f4-54fe-4da5-990d-21075b9d8248        65966004   \n50683  df0a89a4-06b5-46e3-96f7-c9a2146d6ff7       444814009   \n50684  8f202fb5-5dd3-4236-a367-c5e73b8ccd21       195662009   \n50685  db52fa2e-b20a-4db0-a9d1-a83b93d1888c        10509002   \n50686  1d4e779d-9a07-4f50-889d-a29256c34975       444814009   \n50687  9b506d51-9ea6-4a4d-ba0c-6a9ec0082006        49436004   \n50688  9d3282e6-a681-444c-98f5-a1ead2c019cd       444814009   \n50689  2625930e-577c-4d36-8157-a24363a5fbab        10509002   \n50690  836e54e9-bdd0-4f72-9a22-23b1330ccd3b        88805009   \n50691  8ded4cff-d26d-4970-84a7-d785e4aea503       444814009   \n50692  4e3b2ace-22db-4a8d-9d21-25bd77f94aa6        53741008   \n50696  9d8bb873-0080-4d0d-b55c-84395c96a29d       444814009   \n\n                                             DESCRIPTION icd_10_code  \n50663            Body mass index 30+ - obesity (finding)        E669  \n50664                               Smokes tobacco daily        Z720  \n50665                                           Diabetes        E119  \n50666                                  Anemia (disorder)        D649  \n50667                    Hypertriglyceridemia (disorder)        E781  \n50668                    Metabolic syndrome X (disorder)       E8881  \n50669          Chronic kidney disease stage 1 (disorder)         nan  \n50670                  Diabetic renal disease (disorder)       E1121  \n50671                                               Gout        M109  \n50672          Chronic kidney disease stage 2 (disorder)         nan  \n50673  Microalbuminuria due to type 2 diabetes mellit...        R809  \n50674                       Chronic sinusitis (disorder)        J329  \n50677                               Neoplasm of prostate       D4959  \n50678           Carcinoma in situ of prostate (disorder)        D075  \n50681                                             Stroke        I639  \n50682                                Fracture of forearm     S5290X?  \n50683                         Viral sinusitis (disorder)        B349  \n50684                 Acute viral pharyngitis (disorder)        J029  \n50685                        Acute bronchitis (disorder)        J209  \n50686                         Viral sinusitis (disorder)        B349  \n50687                                Atrial Fibrillation       I4891  \n50688                         Viral sinusitis (disorder)        B349  \n50689                        Acute bronchitis (disorder)        J209  \n50690        Chronic congestive heart failure (disorder)        I509  \n50691                         Viral sinusitis (disorder)        B349  \n50692                             Coronary Heart Disease       I2510  \n50696                         Viral sinusitis (disorder)        B349  "
     },
     "execution_count": 155,
     "metadata": {},
     "output_type": "execute_result"
    }
   ],
   "source": [
    "conditions_synthetic_data[conditions_synthetic_data.PATIENT == patient_1]"
   ]
  },
  {
   "cell_type": "code",
   "execution_count": 158,
   "metadata": {},
   "outputs": [],
   "source": [
    "jane = Beneficiary(hicno=patient_1, sex='female', dob='19480601')\n",
    "jane_alt = Beneficiary(hicno=patient_2, sex='male', dob='19480601')\n",
    "\n",
    "#antonio.add_diagnosis(Diagnosis(antonio,\"49320\",ICDType.NINE))\n",
    "\n",
    "\n",
    "for row in conditions_synthetic_data[conditions_synthetic_data.PATIENT == patient_1].itertuples():\n",
    "    code = row.icd_10_code\n",
    "    jane.add_diagnosis(Diagnosis(jane,code, int(ICDType.TEN)))\n",
    "\n"
   ]
  },
  {
   "cell_type": "markdown",
   "execution_count": null,
   "metadata": {},
   "outputs": [],
   "source": [
    "The library can output scores across all of the CMS-HCC models including instituional, new enrollee, and community rated groups. For 2017, there will be nine seperate models and will update to allow for that. "
   ]
  },
  {
   "cell_type": "code",
   "execution_count": 159,
   "metadata": {},
   "outputs": [
    {
     "name": "stdout",
     "output_type": "stream",
     "text": "X                  | Score             \n-------------------|-------------------\ninstitutional      | 2.1519999999999997\ncommunity_disabled | 1.551             \ncommunity          | 1.8969999999999998\n"
    }
   ],
   "source": [
    "beneficiary_has_hcc(jane, X)\n",
    "\n",
    "print(score(jane,X,Score))"
   ]
  },
  {
   "cell_type": "markdown",
   "execution_count": null,
   "metadata": {},
   "outputs": [],
   "source": [
    "## Understand the Mechanics\n",
    "\n",
    "Getting the score is just one data point, what about how that score worked? the HCC models consists over close to 190 disease categories and complex disease interactions. With our library, the analyst can access the underlying coefficients that are used for this patient. \n",
    "\n",
    "In the example below, we are using our sample patient 'Jane' and asking the system to obtain all the indicator variables this patient is eligible. We can also see all the parts that lead up to this score. \n",
    "\n",
    "![diagram](./diagram.png)\n",
    "\n",
    "The query below is based on this idea. Identify all indicators and underlying categories and codes that are true for this patient. "
   ]
  },
  {
   "cell_type": "code",
   "execution_count": 160,
   "metadata": {},
   "outputs": [
    {
     "name": "stdout",
     "output_type": "stream",
     "text": "[('HCC96', 'D4959', 0, 0.276), ('HCC96', 'J329', 0, 0.276), ('HCC96', 'E119', 0, 0.276), ('HCC96', 'I4891', 0, 0.276), ('HCC96', 'M109', 0, 0.276), ('HCC96', 'I639', 0, 0.276), ('HCC96', 'J029', 0, 0.276), ('HCC96', 'E1121', 0, 0.276), ('HCC96', 'Z720', 0, 0.276), ('HCC96', 'E781', 0, 0.276), ('HCC96', 'E8881', 0, 0.276), ('HCC96', 'nan', 0, 0.276), ('HCC96', 'D649', 0, 0.276), ('HCC96', 'R809', 0, 0.276), ('HCC96', 'S5290X?', 0, 0.276), ('HCC96', 'D075', 0, 0.276), ('HCC96', 'J209', 0, 0.276), ('HCC96', 'I509', 0, 0.276), ('HCC96', 'E669', 0, 0.276), ('HCC96', 'I2510', 0, 0.276), ('HCC96', 'B349', 0, 0.276), ('HCC85', 'D4959', 0, 0.361), ('HCC85', 'J329', 0, 0.361), ('HCC85', 'E119', 0, 0.361), ('HCC85', 'I4891', 0, 0.361), ('HCC85', 'M109', 0, 0.361), ('HCC85', 'I639', 0, 0.361), ('HCC85', 'J029', 0, 0.361), ('HCC85', 'E1121', 0, 0.361), ('HCC85', 'Z720', 0, 0.361)]\n"
    }
   ],
   "source": [
    "\n",
    "results = indicator(jane,CC) & beneficiary_icd(jane,ICD,Type)  & CC.in_(cvars) & coefficient(\"CE_\"+CC,Coef)   \n",
    "print(results[0:30])"
   ]
  },
  {
   "cell_type": "code",
   "execution_count": 168,
   "metadata": {},
   "outputs": [],
   "source": [
    "x = 0\n",
    "y = 0\n",
    "width = 40\n",
    "height = 40\n",
    "jane_coefs = indicator(jane,CC)  & CC.in_(cvars) & coefficient(\"CE_\"+CC,Coef)\n",
    "jane_coefs = sorted(jane_coefs,key= lambda val:  val[1], reverse=True)\n",
    "\n",
    "normed = squarify.normalize_sizes([value for name, value in jane_coefs], width, height)\n",
    "rects = squarify.squarify(normed, x, y, width, height)\n",
    "shapes = []\n",
    "annotations = []\n",
    "counter = 0\n",
    "for r in rects:\n",
    "    name, value = jane_coefs[counter]\n",
    "    shapes.append(\n",
    "        dict(\n",
    "            x0 = r['x'] + r['dx']/2 ,\n",
    "            y0 = r['y'] + r['dy']/2 , \n",
    "            width = r['dx'],\n",
    "            height = r['dy'],\n",
    "            color=random.choice(Paired[12]),\n",
    "            text=name,\n",
    "            score=value,\n",
    "            x1 = r['x'],\n",
    "            y1 = r['y']\n",
    "        ) \n",
    "    )\n",
    "    counter = counter + 1\n",
    "\n",
    "mapper = LinearColorMapper(palette=['#7fcdbb', '#41b6c4', '#1d91c0', '#225ea8', '#08589e'])\n",
    "\n",
    "r_data = ColumnDataSource(ColumnDataSource.from_df(pd.DataFrame.from_dict(shapes)))\n",
    "r_data.data['text'] = [name_hcc(label) for label in r_data.data['text']]\n",
    "\n",
    "q = figure(x_range=Range1d(x, width), y_range=Range1d(y, height), title='Condition Contribution to Jane Risk Score in Year 1')\n",
    "q.rect( x='x0', y='y0', width='width', height='height', fill_color={'field':'score', 'transform':mapper},\n",
    "           line_alpha=1, line_color='#FFFFFF', source=r_data)\n",
    "q.text(x='x1', y='y1', text='text', source=r_data, x_offset=3, y_offset=1\n",
    "       , text_font_size='8pt')\n",
    "q.xaxis.visible = False\n",
    "q.yaxis.visible = False\n",
    "\n",
    "\n",
    "\n"
   ]
  },
  {
   "cell_type": "code",
   "execution_count": 169,
   "metadata": {},
   "outputs": [
    {
     "data": {
      "text/html": "\n\n\n\n\n\n  <div class=\"bk-root\" id=\"90d6e395-d15e-4f05-bc59-dbfa379899af\" data-root-id=\"1152\"></div>\n"
     },
     "metadata": {},
     "output_type": "display_data"
    },
    {
     "data": {
      "application/javascript": "(function(root) {\n  function embed_document(root) {\n    \n  var docs_json = {\"1d8a21c7-fed9-4ce0-b4de-a5be47daa87b\":{\"roots\":{\"references\":[{\"attributes\":{\"below\":[{\"id\":\"1161\"}],\"center\":[{\"id\":\"1164\"},{\"id\":\"1168\"}],\"left\":[{\"id\":\"1165\"}],\"renderers\":[{\"id\":\"1185\"},{\"id\":\"1190\"}],\"title\":{\"id\":\"1153\"},\"toolbar\":{\"id\":\"1175\"},\"x_range\":{\"id\":\"1150\"},\"x_scale\":{\"id\":\"1157\"},\"y_range\":{\"id\":\"1151\"},\"y_scale\":{\"id\":\"1159\"}},\"id\":\"1152\",\"subtype\":\"Figure\",\"type\":\"Plot\"},{\"attributes\":{},\"id\":\"1170\",\"type\":\"WheelZoomTool\"},{\"attributes\":{},\"id\":\"1206\",\"type\":\"UnionRenderers\"},{\"attributes\":{\"source\":{\"id\":\"1149\"}},\"id\":\"1191\",\"type\":\"CDSView\"},{\"attributes\":{},\"id\":\"1166\",\"type\":\"BasicTicker\"},{\"attributes\":{\"data_source\":{\"id\":\"1149\"},\"glyph\":{\"id\":\"1183\"},\"hover_glyph\":null,\"muted_glyph\":null,\"nonselection_glyph\":{\"id\":\"1184\"},\"selection_glyph\":null,\"view\":{\"id\":\"1186\"}},\"id\":\"1185\",\"type\":\"GlyphRenderer\"},{\"attributes\":{\"data\":{\"color\":[\"#cab2d6\",\"#cab2d6\",\"#b15928\",\"#ffff99\",\"#fb9a99\",\"#e31a1c\"],\"height\":{\"__ndarray__\":\"kZH6xKBsNEBwbgU7X5MzQAudwQqdwTZAC53BCp3BNkD1Yj71Yj4xQPdiPvViPjFA\",\"dtype\":\"float64\",\"shape\":[6]},\"index\":[0,1,2,3,4,5],\"score\":{\"__ndarray__\":\"tMh2vp8a1z++nxov3STWP2q8dJMYBNY/HVpkO99P1T9Ei2zn+6nRP7x0kxgEVs4/\",\"dtype\":\"float64\",\"shape\":[6]},\"text\":[\"CHF\",\"F70_74\",\"Diabetes\",\"Stroke\",\"Arrhythm\",\"DIABETES\"],\"width\":{\"__ndarray__\":\"FpixfMTQLUAWmLF8xNAtQMPGtvb8fylAKKGXjD6vKEBTZrsZ9v8qQJcBk2lFLydA\",\"dtype\":\"float64\",\"shape\":[6]},\"x0\":{\"__ndarray__\":\"FpixfMTQHUAWmLF8xNAdQLx9BnxhSDVA2wttLhjqQECgpcfEX6g1QM2fzVIXGkFA\",\"dtype\":\"float64\",\"shape\":[6]},\"x1\":{\"__ndarray__\":\"AAAAAAAAAAAAAAAAAAAAABaYsXzE0C1AbC+0uWCoO0AWmLF8xNAtQDR/NktdaDxA\",\"dtype\":\"float64\",\"shape\":[6]},\"y0\":{\"__ndarray__\":\"kZH6xKBsJEDJSH1iUDY+QAudwQqdwSZAC53BCp3BJkCGzmCFzmA/QIbOYIXOYD9A\",\"dtype\":\"float64\",\"shape\":[6]},\"y1\":{\"__ndarray__\":\"AAAAAAAAAACRkfrEoGw0QAAAAAAAAAAAAAAAAAAAAAALncEKncE2QAudwQqdwTZA\",\"dtype\":\"float64\",\"shape\":[6]}},\"selected\":{\"id\":\"1205\"},\"selection_policy\":{\"id\":\"1206\"}},\"id\":\"1149\",\"type\":\"ColumnDataSource\"},{\"attributes\":{\"source\":{\"id\":\"1149\"}},\"id\":\"1186\",\"type\":\"CDSView\"},{\"attributes\":{\"overlay\":{\"id\":\"1207\"}},\"id\":\"1171\",\"type\":\"BoxZoomTool\"},{\"attributes\":{},\"id\":\"1173\",\"type\":\"ResetTool\"},{\"attributes\":{\"formatter\":{\"id\":\"1203\"},\"ticker\":{\"id\":\"1166\"},\"visible\":false},\"id\":\"1165\",\"type\":\"LinearAxis\"},{\"attributes\":{},\"id\":\"1174\",\"type\":\"HelpTool\"},{\"attributes\":{\"text\":\"Condition Contribution to Jane Risk Score in Year 1\"},\"id\":\"1153\",\"type\":\"Title\"},{\"attributes\":{\"formatter\":{\"id\":\"1201\"},\"ticker\":{\"id\":\"1162\"},\"visible\":false},\"id\":\"1161\",\"type\":\"LinearAxis\"},{\"attributes\":{},\"id\":\"1172\",\"type\":\"SaveTool\"},{\"attributes\":{\"fill_color\":{\"field\":\"score\",\"transform\":{\"id\":\"1148\"}},\"height\":{\"field\":\"height\",\"units\":\"data\"},\"line_color\":{\"value\":\"#FFFFFF\"},\"width\":{\"field\":\"width\",\"units\":\"data\"},\"x\":{\"field\":\"x0\"},\"y\":{\"field\":\"y0\"}},\"id\":\"1183\",\"type\":\"Rect\"},{\"attributes\":{},\"id\":\"1203\",\"type\":\"BasicTickFormatter\"},{\"attributes\":{},\"id\":\"1205\",\"type\":\"Selection\"},{\"attributes\":{\"text_alpha\":{\"value\":0.1},\"text_color\":{\"value\":\"black\"},\"text_font_size\":{\"value\":\"8pt\"},\"x\":{\"field\":\"x1\"},\"x_offset\":{\"value\":3},\"y\":{\"field\":\"y1\"},\"y_offset\":{\"value\":1}},\"id\":\"1189\",\"type\":\"Text\"},{\"attributes\":{},\"id\":\"1169\",\"type\":\"PanTool\"},{\"attributes\":{\"text_color\":{\"value\":\"black\"},\"text_font_size\":{\"value\":\"8pt\"},\"x\":{\"field\":\"x1\"},\"x_offset\":{\"value\":3},\"y\":{\"field\":\"y1\"},\"y_offset\":{\"value\":1}},\"id\":\"1188\",\"type\":\"Text\"},{\"attributes\":{},\"id\":\"1201\",\"type\":\"BasicTickFormatter\"},{\"attributes\":{},\"id\":\"1157\",\"type\":\"LinearScale\"},{\"attributes\":{},\"id\":\"1159\",\"type\":\"LinearScale\"},{\"attributes\":{},\"id\":\"1162\",\"type\":\"BasicTicker\"},{\"attributes\":{\"palette\":[\"#7fcdbb\",\"#41b6c4\",\"#1d91c0\",\"#225ea8\",\"#08589e\"]},\"id\":\"1148\",\"type\":\"LinearColorMapper\"},{\"attributes\":{\"data_source\":{\"id\":\"1149\"},\"glyph\":{\"id\":\"1188\"},\"hover_glyph\":null,\"muted_glyph\":null,\"nonselection_glyph\":{\"id\":\"1189\"},\"selection_glyph\":null,\"view\":{\"id\":\"1191\"}},\"id\":\"1190\",\"type\":\"GlyphRenderer\"},{\"attributes\":{\"axis\":{\"id\":\"1161\"},\"ticker\":null},\"id\":\"1164\",\"type\":\"Grid\"},{\"attributes\":{\"bottom_units\":\"screen\",\"fill_alpha\":0.5,\"fill_color\":\"lightgrey\",\"left_units\":\"screen\",\"level\":\"overlay\",\"line_alpha\":1.0,\"line_color\":\"black\",\"line_dash\":[4,4],\"line_width\":2,\"render_mode\":\"css\",\"right_units\":\"screen\",\"top_units\":\"screen\"},\"id\":\"1207\",\"type\":\"BoxAnnotation\"},{\"attributes\":{\"end\":40},\"id\":\"1151\",\"type\":\"Range1d\"},{\"attributes\":{\"fill_alpha\":{\"value\":0.1},\"fill_color\":{\"field\":\"score\",\"transform\":{\"id\":\"1148\"}},\"height\":{\"field\":\"height\",\"units\":\"data\"},\"line_alpha\":{\"value\":0.1},\"line_color\":{\"value\":\"#FFFFFF\"},\"width\":{\"field\":\"width\",\"units\":\"data\"},\"x\":{\"field\":\"x0\"},\"y\":{\"field\":\"y0\"}},\"id\":\"1184\",\"type\":\"Rect\"},{\"attributes\":{\"end\":40},\"id\":\"1150\",\"type\":\"Range1d\"},{\"attributes\":{\"active_drag\":\"auto\",\"active_inspect\":\"auto\",\"active_multi\":null,\"active_scroll\":\"auto\",\"active_tap\":\"auto\",\"tools\":[{\"id\":\"1169\"},{\"id\":\"1170\"},{\"id\":\"1171\"},{\"id\":\"1172\"},{\"id\":\"1173\"},{\"id\":\"1174\"}]},\"id\":\"1175\",\"type\":\"Toolbar\"},{\"attributes\":{\"axis\":{\"id\":\"1165\"},\"dimension\":1,\"ticker\":null},\"id\":\"1168\",\"type\":\"Grid\"}],\"root_ids\":[\"1152\"]},\"title\":\"Bokeh Application\",\"version\":\"2.0.0\"}};\n  var render_items = [{\"docid\":\"1d8a21c7-fed9-4ce0-b4de-a5be47daa87b\",\"root_ids\":[\"1152\"],\"roots\":{\"1152\":\"90d6e395-d15e-4f05-bc59-dbfa379899af\"}}];\n  root.Bokeh.embed.embed_items_notebook(docs_json, render_items);\n\n  }\n  if (root.Bokeh !== undefined) {\n    embed_document(root);\n  } else {\n    var attempts = 0;\n    var timer = setInterval(function(root) {\n      if (root.Bokeh !== undefined) {\n        clearInterval(timer);\n        embed_document(root);\n      } else {\n        attempts++;\n        if (attempts > 100) {\n          clearInterval(timer);\n          console.log(\"Bokeh: ERROR: Unable to run BokehJS code because BokehJS library is missing\");\n        }\n      }\n    }, 10, root)\n  }\n})(window);",
      "application/vnd.bokehjs_exec.v0+json": ""
     },
     "metadata": {
      "application/vnd.bokehjs_exec.v0+json": {
       "id": "1152"
      }
     },
     "output_type": "display_data"
    }
   ],
   "source": [
    "show(q)\n"
   ]
  },
  {
   "cell_type": "markdown",
   "execution_count": null,
   "metadata": {},
   "outputs": [],
   "source": [
    "## Scaling Up\n",
    "\n",
    "So far we have been focused on doing this with only one patient but it is also possible for us to scale up the calculation (all the way to a full population). Here we will do 100 patients. "
   ]
  },
  {
   "cell_type": "code",
   "execution_count": 226,
   "metadata": {},
   "outputs": [],
   "source": [
    "cohort_study = list(conditions_synthetic_data.PATIENT.value_counts().index[0:100])\n"
   ]
  },
  {
   "cell_type": "code",
   "execution_count": 232,
   "metadata": {},
   "outputs": [],
   "source": [
    "\n",
    "\n",
    "\n",
    "cohort_patients = [Beneficiary(hicno=row, sex=random.choice(('male','female')), dob='19450101') for row in cohort_study]\n"
   ]
  },
  {
   "cell_type": "code",
   "execution_count": 233,
   "metadata": {},
   "outputs": [],
   "source": [
    "\n",
    "diags = {}\n",
    "for patient in cohort_patients:\n",
    "    patient_diagnoses = [row.icd_10_code for row in conditions_synthetic_data[conditions_synthetic_data.PATIENT == patient.hicno].itertuples()]\n",
    "    diags[patient] = patient_diagnoses\n",
    "\n",
    "\n"
   ]
  },
  {
   "cell_type": "code",
   "execution_count": 234,
   "metadata": {},
   "outputs": [],
   "source": [
    "for patient, diags in diags.items():\n",
    "    for code in diags:\n",
    "        patient.add_diagnosis(Diagnosis(patient,code,ICDType.TEN))"
   ]
  },
  {
   "cell_type": "code",
   "execution_count": 238,
   "metadata": {},
   "outputs": [
    {
     "data": {
      "text/plain": "[[(1.311,)],\n [],\n [(1.5510000000000002,)],\n [(0.571,)],\n [(1.02,)],\n [(0.677,)],\n [(0.124,)],\n [(1.803,)],\n [(2.0580000000000003,)],\n [(0.124,)]]"
     },
     "execution_count": 238,
     "metadata": {},
     "output_type": "execute_result"
    }
   ],
   "source": [
    "cohort_score  = [score(pat,\"community\",Score) for pat in cohort_patients[0:10]]\n",
    "cohort_score"
   ]
  }
 ],
 "metadata": {
  "kernelspec": {
   "display_name": "Python 3",
   "language": "python",
   "name": "python3"
  },
  "language_info": {
   "codemirror_mode": {
    "name": "ipython",
    "version": 3
   },
   "file_extension": ".py",
   "mimetype": "text/x-python",
   "name": "python",
   "nbconvert_exporter": "python",
   "pygments_lexer": "ipython3",
   "version": "3.7.4-final"
  }
 },
 "nbformat": 4,
 "nbformat_minor": 2
}